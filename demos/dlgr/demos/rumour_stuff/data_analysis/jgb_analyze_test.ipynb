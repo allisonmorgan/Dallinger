{
 "cells": [
  {
   "cell_type": "code",
   "execution_count": 1,
   "metadata": {},
   "outputs": [],
   "source": [
    "import pandas as pd\n",
    "import numpy as np\n",
    "import os\n",
    "\n",
    "import seaborn as sns\n",
    "sns.set(font_scale=1.5)\n",
    "sns.set_style(\"white\")\n",
    "import pylab as plt\n",
    "\n",
    "%matplotlib inline\n",
    "\n"
   ]
  },
  {
   "cell_type": "markdown",
   "metadata": {},
   "source": [
    "# Some transforming"
   ]
  },
  {
   "cell_type": "code",
   "execution_count": 2,
   "metadata": {},
   "outputs": [],
   "source": [
    "story_original = \"Through history, most people didn't die of cancer or heart disease, the lifestyle diseases that are common in the Western world today. This is mostly because people didn't live long enough to develop them. They died of injuries -- being gored by an ox, shot on a battlefield, crushed in one of the new factories of the Industrial Revolution -- and most of the time from infection, which followed those injuries.\\n\\nThat changed when antibiotics were discovered. In 1928, Alexander Fleming discovered penicillin, a drug still used today to fight bacterial infections. Suddenly, infections that had been a death sentence became remedied within days. During World War II, this drug treated pneumonia and sepsis, and has been estimated to have saved between 12-15% of Allied Forces lives. We have been living inside the golden epoch of the miracle drugs, and now, we are coming to an end of it.\\n\\nPeople are dying of infections again because of a phenomenon called antibiotic resistance, or popularly referred to as “superbugs”. Bacteria compete against each other for resources, for food, by manufacturing lethal compounds that they direct against each other. When we first made antibiotics, we took those compounds into the lab and made our own versions of them, and bacteria responded to our attack the way they always had.\\n\\nFor 70 years, we played a game of leapfrog -- our drug and their resistance, and then another drug, and then resistance again -- and now the game is ending. Bacteria develop resistance so quickly that pharmaceutical companies have decided making antibiotics is not in their best interest, so there are infections moving across the world for which, out of the more than 100 antibiotics available on the market, two drugs might work with side effects, or one drug, or none.\\n\\nIt would be natural to hope that these infections are extraordinary cases, but in fact, in the United States and Europe, 50 thousand people a year die of infections which no drugs can help. A project chartered by the British government known as the Review on Antimicrobial Resistance estimates that the worldwide toll right now is 700 thousand deaths a year. Also, if we can't get this under control by 2050, the worldwide toll will be 10 million deaths a year (more than the current population of New York City).\\n\\nThe scale of antibiotic resistance seems overwhelming, but if you've ever bought a fluorescent light bulb because you were concerned about climate change, you already know what it feels like to take a tiny step to address an overwhelming problem. We could take those kinds of steps for antibiotic use too. We could forgo giving an antibiotic for our kids’ ear infection, if we're not sure it's the right one. And we could promise each other to never again to buy chicken or shrimp or fruit raised with routine antibiotic use. If we did those things, we could slow down the arrival of the post-antibiotic world.\"\n",
    "story_original = story_original.replace(\"\\n\",\" \")"
   ]
  },
  {
   "cell_type": "code",
   "execution_count": 3,
   "metadata": {},
   "outputs": [
    {
     "data": {
      "text/plain": [
       "-1"
      ]
     },
     "execution_count": 3,
     "metadata": {},
     "output_type": "execute_result"
    }
   ],
   "source": [
    "story_original.find(\"\\t\")"
   ]
  },
  {
   "cell_type": "code",
   "execution_count": 19,
   "metadata": {},
   "outputs": [],
   "source": [
    "chain = pd.read_csv('data/pilot1x10_sept_27/info_cleaned.csv')\n",
    "network = pd.read_csv('data/pilot3x5x5_sept_30/info_cleaned.csv')"
   ]
  },
  {
   "cell_type": "code",
   "execution_count": 5,
   "metadata": {
    "scrolled": false
   },
   "outputs": [],
   "source": [
    "with open('data/pilot3x5x5_sept_30/info_cleaned_jgb.csv',\"w+\") as f:\n",
    "    f.write(\"{}\\t{}\\t{}\\t{}\\t{}\\t{}\\n\".format(\"layer_n\",\"rep\",\"story1\",\"story2\",\"story3\",\"story_merged\"))\n",
    "\n",
    "    for i,rep in network.groupby(\"replication\"):\n",
    "       \n",
    "        #f.write(\"{}\\t{}\\t{}\\t{}\\t{}\\t{}\\n\".format(\"0\",i,story_original,story_original,story_original,story_original))\n",
    "        \n",
    "        for rn,row in rep.sort_values(by=\"generation\").iterrows():\n",
    "            \n",
    "            gen = row[\"generation\"]\n",
    "          \n",
    "            story_merged = row[\"response\"]\n",
    "            if gen < 1:\n",
    "                story1,story2,story3 = story_original,story_original,story_original\n",
    "            else:\n",
    "                story1,story2,story3 = rep.loc[rep[\"generation\"]==gen-1,\"response\"].values\n",
    "          \n",
    "            f.write(\"{}\\t{}\\t{}\\t{}\\t{}\\t{}\\n\".format(gen+1,i,story1.replace(\"\\n\",\" \"),story2.replace(\"\\n\",\" \"),story3.replace(\"\\n\",\" \"),story_merged.replace(\"\\n\",\" \")))\n"
   ]
  },
  {
   "cell_type": "code",
   "execution_count": 6,
   "metadata": {},
   "outputs": [],
   "source": [
    "with open('data/pilot1x10_sept_27/info_cleaned_jgb.csv',\"w+\") as f:\n",
    "    f.write(\"{}\\t{}\\t{}\\t{}\\t{}\\t{}\\n\".format(\"layer_n\",\"rep\",\"story1\",\"story2\",\"story3\",\"story_merged\"))\n",
    "    \n",
    "    for i,rep in chain.groupby(\"replication\"):\n",
    "        \n",
    "        #f.write(\"{}\\t{}\\t{}\\t{}\\t{}\\t{}\\n\".format(\"0\",i,story_original,story_original,story_original,story_original))\n",
    "        for rn,row in rep.sort_values(by=\"generation\").iterrows():\n",
    "            gen = row[\"generation\"]\n",
    "          \n",
    "            story_merged = row[\"response\"]\n",
    "            if gen < 1:\n",
    "                story1,story2,story3 = story_original,story_original,story_original\n",
    "            else:\n",
    "                pv = rep.loc[rep[\"generation\"]==gen-1,\"response\"].values[0]\n",
    "                story1,story2,story3 = pv,pv,pv\n",
    "            f.write(\"{}\\t{}\\t{}\\t{}\\t{}\\t{}\\n\".format(gen+1,i,story1.replace(\"\\n\",\" \"),story2.replace(\"\\n\",\" \"),story3.replace(\"\\n\",\" \"),story_merged.replace(\"\\n\",\" \")))"
   ]
  },
  {
   "cell_type": "code",
   "execution_count": null,
   "metadata": {},
   "outputs": [],
   "source": []
  },
  {
   "cell_type": "markdown",
   "metadata": {},
   "source": [
    "# General functions"
   ]
  },
  {
   "cell_type": "code",
   "execution_count": 7,
   "metadata": {},
   "outputs": [],
   "source": [
    "def story2set(story):\n",
    "    if isinstance(story,float):\n",
    "        return np.NaN\n",
    "    else:\n",
    "        return set(story.lower().split())\n",
    "\n",
    "def jaccard(strs):\n",
    "    str1,str2 = strs\n",
    "    if isinstance(str1,float) or isinstance(str2,float):\n",
    "        return np.NaN\n",
    "    return len(str1 & str2)/ len(str1 | str2)\n",
    "\n",
    "def propagation(strs):\n",
    "    str1,str2,str3 = strs\n",
    "    if isinstance(str1,float) or isinstance(str2,float)  or isinstance(str3,float):\n",
    "        return np.NaN\n",
    "    return len(str1&str2&str3)/len(str1|str2|str3)\n",
    "\n",
    "def inference(strs):    \n",
    "    str1,str2,str3 = strs\n",
    "    if isinstance(str1,float) or isinstance(str2,float)  or isinstance(str3,float):\n",
    "        return np.NaN\n",
    "    return len((str3-str1)-str2)/len(str1|str2|str3)\n",
    "\n",
    "\n",
    "def forgetting(strs):    \n",
    "    str1,str2,str3 = strs\n",
    "    if isinstance(str1,float) or isinstance(str2,float)  or isinstance(str3,float):\n",
    "        return np.NaN\n",
    "    return len((str1&str2)-str3)/len(str1|str2|str3)\n",
    "    \n",
    "def union(strs):\n",
    "    str1,str2,str3 = strs\n",
    "    if isinstance(str1,float) or isinstance(str2,float)  or isinstance(str3,float):\n",
    "        return np.NaN\n",
    "\n",
    "    return (len(str3&(str1-str2))+len(str3&(str2-str1)))/len(str1|str2|str3)\n",
    "    \n",
    "    \n",
    "\n",
    "def create_similarity(data):\n",
    "    \"\"\"\n",
    "    Calculate Jaccard index with previous stories\n",
    "    \"\"\"\n",
    "    #Add original story\n",
    "    data[\"story_original\"] = story_original\n",
    "    \n",
    "    for col in [\"story1\",\"story2\",\"story3\",\"story_merged\",\"story_original\"]:\n",
    "        data.loc[:,col] = data.loc[:,col].apply(story2set)\n",
    "    \n",
    "    \n",
    "    #Similarity with story1\n",
    "    data[\"jaccard_1\"] = data[[\"story1\",\"story_merged\"]].apply(jaccard,axis=1)\n",
    "    #Similarity with story2\n",
    "    data[\"jaccard_2\"] = data[[\"story2\",\"story_merged\"]].apply(jaccard,axis=1)\n",
    "    #Similarity with story2\n",
    "    data[\"jaccard_3\"] = data[[\"story3\",\"story_merged\"]].apply(jaccard,axis=1)\n",
    "    #Average similarity with previous layer\n",
    "    data[\"jaccard_previous_layer\"] = data[[\"jaccard_1\",\"jaccard_2\",\"jaccard_3\"]].max(1)\n",
    "    #Similarity with story_original\n",
    "    data[\"jaccard_original_story\"] = data[[\"story_merged\",\"story_original\"]].apply(jaccard,axis=1)\n",
    "\n",
    "\n",
    "    \n",
    "    return data\n",
    "\n",
    "\n",
    "def create_interactions(data):\n",
    "    \"\"\"\n",
    "    Find motifs \n",
    "    \"\"\"\n",
    "    \n",
    "    data[\"propagation\"] =data[[\"story1\",\"story2\",\"story_merged\"]].apply(propagation,axis=1)\n",
    "    data[\"inference\"] =data[[\"story1\",\"story2\",\"story_merged\"]].apply(inference,axis=1)\n",
    "    data[\"forgetting\"] =data[[\"story1\",\"story2\",\"story_merged\"]].apply(forgetting,axis=1)\n",
    "    data[\"union\"] =data[[\"story1\",\"story2\",\"story_merged\"]].apply(union,axis=1)\n",
    "    return data\n",
    "    "
   ]
  },
  {
   "cell_type": "markdown",
   "metadata": {},
   "source": [
    "# Concatenating data"
   ]
  },
  {
   "cell_type": "code",
   "execution_count": 8,
   "metadata": {
    "scrolled": true
   },
   "outputs": [],
   "source": [
    "network = pd.read_csv(\"data/pilot3x5x5_sept_30/info_cleaned_jgb.csv\",sep=\"\\t\")\n",
    "chains = pd.read_csv(\"data/pilot1x10_sept_27/info_cleaned_jgb.csv\",sep=\"\\t\")\n",
    "network = create_similarity(network)\n",
    "network[\"condition\"] = \"network\"\n",
    "chains = create_similarity(chains)\n",
    "chains[\"condition\"] = \"chain\"\n",
    "\n",
    "results = pd.concat([network,chains])"
   ]
  },
  {
   "cell_type": "markdown",
   "metadata": {},
   "source": [
    "# Plot"
   ]
  },
  {
   "cell_type": "code",
   "execution_count": 9,
   "metadata": {},
   "outputs": [],
   "source": [
    "def set_style(name):\n",
    "    plt.xlabel(\"Layer number\")\n",
    "    plt.ylabel(name)\n",
    "    plt.grid(\"on\")\n",
    "    plt.rc('axes', linewidth=2)\n",
    "    sns.despine()"
   ]
  },
  {
   "cell_type": "code",
   "execution_count": 10,
   "metadata": {},
   "outputs": [
    {
     "data": {
      "image/png": "[encoded data removed]",
      "text/plain": [
       "<Figure size 432x288 with 1 Axes>"
      ]
     },
     "metadata": {
      "needs_background": "light"
     },
     "output_type": "display_data"
    }
   ],
   "source": [
    "sns.lineplot(x=\"layer_n\",y=\"jaccard_previous_layer\",hue=\"condition\",data=results,lw=2,marker=\"o\",markersize=10)\n",
    "set_style(\"Similarity with previous layer\")\n"
   ]
  },
  {
   "cell_type": "code",
   "execution_count": 11,
   "metadata": {},
   "outputs": [
    {
     "data": {
      "image/png": "[encoded data removed]",
      "text/plain": [
       "<Figure size 432x288 with 1 Axes>"
      ]
     },
     "metadata": {
      "needs_background": "light"
     },
     "output_type": "display_data"
    }
   ],
   "source": [
    "sns.lineplot(x=\"layer_n\",y=\"jaccard_original_story\",hue=\"condition\",data=results,lw=2,marker=\"o\",markersize=10)\n",
    "set_style(\"Similarity with original story\")"
   ]
  },
  {
   "cell_type": "code",
   "execution_count": null,
   "metadata": {},
   "outputs": [],
   "source": []
  },
  {
   "cell_type": "code",
   "execution_count": 12,
   "metadata": {},
   "outputs": [
    {
     "data": {
      "text/html": [
       "<div>\n",
       "<style scoped>\n",
       "    .dataframe tbody tr th:only-of-type {\n",
       "        vertical-align: middle;\n",
       "    }\n",
       "\n",
       "    .dataframe tbody tr th {\n",
       "        vertical-align: top;\n",
       "    }\n",
       "\n",
       "    .dataframe thead th {\n",
       "        text-align: right;\n",
       "    }\n",
       "</style>\n",
       "<table border=\"1\" class=\"dataframe\">\n",
       "  <thead>\n",
       "    <tr style=\"text-align: right;\">\n",
       "      <th></th>\n",
       "      <th>layer_n</th>\n",
       "      <th>rep</th>\n",
       "      <th>story1</th>\n",
       "      <th>story2</th>\n",
       "      <th>story3</th>\n",
       "      <th>story_merged</th>\n",
       "      <th>story_original</th>\n",
       "      <th>jaccard_1</th>\n",
       "      <th>jaccard_2</th>\n",
       "      <th>jaccard_3</th>\n",
       "      <th>jaccard_previous_layer</th>\n",
       "      <th>jaccard_original_story</th>\n",
       "      <th>condition</th>\n",
       "    </tr>\n",
       "  </thead>\n",
       "  <tbody>\n",
       "    <tr>\n",
       "      <td>0</td>\n",
       "      <td>1</td>\n",
       "      <td>0</td>\n",
       "      <td>{saved, always, into, market,, are, under, lif...</td>\n",
       "      <td>{saved, always, into, market,, are, under, lif...</td>\n",
       "      <td>{saved, always, into, market,, are, under, lif...</td>\n",
       "      <td>{saved, are, only, certain, not, now, foods, a...</td>\n",
       "      <td>{saved, always, into, market,, are, under, lif...</td>\n",
       "      <td>0.220779</td>\n",
       "      <td>0.220779</td>\n",
       "      <td>0.220779</td>\n",
       "      <td>0.220779</td>\n",
       "      <td>0.220779</td>\n",
       "      <td>network</td>\n",
       "    </tr>\n",
       "    <tr>\n",
       "      <td>1</td>\n",
       "      <td>1</td>\n",
       "      <td>0</td>\n",
       "      <td>{saved, always, into, market,, are, under, lif...</td>\n",
       "      <td>{saved, always, into, market,, are, under, lif...</td>\n",
       "      <td>{saved, always, into, market,, are, under, lif...</td>\n",
       "      <td>{into, bacterium., now, wwii., jobs., leading,...</td>\n",
       "      <td>{saved, always, into, market,, are, under, lif...</td>\n",
       "      <td>0.146269</td>\n",
       "      <td>0.146269</td>\n",
       "      <td>0.146269</td>\n",
       "      <td>0.146269</td>\n",
       "      <td>0.146269</td>\n",
       "      <td>network</td>\n",
       "    </tr>\n",
       "    <tr>\n",
       "      <td>2</td>\n",
       "      <td>1</td>\n",
       "      <td>0</td>\n",
       "      <td>{saved, always, into, market,, are, under, lif...</td>\n",
       "      <td>{saved, always, into, market,, are, under, lif...</td>\n",
       "      <td>{saved, always, into, market,, are, under, lif...</td>\n",
       "      <td>{saved, are, not, living, now, help, ground, 1...</td>\n",
       "      <td>{saved, always, into, market,, are, under, lif...</td>\n",
       "      <td>0.159091</td>\n",
       "      <td>0.159091</td>\n",
       "      <td>0.159091</td>\n",
       "      <td>0.159091</td>\n",
       "      <td>0.159091</td>\n",
       "      <td>network</td>\n",
       "    </tr>\n",
       "    <tr>\n",
       "      <td>3</td>\n",
       "      <td>2</td>\n",
       "      <td>0</td>\n",
       "      <td>{saved, are, only, certain, not, now, foods, a...</td>\n",
       "      <td>{into, bacterium., now, wwii., jobs., leading,...</td>\n",
       "      <td>{saved, are, not, living, now, help, ground, 1...</td>\n",
       "      <td>{saved, are, not, possibility, could, another,...</td>\n",
       "      <td>{saved, always, into, market,, are, under, lif...</td>\n",
       "      <td>0.151111</td>\n",
       "      <td>0.123377</td>\n",
       "      <td>0.165680</td>\n",
       "      <td>0.165680</td>\n",
       "      <td>0.121581</td>\n",
       "      <td>network</td>\n",
       "    </tr>\n",
       "    <tr>\n",
       "      <td>4</td>\n",
       "      <td>2</td>\n",
       "      <td>0</td>\n",
       "      <td>{saved, are, only, certain, not, now, foods, a...</td>\n",
       "      <td>{into, bacterium., now, wwii., jobs., leading,...</td>\n",
       "      <td>{saved, are, not, living, now, help, ground, 1...</td>\n",
       "      <td>{saved, the, are, even, an, many, however, inj...</td>\n",
       "      <td>{saved, always, into, market,, are, under, lif...</td>\n",
       "      <td>0.117647</td>\n",
       "      <td>0.136000</td>\n",
       "      <td>0.136986</td>\n",
       "      <td>0.136986</td>\n",
       "      <td>0.083333</td>\n",
       "      <td>network</td>\n",
       "    </tr>\n",
       "  </tbody>\n",
       "</table>\n",
       "</div>"
      ],
      "text/plain": [
       "   layer_n  rep                                             story1  \\\n",
       "0        1    0  {saved, always, into, market,, are, under, lif...   \n",
       "1        1    0  {saved, always, into, market,, are, under, lif...   \n",
       "2        1    0  {saved, always, into, market,, are, under, lif...   \n",
       "3        2    0  {saved, are, only, certain, not, now, foods, a...   \n",
       "4        2    0  {saved, are, only, certain, not, now, foods, a...   \n",
       "\n",
       "                                              story2  \\\n",
       "0  {saved, always, into, market,, are, under, lif...   \n",
       "1  {saved, always, into, market,, are, under, lif...   \n",
       "2  {saved, always, into, market,, are, under, lif...   \n",
       "3  {into, bacterium., now, wwii., jobs., leading,...   \n",
       "4  {into, bacterium., now, wwii., jobs., leading,...   \n",
       "\n",
       "                                              story3  \\\n",
       "0  {saved, always, into, market,, are, under, lif...   \n",
       "1  {saved, always, into, market,, are, under, lif...   \n",
       "2  {saved, always, into, market,, are, under, lif...   \n",
       "3  {saved, are, not, living, now, help, ground, 1...   \n",
       "4  {saved, are, not, living, now, help, ground, 1...   \n",
       "\n",
       "                                        story_merged  \\\n",
       "0  {saved, are, only, certain, not, now, foods, a...   \n",
       "1  {into, bacterium., now, wwii., jobs., leading,...   \n",
       "2  {saved, are, not, living, now, help, ground, 1...   \n",
       "3  {saved, are, not, possibility, could, another,...   \n",
       "4  {saved, the, are, even, an, many, however, inj...   \n",
       "\n",
       "                                      story_original  jaccard_1  jaccard_2  \\\n",
       "0  {saved, always, into, market,, are, under, lif...   0.220779   0.220779   \n",
       "1  {saved, always, into, market,, are, under, lif...   0.146269   0.146269   \n",
       "2  {saved, always, into, market,, are, under, lif...   0.159091   0.159091   \n",
       "3  {saved, always, into, market,, are, under, lif...   0.151111   0.123377   \n",
       "4  {saved, always, into, market,, are, under, lif...   0.117647   0.136000   \n",
       "\n",
       "   jaccard_3  jaccard_previous_layer  jaccard_original_story condition  \n",
       "0   0.220779                0.220779                0.220779   network  \n",
       "1   0.146269                0.146269                0.146269   network  \n",
       "2   0.159091                0.159091                0.159091   network  \n",
       "3   0.165680                0.165680                0.121581   network  \n",
       "4   0.136986                0.136986                0.083333   network  "
      ]
     },
     "execution_count": 12,
     "metadata": {},
     "output_type": "execute_result"
    }
   ],
   "source": [
    "results.head()"
   ]
  },
  {
   "cell_type": "code",
   "execution_count": null,
   "metadata": {},
   "outputs": [],
   "source": []
  }
 ],
 "metadata": {
  "anaconda-cloud": {},
  "kernelspec": {
   "display_name": "Python 3",
   "language": "python",
   "name": "python3"
  },
  "language_info": {
   "codemirror_mode": {
    "name": "ipython",
    "version": 3
   },
   "file_extension": ".py",
   "mimetype": "text/x-python",
   "name": "python",
   "nbconvert_exporter": "python",
   "pygments_lexer": "ipython3",
   "version": "3.7.4"
  }
 },
 "nbformat": 4,
 "nbformat_minor": 1
}
