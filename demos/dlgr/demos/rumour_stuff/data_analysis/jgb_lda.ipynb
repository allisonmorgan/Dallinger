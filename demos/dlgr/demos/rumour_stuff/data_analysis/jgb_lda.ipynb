{
 "cells": [
  {
   "cell_type": "code",
   "execution_count": 1,
   "metadata": {},
   "outputs": [
    {
     "name": "stdout",
     "output_type": "stream",
     "text": [
      "Requirement already satisfied: lda in /opt/anaconda3/lib/python3.7/site-packages (1.1.0)\n",
      "Requirement already satisfied: pbr<4,>=0.6 in /opt/anaconda3/lib/python3.7/site-packages (from lda) (3.1.1)\n",
      "Requirement already satisfied: numpy<2.0,>=1.13.0 in /opt/anaconda3/lib/python3.7/site-packages (from lda) (1.17.2)\n",
      "Collecting package metadata (current_repodata.json): done\n",
      "Solving environment: done\n",
      "\n",
      "# All requested packages already installed.\n",
      "\n"
     ]
    }
   ],
   "source": [
    "!pip install lda\n",
    "!conda install gensim --yes\n",
    "\n",
    "#using the tutorial from https://towardsdatascience.com/topic-modeling-and-latent-dirichlet-allocation-in-python-9bf156893c24"
   ]
  },
  {
   "cell_type": "code",
   "execution_count": 20,
   "metadata": {},
   "outputs": [],
   "source": [
    "import gensim\n",
    "from gensim.utils import simple_preprocess\n",
    "from gensim.parsing.preprocessing import STOPWORDS\n",
    "from nltk.stem import WordNetLemmatizer, SnowballStemmer\n",
    "from nltk.stem.porter import *\n",
    "import numpy as np\n",
    "import nltk\n",
    "#nltk.download('wordnet')\n",
    "\n",
    "np.random.seed(64)\n",
    "\n",
    "import lda\n",
    "import pandas as pd"
   ]
  },
  {
   "cell_type": "code",
   "execution_count": 21,
   "metadata": {},
   "outputs": [],
   "source": [
    "## pre-processing \n",
    "stemmer = SnowballStemmer(\"english\")\n",
    "def lemmatize_stemming(text):\n",
    "    return stemmer.stem(WordNetLemmatizer().lemmatize(text, pos='v'))\n",
    "\n",
    "def preprocess(text):\n",
    "    result = []\n",
    "    for token in gensim.utils.simple_preprocess(text):\n",
    "        if token not in gensim.parsing.preprocessing.STOPWORDS and len(token) > 3:\n",
    "            result.append(lemmatize_stemming(token))\n",
    "    return result"
   ]
  },
  {
   "cell_type": "code",
   "execution_count": 22,
   "metadata": {},
   "outputs": [
    {
     "data": {
      "text/html": [
       "<div>\n",
       "<style scoped>\n",
       "    .dataframe tbody tr th:only-of-type {\n",
       "        vertical-align: middle;\n",
       "    }\n",
       "\n",
       "    .dataframe tbody tr th {\n",
       "        vertical-align: top;\n",
       "    }\n",
       "\n",
       "    .dataframe thead th {\n",
       "        text-align: right;\n",
       "    }\n",
       "</style>\n",
       "<table border=\"1\" class=\"dataframe\">\n",
       "  <thead>\n",
       "    <tr style=\"text-align: right;\">\n",
       "      <th></th>\n",
       "      <th>generation</th>\n",
       "      <th>response</th>\n",
       "      <th>condition</th>\n",
       "    </tr>\n",
       "  </thead>\n",
       "  <tbody>\n",
       "    <tr>\n",
       "      <td>0</td>\n",
       "      <td>0</td>\n",
       "      <td>Most people in the past didn't die from heart ...</td>\n",
       "      <td>chain</td>\n",
       "    </tr>\n",
       "    <tr>\n",
       "      <td>1</td>\n",
       "      <td>0</td>\n",
       "      <td>Early on many people did not die of heart dise...</td>\n",
       "      <td>chain</td>\n",
       "    </tr>\n",
       "    <tr>\n",
       "      <td>2</td>\n",
       "      <td>0</td>\n",
       "      <td>In the old days, people didn't die of cancer o...</td>\n",
       "      <td>chain</td>\n",
       "    </tr>\n",
       "    <tr>\n",
       "      <td>3</td>\n",
       "      <td>0</td>\n",
       "      <td>In the past people didn't die of the diseases ...</td>\n",
       "      <td>chain</td>\n",
       "    </tr>\n",
       "    <tr>\n",
       "      <td>4</td>\n",
       "      <td>0</td>\n",
       "      <td>While antibiotics have been used to fight bact...</td>\n",
       "      <td>chain</td>\n",
       "    </tr>\n",
       "  </tbody>\n",
       "</table>\n",
       "</div>"
      ],
      "text/plain": [
       "   generation                                           response condition\n",
       "0           0  Most people in the past didn't die from heart ...     chain\n",
       "1           0  Early on many people did not die of heart dise...     chain\n",
       "2           0  In the old days, people didn't die of cancer o...     chain\n",
       "3           0  In the past people didn't die of the diseases ...     chain\n",
       "4           0  While antibiotics have been used to fight bact...     chain"
      ]
     },
     "execution_count": 22,
     "metadata": {},
     "output_type": "execute_result"
    }
   ],
   "source": [
    "##reading data\n",
    "chain = pd.read_csv('data/pilot1x10_sept_27/info_cleaned.csv')[[\"generation\",\"response\"]]\n",
    "chain[\"condition\"] = \"chain\"\n",
    "network = pd.read_csv('data/pilot3x5x5_sept_30/info_cleaned.csv')[[\"generation\",\"response\"]]\n",
    "network[\"condition\"] = \"network\"\n",
    "\n",
    "data = pd.concat([chain,network])\n",
    "data.head()"
   ]
  },
  {
   "cell_type": "code",
   "execution_count": 23,
   "metadata": {},
   "outputs": [
    {
     "data": {
      "text/plain": [
       "0    [peopl, past, heart, diseas, live, long, devel...\n",
       "1    [earli, peopl, heart, diseas, stroke, die, inf...\n",
       "2    [day, peopl, cancer, heart, diseas, modern, il...\n",
       "3    [past, peopl, diseas, common, today, live, lon...\n",
       "4    [antibiot, fight, bacteri, infect, year, effec...\n",
       "5    [peopl, live, long, experi, heart, problem, pe...\n",
       "6    [peopl, past, cancer, live, long, antibiot, pe...\n",
       "7    [decad, peopl, die, reason, cancer, heart, dis...\n",
       "8    [histori, peopl, cancer, hear, diseas, lifesty...\n",
       "9    [recent, histori, human, death, weren, caus, c...\n",
       "Name: response, dtype: object"
      ]
     },
     "execution_count": 23,
     "metadata": {},
     "output_type": "execute_result"
    }
   ],
   "source": [
    "##\n",
    "processed_docs = data['response'].map(preprocess)\n",
    "processed_docs[:10]"
   ]
  },
  {
   "cell_type": "code",
   "execution_count": 24,
   "metadata": {},
   "outputs": [
    {
     "name": "stdout",
     "output_type": "stream",
     "text": [
      "0 alexand\n",
      "1 antibiot\n",
      "2 caus\n",
      "3 citi\n",
      "4 claim\n",
      "5 come\n",
      "6 develop\n",
      "7 diseas\n",
      "8 fleme\n",
      "9 golden\n",
      "10 heart\n"
     ]
    }
   ],
   "source": [
    "#Create dictionary of words\n",
    "dictionary = gensim.corpora.Dictionary(processed_docs)\n",
    "count = 0\n",
    "for k, v in dictionary.iteritems():\n",
    "    print(k, v)\n",
    "    count += 1\n",
    "    if count > 10:\n",
    "        break"
   ]
  },
  {
   "cell_type": "code",
   "execution_count": 25,
   "metadata": {},
   "outputs": [
    {
     "data": {
      "text/plain": [
       "584"
      ]
     },
     "execution_count": 25,
     "metadata": {},
     "output_type": "execute_result"
    }
   ],
   "source": [
    "len(dictionary)"
   ]
  },
  {
   "cell_type": "code",
   "execution_count": 26,
   "metadata": {},
   "outputs": [],
   "source": [
    "#Delete extreme words\n",
    "dictionary.filter_extremes(no_below=5, no_above=0.5, keep_n=500)"
   ]
  },
  {
   "cell_type": "code",
   "execution_count": 27,
   "metadata": {},
   "outputs": [
    {
     "name": "stdout",
     "output_type": "stream",
     "text": [
      "Word 3 (\"come\") appears 1 time.\n",
      "Word 4 (\"develop\") appears 1 time.\n",
      "Word 5 (\"diseas\") appears 2 time.\n",
      "Word 7 (\"heart\") appears 1 time.\n",
      "Word 8 (\"live\") appears 1 time.\n",
      "Word 9 (\"long\") appears 1 time.\n",
      "Word 12 (\"penicillin\") appears 3 time.\n",
      "Word 15 (\"save\") appears 1 time.\n",
      "Word 16 (\"superbug\") appears 3 time.\n",
      "Word 33 (\"stronger\") appears 1 time.\n",
      "Word 35 (\"accid\") appears 1 time.\n",
      "Word 36 (\"cancer\") appears 1 time.\n",
      "Word 38 (\"cure\") appears 1 time.\n",
      "Word 39 (\"day\") appears 1 time.\n",
      "Word 49 (\"time\") appears 1 time.\n",
      "Word 50 (\"chang\") appears 1 time.\n",
      "Word 52 (\"death\") appears 1 time.\n",
      "Word 55 (\"injuri\") appears 1 time.\n",
      "Word 58 (\"today\") appears 1 time.\n",
      "Word 59 (\"treat\") appears 1 time.\n",
      "Word 61 (\"like\") appears 1 time.\n",
      "Word 67 (\"alli\") appears 1 time.\n",
      "Word 81 (\"make\") appears 1 time.\n",
      "Word 86 (\"work\") appears 1 time.\n",
      "Word 87 (\"abl\") appears 1 time.\n",
      "Word 88 (\"estim\") appears 1 time.\n",
      "Word 89 (\"introduc\") appears 1 time.\n"
     ]
    }
   ],
   "source": [
    "#Create the corpus\n",
    "bow_corpus = [dictionary.doc2bow(doc) for doc in processed_docs]\n",
    "bow_doc_4310 = bow_corpus[10]\n",
    "for i in range(len(bow_doc_4310)):\n",
    "    print(\"Word {} (\\\"{}\\\") appears {} time.\".format(bow_doc_4310[i][0], \n",
    "                                               dictionary[bow_doc_4310[i][0]], \n",
    "bow_doc_4310[i][1]))"
   ]
  },
  {
   "cell_type": "code",
   "execution_count": 28,
   "metadata": {},
   "outputs": [
    {
     "name": "stdout",
     "output_type": "stream",
     "text": [
      "[(0, 0.2038942972252099),\n",
      " (1, 0.18194116380617711),\n",
      " (2, 0.2699678674937903),\n",
      " (3, 0.2590218480054993),\n",
      " (4, 0.36388232761235423),\n",
      " (5, 0.10992934325564296),\n",
      " (6, 0.21019265565416922),\n",
      " (7, 0.14488581282424157),\n",
      " (8, 0.30828479458055397),\n",
      " (9, 0.18701002745496514),\n",
      " (10, 0.11499820690443105),\n",
      " (11, 0.17710814837761873),\n",
      " (12, 0.14147924218060778),\n",
      " (13, 0.28220447620470335),\n",
      " (14, 0.33103366855603344),\n",
      " (15, 0.16806844102344565),\n",
      " (16, 0.1923389440465296),\n",
      " (17, 0.23176453691546034),\n",
      " (18, 0.2699678674937903)]\n"
     ]
    }
   ],
   "source": [
    "# TF-IDF\n",
    "from gensim import corpora, models\n",
    "\n",
    "tfidf = models.TfidfModel(bow_corpus)\n",
    "corpus_tfidf = tfidf[bow_corpus]\n",
    "from pprint import pprint\n",
    "\n",
    "for doc in corpus_tfidf:\n",
    "    pprint(doc)\n",
    "    break"
   ]
  },
  {
   "cell_type": "code",
   "execution_count": 29,
   "metadata": {},
   "outputs": [],
   "source": [
    "# #Bag of words\n",
    "# lda_model = gensim.models.LdaMulticore(bow_corpus, num_topics=3, id2word=dictionary, passes=2, workers=6)\n",
    "\n",
    "# for idx, topic in lda_model.print_topics(-1):\n",
    "#     print('Topic: {} \\nWords: {}'.format(idx, topic))"
   ]
  },
  {
   "cell_type": "code",
   "execution_count": 73,
   "metadata": {},
   "outputs": [],
   "source": [
    "num_topics = 4\n",
    "data = pd.concat([chain,network])"
   ]
  },
  {
   "cell_type": "code",
   "execution_count": 74,
   "metadata": {},
   "outputs": [
    {
     "name": "stdout",
     "output_type": "stream",
     "text": [
      "Topic: 0 Word: 0.030*\"death\" + 0.025*\"increas\" + 0.023*\"need\" + 0.023*\"reduc\" + 0.021*\"overus\" + 0.021*\"effect\" + 0.020*\"super\" + 0.018*\"superbug\" + 0.018*\"rise\" + 0.017*\"discov\"\n",
      "Topic: 1 Word: 0.023*\"medicin\" + 0.020*\"year\" + 0.018*\"live\" + 0.018*\"develop\" + 0.017*\"problem\" + 0.017*\"million\" + 0.017*\"caus\" + 0.016*\"diseas\" + 0.016*\"chang\" + 0.016*\"ill\"\n",
      "Topic: 2 Word: 0.030*\"diseas\" + 0.029*\"potenti\" + 0.022*\"longer\" + 0.022*\"prescrib\" + 0.021*\"bodi\" + 0.021*\"immun\" + 0.020*\"help\" + 0.019*\"make\" + 0.018*\"fight\" + 0.016*\"live\"\n",
      "Topic: 3 Word: 0.031*\"cancer\" + 0.022*\"know\" + 0.022*\"invent\" + 0.021*\"save\" + 0.020*\"live\" + 0.018*\"diseas\" + 0.017*\"long\" + 0.016*\"heart\" + 0.016*\"penicillin\" + 0.016*\"bug\"\n"
     ]
    }
   ],
   "source": [
    "#Fit model: tF-idf\n",
    "lda_model_tfidf = gensim.models.LdaMulticore(corpus_tfidf, num_topics=num_topics, id2word=dictionary, passes=2, workers=4)\n",
    "\n",
    "for idx, topic in lda_model_tfidf.print_topics(-1):\n",
    "    print('Topic: {} Word: {}'.format(idx, topic))"
   ]
  },
  {
   "cell_type": "code",
   "execution_count": 75,
   "metadata": {},
   "outputs": [
    {
     "name": "stdout",
     "output_type": "stream",
     "text": [
      "\n",
      "Score: 0.9755772352218628\t \n",
      "Topic: 0.023*\"medicin\" + 0.020*\"year\" + 0.018*\"live\" + 0.018*\"develop\" + 0.017*\"problem\" + 0.017*\"million\" + 0.017*\"caus\" + 0.016*\"diseas\" + 0.016*\"chang\" + 0.016*\"ill\"\n"
     ]
    }
   ],
   "source": [
    "#Check one of the stories\n",
    "for index, score in sorted(lda_model_tfidf[bow_corpus[10]], key=lambda tup: -1*tup[1]):\n",
    "    print(\"\\nScore: {}\\t \\nTopic: {}\".format(score, lda_model_tfidf.print_topic(index, 10)))"
   ]
  },
  {
   "cell_type": "code",
   "execution_count": 76,
   "metadata": {},
   "outputs": [
    {
     "data": {
      "text/plain": [
       "[(0, 0.17406012), (1, 0.5276338), (3, 0.28929508)]"
      ]
     },
     "execution_count": 76,
     "metadata": {},
     "output_type": "execute_result"
    }
   ],
   "source": [
    "lda_model_tfidf[bow_corpus[1]]"
   ]
  },
  {
   "cell_type": "code",
   "execution_count": 77,
   "metadata": {},
   "outputs": [],
   "source": [
    "#Create the probability of being in each topic\n",
    "topics = np.zeros((num_topics,len(data)))\n",
    "for j,response in enumerate(bow_corpus):\n",
    "    values = dict(lda_model_tfidf[response])\n",
    "    for i in range(num_topics):\n",
    "        if values.get(i):\n",
    "            topics[i,j] =values[i]\n",
    "        else:\n",
    "            topics[i,j] = 0"
   ]
  },
  {
   "cell_type": "code",
   "execution_count": 78,
   "metadata": {},
   "outputs": [
    {
     "data": {
      "text/html": [
       "<div>\n",
       "<style scoped>\n",
       "    .dataframe tbody tr th:only-of-type {\n",
       "        vertical-align: middle;\n",
       "    }\n",
       "\n",
       "    .dataframe tbody tr th {\n",
       "        vertical-align: top;\n",
       "    }\n",
       "\n",
       "    .dataframe thead th {\n",
       "        text-align: right;\n",
       "    }\n",
       "</style>\n",
       "<table border=\"1\" class=\"dataframe\">\n",
       "  <thead>\n",
       "    <tr style=\"text-align: right;\">\n",
       "      <th></th>\n",
       "      <th>generation</th>\n",
       "      <th>response</th>\n",
       "      <th>condition</th>\n",
       "      <th>0</th>\n",
       "      <th>1</th>\n",
       "      <th>2</th>\n",
       "      <th>3</th>\n",
       "    </tr>\n",
       "  </thead>\n",
       "  <tbody>\n",
       "    <tr>\n",
       "      <td>0</td>\n",
       "      <td>0</td>\n",
       "      <td>Most people in the past didn't die from heart ...</td>\n",
       "      <td>chain</td>\n",
       "      <td>0.011550</td>\n",
       "      <td>0.824665</td>\n",
       "      <td>0.011374</td>\n",
       "      <td>0.152411</td>\n",
       "    </tr>\n",
       "    <tr>\n",
       "      <td>1</td>\n",
       "      <td>0</td>\n",
       "      <td>Early on many people did not die of heart dise...</td>\n",
       "      <td>chain</td>\n",
       "      <td>0.174057</td>\n",
       "      <td>0.527655</td>\n",
       "      <td>0.000000</td>\n",
       "      <td>0.289278</td>\n",
       "    </tr>\n",
       "    <tr>\n",
       "      <td>2</td>\n",
       "      <td>0</td>\n",
       "      <td>In the old days, people didn't die of cancer o...</td>\n",
       "      <td>chain</td>\n",
       "      <td>0.000000</td>\n",
       "      <td>0.971687</td>\n",
       "      <td>0.000000</td>\n",
       "      <td>0.000000</td>\n",
       "    </tr>\n",
       "    <tr>\n",
       "      <td>3</td>\n",
       "      <td>0</td>\n",
       "      <td>In the past people didn't die of the diseases ...</td>\n",
       "      <td>chain</td>\n",
       "      <td>0.010607</td>\n",
       "      <td>0.967930</td>\n",
       "      <td>0.010736</td>\n",
       "      <td>0.010727</td>\n",
       "    </tr>\n",
       "    <tr>\n",
       "      <td>4</td>\n",
       "      <td>0</td>\n",
       "      <td>While antibiotics have been used to fight bact...</td>\n",
       "      <td>chain</td>\n",
       "      <td>0.319894</td>\n",
       "      <td>0.636012</td>\n",
       "      <td>0.021799</td>\n",
       "      <td>0.022295</td>\n",
       "    </tr>\n",
       "  </tbody>\n",
       "</table>\n",
       "</div>"
      ],
      "text/plain": [
       "   generation                                           response condition  \\\n",
       "0           0  Most people in the past didn't die from heart ...     chain   \n",
       "1           0  Early on many people did not die of heart dise...     chain   \n",
       "2           0  In the old days, people didn't die of cancer o...     chain   \n",
       "3           0  In the past people didn't die of the diseases ...     chain   \n",
       "4           0  While antibiotics have been used to fight bact...     chain   \n",
       "\n",
       "          0         1         2         3  \n",
       "0  0.011550  0.824665  0.011374  0.152411  \n",
       "1  0.174057  0.527655  0.000000  0.289278  \n",
       "2  0.000000  0.971687  0.000000  0.000000  \n",
       "3  0.010607  0.967930  0.010736  0.010727  \n",
       "4  0.319894  0.636012  0.021799  0.022295  "
      ]
     },
     "execution_count": 78,
     "metadata": {},
     "output_type": "execute_result"
    }
   ],
   "source": [
    "#save the data\n",
    "for i in range(num_topics):\n",
    "    data[i] = topics[i,:]\n",
    "    \n",
    "data.to_csv(\"data/lda_quick_test.tsv\",sep=\"\\t\")\n",
    "data.head()"
   ]
  },
  {
   "cell_type": "code",
   "execution_count": 79,
   "metadata": {},
   "outputs": [
    {
     "data": {
      "text/html": [
       "<div>\n",
       "<style scoped>\n",
       "    .dataframe tbody tr th:only-of-type {\n",
       "        vertical-align: middle;\n",
       "    }\n",
       "\n",
       "    .dataframe tbody tr th {\n",
       "        vertical-align: top;\n",
       "    }\n",
       "\n",
       "    .dataframe thead th {\n",
       "        text-align: right;\n",
       "    }\n",
       "</style>\n",
       "<table border=\"1\" class=\"dataframe\">\n",
       "  <thead>\n",
       "    <tr style=\"text-align: right;\">\n",
       "      <th></th>\n",
       "      <th>generation</th>\n",
       "      <th>0</th>\n",
       "      <th>1</th>\n",
       "      <th>2</th>\n",
       "      <th>3</th>\n",
       "    </tr>\n",
       "    <tr>\n",
       "      <th>condition</th>\n",
       "      <th></th>\n",
       "      <th></th>\n",
       "      <th></th>\n",
       "      <th></th>\n",
       "      <th></th>\n",
       "    </tr>\n",
       "  </thead>\n",
       "  <tbody>\n",
       "    <tr>\n",
       "      <td>chain</td>\n",
       "      <td>1.872340</td>\n",
       "      <td>0.151665</td>\n",
       "      <td>0.416267</td>\n",
       "      <td>0.081544</td>\n",
       "      <td>0.347560</td>\n",
       "    </tr>\n",
       "    <tr>\n",
       "      <td>network</td>\n",
       "      <td>1.972973</td>\n",
       "      <td>0.266504</td>\n",
       "      <td>0.409893</td>\n",
       "      <td>0.171839</td>\n",
       "      <td>0.149246</td>\n",
       "    </tr>\n",
       "  </tbody>\n",
       "</table>\n",
       "</div>"
      ],
      "text/plain": [
       "           generation         0         1         2         3\n",
       "condition                                                    \n",
       "chain        1.872340  0.151665  0.416267  0.081544  0.347560\n",
       "network      1.972973  0.266504  0.409893  0.171839  0.149246"
      ]
     },
     "execution_count": 79,
     "metadata": {},
     "output_type": "execute_result"
    }
   ],
   "source": [
    "data.groupby(\"condition\").mean()"
   ]
  },
  {
   "cell_type": "code",
   "execution_count": 80,
   "metadata": {},
   "outputs": [
    {
     "data": {
      "text/html": [
       "<div>\n",
       "<style scoped>\n",
       "    .dataframe tbody tr th:only-of-type {\n",
       "        vertical-align: middle;\n",
       "    }\n",
       "\n",
       "    .dataframe tbody tr th {\n",
       "        vertical-align: top;\n",
       "    }\n",
       "\n",
       "    .dataframe thead th {\n",
       "        text-align: right;\n",
       "    }\n",
       "</style>\n",
       "<table border=\"1\" class=\"dataframe\">\n",
       "  <thead>\n",
       "    <tr style=\"text-align: right;\">\n",
       "      <th></th>\n",
       "      <th>generation</th>\n",
       "      <th>0</th>\n",
       "      <th>1</th>\n",
       "      <th>2</th>\n",
       "      <th>3</th>\n",
       "    </tr>\n",
       "    <tr>\n",
       "      <th>condition</th>\n",
       "      <th></th>\n",
       "      <th></th>\n",
       "      <th></th>\n",
       "      <th></th>\n",
       "      <th></th>\n",
       "    </tr>\n",
       "  </thead>\n",
       "  <tbody>\n",
       "    <tr>\n",
       "      <td>chain</td>\n",
       "      <td>1.377096</td>\n",
       "      <td>0.275122</td>\n",
       "      <td>0.422409</td>\n",
       "      <td>0.200332</td>\n",
       "      <td>0.407104</td>\n",
       "    </tr>\n",
       "    <tr>\n",
       "      <td>network</td>\n",
       "      <td>1.413952</td>\n",
       "      <td>0.358676</td>\n",
       "      <td>0.398983</td>\n",
       "      <td>0.292185</td>\n",
       "      <td>0.262359</td>\n",
       "    </tr>\n",
       "  </tbody>\n",
       "</table>\n",
       "</div>"
      ],
      "text/plain": [
       "           generation         0         1         2         3\n",
       "condition                                                    \n",
       "chain        1.377096  0.275122  0.422409  0.200332  0.407104\n",
       "network      1.413952  0.358676  0.398983  0.292185  0.262359"
      ]
     },
     "execution_count": 80,
     "metadata": {},
     "output_type": "execute_result"
    }
   ],
   "source": [
    "data.groupby(\"condition\").std()"
   ]
  },
  {
   "cell_type": "code",
   "execution_count": 82,
   "metadata": {},
   "outputs": [
    {
     "data": {
      "text/html": [
       "<div>\n",
       "<style scoped>\n",
       "    .dataframe tbody tr th:only-of-type {\n",
       "        vertical-align: middle;\n",
       "    }\n",
       "\n",
       "    .dataframe tbody tr th {\n",
       "        vertical-align: top;\n",
       "    }\n",
       "\n",
       "    .dataframe thead th {\n",
       "        text-align: right;\n",
       "    }\n",
       "</style>\n",
       "<table border=\"1\" class=\"dataframe\">\n",
       "  <thead>\n",
       "    <tr style=\"text-align: right;\">\n",
       "      <th></th>\n",
       "      <th>0</th>\n",
       "      <th>1</th>\n",
       "      <th>2</th>\n",
       "      <th>3</th>\n",
       "    </tr>\n",
       "    <tr>\n",
       "      <th>generation</th>\n",
       "      <th></th>\n",
       "      <th></th>\n",
       "      <th></th>\n",
       "      <th></th>\n",
       "    </tr>\n",
       "  </thead>\n",
       "  <tbody>\n",
       "    <tr>\n",
       "      <td>0</td>\n",
       "      <td>0.075049</td>\n",
       "      <td>0.734054</td>\n",
       "      <td>0.025648</td>\n",
       "      <td>0.157578</td>\n",
       "    </tr>\n",
       "    <tr>\n",
       "      <td>1</td>\n",
       "      <td>0.221046</td>\n",
       "      <td>0.487400</td>\n",
       "      <td>0.077442</td>\n",
       "      <td>0.210286</td>\n",
       "    </tr>\n",
       "    <tr>\n",
       "      <td>2</td>\n",
       "      <td>0.260946</td>\n",
       "      <td>0.175748</td>\n",
       "      <td>0.194736</td>\n",
       "      <td>0.367797</td>\n",
       "    </tr>\n",
       "    <tr>\n",
       "      <td>3</td>\n",
       "      <td>0.228058</td>\n",
       "      <td>0.343946</td>\n",
       "      <td>0.226046</td>\n",
       "      <td>0.201193</td>\n",
       "    </tr>\n",
       "    <tr>\n",
       "      <td>4</td>\n",
       "      <td>0.343907</td>\n",
       "      <td>0.303233</td>\n",
       "      <td>0.164375</td>\n",
       "      <td>0.188486</td>\n",
       "    </tr>\n",
       "  </tbody>\n",
       "</table>\n",
       "</div>"
      ],
      "text/plain": [
       "                   0         1         2         3\n",
       "generation                                        \n",
       "0           0.075049  0.734054  0.025648  0.157578\n",
       "1           0.221046  0.487400  0.077442  0.210286\n",
       "2           0.260946  0.175748  0.194736  0.367797\n",
       "3           0.228058  0.343946  0.226046  0.201193\n",
       "4           0.343907  0.303233  0.164375  0.188486"
      ]
     },
     "execution_count": 82,
     "metadata": {},
     "output_type": "execute_result"
    }
   ],
   "source": [
    "data.groupby([\"generation\"]).mean()"
   ]
  },
  {
   "cell_type": "code",
   "execution_count": null,
   "metadata": {},
   "outputs": [],
   "source": []
  },
  {
   "cell_type": "code",
   "execution_count": null,
   "metadata": {},
   "outputs": [],
   "source": []
  },
  {
   "cell_type": "code",
   "execution_count": null,
   "metadata": {},
   "outputs": [],
   "source": []
  },
  {
   "cell_type": "code",
   "execution_count": null,
   "metadata": {},
   "outputs": [],
   "source": []
  }
 ],
 "metadata": {
  "kernelspec": {
   "display_name": "Python 3",
   "language": "python",
   "name": "python3"
  },
  "language_info": {
   "codemirror_mode": {
    "name": "ipython",
    "version": 3
   },
   "file_extension": ".py",
   "mimetype": "text/x-python",
   "name": "python",
   "nbconvert_exporter": "python",
   "pygments_lexer": "ipython3",
   "version": "3.7.4"
  }
 },
 "nbformat": 4,
 "nbformat_minor": 2
}
