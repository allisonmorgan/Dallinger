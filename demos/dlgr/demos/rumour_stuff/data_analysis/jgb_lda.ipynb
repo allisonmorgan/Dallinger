{
 "cells": [
  {
   "cell_type": "code",
   "execution_count": 1,
   "metadata": {},
   "outputs": [
    {
     "name": "stdout",
     "output_type": "stream",
     "text": [
      "Requirement already satisfied: lda in /opt/anaconda3/lib/python3.7/site-packages (1.1.0)\n",
      "Requirement already satisfied: pbr<4,>=0.6 in /opt/anaconda3/lib/python3.7/site-packages (from lda) (3.1.1)\n",
      "Requirement already satisfied: numpy<2.0,>=1.13.0 in /opt/anaconda3/lib/python3.7/site-packages (from lda) (1.17.2)\n",
      "Collecting package metadata (current_repodata.json): done\n",
      "Solving environment: done\n",
      "\n",
      "# All requested packages already installed.\n",
      "\n"
     ]
    }
   ],
   "source": [
    "!pip install lda\n",
    "!conda install gensim --yes\n",
    "\n",
    "#using the tutorial from https://towardsdatascience.com/topic-modeling-and-latent-dirichlet-allocation-in-python-9bf156893c24"
   ]
  },
  {
   "cell_type": "code",
   "execution_count": 167,
   "metadata": {},
   "outputs": [],
   "source": [
    "import gensim\n",
    "from gensim.utils import simple_preprocess\n",
    "from gensim.parsing.preprocessing import STOPWORDS\n",
    "from nltk.stem import WordNetLemmatizer, SnowballStemmer\n",
    "from nltk.stem.porter import *\n",
    "import numpy as np\n",
    "import nltk\n",
    "#nltk.download('wordnet')\n",
    "\n",
    "\n",
    "import lda\n",
    "import pandas as pd"
   ]
  },
  {
   "cell_type": "code",
   "execution_count": 168,
   "metadata": {},
   "outputs": [],
   "source": [
    "## pre-processing \n",
    "stemmer = SnowballStemmer(\"english\")\n",
    "def lemmatize_stemming(text):\n",
    "    return stemmer.stem(WordNetLemmatizer().lemmatize(text, pos='v'))\n",
    "\n",
    "def preprocess(text):\n",
    "    result = []\n",
    "    for token in gensim.utils.simple_preprocess(text):\n",
    "        if token not in gensim.parsing.preprocessing.STOPWORDS and len(token) > 3:\n",
    "            result.append(lemmatize_stemming(token))\n",
    "    return result"
   ]
  },
  {
   "cell_type": "code",
   "execution_count": 169,
   "metadata": {},
   "outputs": [
    {
     "data": {
      "text/html": [
       "<div>\n",
       "<style scoped>\n",
       "    .dataframe tbody tr th:only-of-type {\n",
       "        vertical-align: middle;\n",
       "    }\n",
       "\n",
       "    .dataframe tbody tr th {\n",
       "        vertical-align: top;\n",
       "    }\n",
       "\n",
       "    .dataframe thead th {\n",
       "        text-align: right;\n",
       "    }\n",
       "</style>\n",
       "<table border=\"1\" class=\"dataframe\">\n",
       "  <thead>\n",
       "    <tr style=\"text-align: right;\">\n",
       "      <th></th>\n",
       "      <th>generation</th>\n",
       "      <th>response</th>\n",
       "      <th>condition</th>\n",
       "    </tr>\n",
       "  </thead>\n",
       "  <tbody>\n",
       "    <tr>\n",
       "      <td>0</td>\n",
       "      <td>0</td>\n",
       "      <td>Most people in the past didn't die from heart ...</td>\n",
       "      <td>chain</td>\n",
       "    </tr>\n",
       "    <tr>\n",
       "      <td>1</td>\n",
       "      <td>0</td>\n",
       "      <td>Early on many people did not die of heart dise...</td>\n",
       "      <td>chain</td>\n",
       "    </tr>\n",
       "    <tr>\n",
       "      <td>2</td>\n",
       "      <td>0</td>\n",
       "      <td>In the old days, people didn't die of cancer o...</td>\n",
       "      <td>chain</td>\n",
       "    </tr>\n",
       "    <tr>\n",
       "      <td>3</td>\n",
       "      <td>0</td>\n",
       "      <td>In the past people didn't die of the diseases ...</td>\n",
       "      <td>chain</td>\n",
       "    </tr>\n",
       "    <tr>\n",
       "      <td>4</td>\n",
       "      <td>0</td>\n",
       "      <td>While antibiotics have been used to fight bact...</td>\n",
       "      <td>chain</td>\n",
       "    </tr>\n",
       "  </tbody>\n",
       "</table>\n",
       "</div>"
      ],
      "text/plain": [
       "   generation                                           response condition\n",
       "0           0  Most people in the past didn't die from heart ...     chain\n",
       "1           0  Early on many people did not die of heart dise...     chain\n",
       "2           0  In the old days, people didn't die of cancer o...     chain\n",
       "3           0  In the past people didn't die of the diseases ...     chain\n",
       "4           0  While antibiotics have been used to fight bact...     chain"
      ]
     },
     "execution_count": 169,
     "metadata": {},
     "output_type": "execute_result"
    }
   ],
   "source": [
    "##reading data\n",
    "chain = pd.read_csv('data/pilot1x10_sept_27/info_cleaned.csv')[[\"generation\",\"response\"]]\n",
    "chain[\"condition\"] = \"chain\"\n",
    "network = pd.read_csv('data/pilot3x5x5_sept_30/info_cleaned.csv')[[\"generation\",\"response\"]]\n",
    "network[\"condition\"] = \"network\"\n",
    "\n",
    "data = pd.concat([chain,network])\n",
    "data.head()"
   ]
  },
  {
   "cell_type": "code",
   "execution_count": 170,
   "metadata": {},
   "outputs": [
    {
     "data": {
      "text/plain": [
       "0    [peopl, past, heart, diseas, live, long, devel...\n",
       "1    [earli, peopl, heart, diseas, stroke, die, inf...\n",
       "2    [day, peopl, cancer, heart, diseas, modern, il...\n",
       "3    [past, peopl, diseas, common, today, live, lon...\n",
       "4    [antibiot, fight, bacteri, infect, year, effec...\n",
       "5    [peopl, live, long, experi, heart, problem, pe...\n",
       "6    [peopl, past, cancer, live, long, antibiot, pe...\n",
       "7    [decad, peopl, die, reason, cancer, heart, dis...\n",
       "8    [histori, peopl, cancer, hear, diseas, lifesty...\n",
       "9    [recent, histori, human, death, weren, caus, c...\n",
       "Name: response, dtype: object"
      ]
     },
     "execution_count": 170,
     "metadata": {},
     "output_type": "execute_result"
    }
   ],
   "source": [
    "##\n",
    "processed_docs = data['response'].map(preprocess)\n",
    "processed_docs[:10]"
   ]
  },
  {
   "cell_type": "code",
   "execution_count": 171,
   "metadata": {},
   "outputs": [
    {
     "name": "stdout",
     "output_type": "stream",
     "text": [
      "0 alexand\n",
      "1 antibiot\n",
      "2 caus\n",
      "3 citi\n",
      "4 claim\n",
      "5 come\n",
      "6 develop\n",
      "7 diseas\n",
      "8 fleme\n",
      "9 golden\n",
      "10 heart\n"
     ]
    }
   ],
   "source": [
    "#Create dictionary of words\n",
    "dictionary = gensim.corpora.Dictionary(processed_docs)\n",
    "count = 0\n",
    "for k, v in dictionary.iteritems():\n",
    "    print(k, v)\n",
    "    count += 1\n",
    "    if count > 10:\n",
    "        break"
   ]
  },
  {
   "cell_type": "code",
   "execution_count": 172,
   "metadata": {},
   "outputs": [
    {
     "data": {
      "text/plain": [
       "584"
      ]
     },
     "execution_count": 172,
     "metadata": {},
     "output_type": "execute_result"
    }
   ],
   "source": [
    "len(dictionary)"
   ]
  },
  {
   "cell_type": "code",
   "execution_count": 173,
   "metadata": {},
   "outputs": [],
   "source": [
    "#Delete extreme words\n",
    "dictionary.filter_extremes(no_below=5, no_above=0.5, keep_n=500)"
   ]
  },
  {
   "cell_type": "code",
   "execution_count": 174,
   "metadata": {},
   "outputs": [
    {
     "name": "stdout",
     "output_type": "stream",
     "text": [
      "Word 3 (\"come\") appears 1 time.\n",
      "Word 4 (\"develop\") appears 1 time.\n",
      "Word 5 (\"diseas\") appears 2 time.\n",
      "Word 7 (\"heart\") appears 1 time.\n",
      "Word 8 (\"live\") appears 1 time.\n",
      "Word 9 (\"long\") appears 1 time.\n",
      "Word 12 (\"penicillin\") appears 3 time.\n",
      "Word 15 (\"save\") appears 1 time.\n",
      "Word 16 (\"superbug\") appears 3 time.\n",
      "Word 33 (\"stronger\") appears 1 time.\n",
      "Word 35 (\"accid\") appears 1 time.\n",
      "Word 36 (\"cancer\") appears 1 time.\n",
      "Word 38 (\"cure\") appears 1 time.\n",
      "Word 39 (\"day\") appears 1 time.\n",
      "Word 49 (\"time\") appears 1 time.\n",
      "Word 50 (\"chang\") appears 1 time.\n",
      "Word 52 (\"death\") appears 1 time.\n",
      "Word 55 (\"injuri\") appears 1 time.\n",
      "Word 58 (\"today\") appears 1 time.\n",
      "Word 59 (\"treat\") appears 1 time.\n",
      "Word 61 (\"like\") appears 1 time.\n",
      "Word 67 (\"alli\") appears 1 time.\n",
      "Word 81 (\"make\") appears 1 time.\n",
      "Word 86 (\"work\") appears 1 time.\n",
      "Word 87 (\"abl\") appears 1 time.\n",
      "Word 88 (\"estim\") appears 1 time.\n",
      "Word 89 (\"introduc\") appears 1 time.\n"
     ]
    }
   ],
   "source": [
    "#Create the corpus\n",
    "bow_corpus = [dictionary.doc2bow(doc) for doc in processed_docs]\n",
    "bow_doc_4310 = bow_corpus[10]\n",
    "for i in range(len(bow_doc_4310)):\n",
    "    print(\"Word {} (\\\"{}\\\") appears {} time.\".format(bow_doc_4310[i][0], \n",
    "                                               dictionary[bow_doc_4310[i][0]], \n",
    "bow_doc_4310[i][1]))"
   ]
  },
  {
   "cell_type": "code",
   "execution_count": 175,
   "metadata": {},
   "outputs": [
    {
     "name": "stdout",
     "output_type": "stream",
     "text": [
      "[(0, 0.2038942972252099),\n",
      " (1, 0.18194116380617711),\n",
      " (2, 0.2699678674937903),\n",
      " (3, 0.2590218480054993),\n",
      " (4, 0.36388232761235423),\n",
      " (5, 0.10992934325564296),\n",
      " (6, 0.21019265565416922),\n",
      " (7, 0.14488581282424157),\n",
      " (8, 0.30828479458055397),\n",
      " (9, 0.18701002745496514),\n",
      " (10, 0.11499820690443105),\n",
      " (11, 0.17710814837761873),\n",
      " (12, 0.14147924218060778),\n",
      " (13, 0.28220447620470335),\n",
      " (14, 0.33103366855603344),\n",
      " (15, 0.16806844102344565),\n",
      " (16, 0.1923389440465296),\n",
      " (17, 0.23176453691546034),\n",
      " (18, 0.2699678674937903)]\n"
     ]
    }
   ],
   "source": [
    "# TF-IDF\n",
    "from gensim import corpora, models\n",
    "\n",
    "tfidf = models.TfidfModel(bow_corpus)\n",
    "corpus_tfidf = tfidf[bow_corpus]\n",
    "from pprint import pprint\n",
    "\n",
    "for doc in corpus_tfidf:\n",
    "    pprint(doc)\n",
    "    break"
   ]
  },
  {
   "cell_type": "code",
   "execution_count": 176,
   "metadata": {},
   "outputs": [],
   "source": [
    "# #Bag of words\n",
    "# lda_model = gensim.models.LdaMulticore(bow_corpus, num_topics=3, id2word=dictionary, passes=2, workers=6)\n",
    "\n",
    "# for idx, topic in lda_model.print_topics(-1):\n",
    "#     print('Topic: {} \\nWords: {}'.format(idx, topic))"
   ]
  },
  {
   "cell_type": "code",
   "execution_count": 177,
   "metadata": {},
   "outputs": [],
   "source": [
    "num_topics = 3\n",
    "data = pd.concat([chain,network])"
   ]
  },
  {
   "cell_type": "code",
   "execution_count": 180,
   "metadata": {},
   "outputs": [
    {
     "name": "stdout",
     "output_type": "stream",
     "text": [
      "Topic: 0 Word: 0.035*\"superbug\" + 0.034*\"creat\" + 0.032*\"cancer\" + 0.032*\"know\" + 0.026*\"cure\" + 0.025*\"mutat\" + 0.024*\"kill\" + 0.021*\"reason\" + 0.021*\"livestock\" + 0.020*\"immun\"\n",
      "Topic: 1 Word: 0.028*\"develop\" + 0.028*\"year\" + 0.022*\"diseas\" + 0.022*\"live\" + 0.020*\"heart\" + 0.020*\"long\" + 0.020*\"die\" + 0.019*\"fight\" + 0.019*\"save\" + 0.018*\"like\"\n",
      "Topic: 2 Word: 0.026*\"overus\" + 0.024*\"death\" + 0.024*\"super\" + 0.021*\"bug\" + 0.020*\"million\" + 0.019*\"increas\" + 0.018*\"live\" + 0.018*\"effect\" + 0.017*\"medicin\" + 0.017*\"longer\"\n"
     ]
    }
   ],
   "source": [
    "#Fit model: tF-idf\n",
    "lda_model_tfidf = gensim.models.LdaMulticore(corpus_tfidf, num_topics=num_topics, id2word=dictionary, passes=20, workers=4)\n",
    "\n",
    "for idx, topic in lda_model_tfidf.print_topics(-1):\n",
    "    print('Topic: {} Word: {}'.format(idx, topic))"
   ]
  },
  {
   "cell_type": "code",
   "execution_count": 179,
   "metadata": {},
   "outputs": [
    {
     "name": "stdout",
     "output_type": "stream",
     "text": [
      "\n",
      "Score: 0.733862042427063\t \n",
      "Topic: 0.025*\"develop\" + 0.024*\"year\" + 0.020*\"medicin\" + 0.019*\"save\" + 0.019*\"like\" + 0.018*\"die\" + 0.017*\"chang\" + 0.017*\"diseas\" + 0.017*\"current\" + 0.017*\"drug\"\n",
      "\n",
      "Score: 0.25483423471450806\t \n",
      "Topic: 0.028*\"diseas\" + 0.028*\"need\" + 0.027*\"bug\" + 0.027*\"super\" + 0.025*\"penicillin\" + 0.023*\"longer\" + 0.021*\"live\" + 0.020*\"invent\" + 0.017*\"creat\" + 0.017*\"begin\"\n",
      "\n",
      "Score: 0.01130377221852541\t \n",
      "Topic: 0.032*\"caus\" + 0.027*\"overus\" + 0.027*\"reduc\" + 0.026*\"rate\" + 0.026*\"death\" + 0.024*\"million\" + 0.022*\"cancer\" + 0.022*\"know\" + 0.020*\"go\" + 0.020*\"problem\"\n"
     ]
    }
   ],
   "source": [
    "#Check one of the stories\n",
    "for index, score in sorted(lda_model_tfidf[bow_corpus[10]], key=lambda tup: -1*tup[1]):\n",
    "    print(\"\\nScore: {}\\t \\nTopic: {}\".format(score, lda_model_tfidf.print_topic(index, 10)))"
   ]
  },
  {
   "cell_type": "code",
   "execution_count": 161,
   "metadata": {},
   "outputs": [
    {
     "data": {
      "text/plain": [
       "[(0, 0.45748794), (3, 0.52122015)]"
      ]
     },
     "execution_count": 161,
     "metadata": {},
     "output_type": "execute_result"
    }
   ],
   "source": [
    "lda_model_tfidf[bow_corpus[1]]"
   ]
  },
  {
   "cell_type": "code",
   "execution_count": 181,
   "metadata": {},
   "outputs": [],
   "source": [
    "#Create the probability of being in each topic\n",
    "topics = np.zeros((num_topics,len(data)))\n",
    "for j,response in enumerate(bow_corpus):\n",
    "    values = dict(lda_model_tfidf[response])\n",
    "    for i in range(num_topics):\n",
    "        if values.get(i):\n",
    "            topics[i,j] =values[i]\n",
    "        else:\n",
    "            topics[i,j] = 0"
   ]
  },
  {
   "cell_type": "code",
   "execution_count": 182,
   "metadata": {},
   "outputs": [
    {
     "data": {
      "text/html": [
       "<div>\n",
       "<style scoped>\n",
       "    .dataframe tbody tr th:only-of-type {\n",
       "        vertical-align: middle;\n",
       "    }\n",
       "\n",
       "    .dataframe tbody tr th {\n",
       "        vertical-align: top;\n",
       "    }\n",
       "\n",
       "    .dataframe thead th {\n",
       "        text-align: right;\n",
       "    }\n",
       "</style>\n",
       "<table border=\"1\" class=\"dataframe\">\n",
       "  <thead>\n",
       "    <tr style=\"text-align: right;\">\n",
       "      <th></th>\n",
       "      <th>generation</th>\n",
       "      <th>response</th>\n",
       "      <th>condition</th>\n",
       "      <th>0</th>\n",
       "      <th>1</th>\n",
       "      <th>2</th>\n",
       "    </tr>\n",
       "  </thead>\n",
       "  <tbody>\n",
       "    <tr>\n",
       "      <td>0</td>\n",
       "      <td>0</td>\n",
       "      <td>Most people in the past didn't die from heart ...</td>\n",
       "      <td>chain</td>\n",
       "      <td>0.016391</td>\n",
       "      <td>0.968033</td>\n",
       "      <td>0.015576</td>\n",
       "    </tr>\n",
       "    <tr>\n",
       "      <td>1</td>\n",
       "      <td>0</td>\n",
       "      <td>Early on many people did not die of heart dise...</td>\n",
       "      <td>chain</td>\n",
       "      <td>0.476841</td>\n",
       "      <td>0.344351</td>\n",
       "      <td>0.178808</td>\n",
       "    </tr>\n",
       "    <tr>\n",
       "      <td>2</td>\n",
       "      <td>0</td>\n",
       "      <td>In the old days, people didn't die of cancer o...</td>\n",
       "      <td>chain</td>\n",
       "      <td>0.148689</td>\n",
       "      <td>0.565656</td>\n",
       "      <td>0.285656</td>\n",
       "    </tr>\n",
       "    <tr>\n",
       "      <td>3</td>\n",
       "      <td>0</td>\n",
       "      <td>In the past people didn't die of the diseases ...</td>\n",
       "      <td>chain</td>\n",
       "      <td>0.014095</td>\n",
       "      <td>0.969729</td>\n",
       "      <td>0.016176</td>\n",
       "    </tr>\n",
       "    <tr>\n",
       "      <td>4</td>\n",
       "      <td>0</td>\n",
       "      <td>While antibiotics have been used to fight bact...</td>\n",
       "      <td>chain</td>\n",
       "      <td>0.033822</td>\n",
       "      <td>0.933603</td>\n",
       "      <td>0.032574</td>\n",
       "    </tr>\n",
       "  </tbody>\n",
       "</table>\n",
       "</div>"
      ],
      "text/plain": [
       "   generation                                           response condition  \\\n",
       "0           0  Most people in the past didn't die from heart ...     chain   \n",
       "1           0  Early on many people did not die of heart dise...     chain   \n",
       "2           0  In the old days, people didn't die of cancer o...     chain   \n",
       "3           0  In the past people didn't die of the diseases ...     chain   \n",
       "4           0  While antibiotics have been used to fight bact...     chain   \n",
       "\n",
       "          0         1         2  \n",
       "0  0.016391  0.968033  0.015576  \n",
       "1  0.476841  0.344351  0.178808  \n",
       "2  0.148689  0.565656  0.285656  \n",
       "3  0.014095  0.969729  0.016176  \n",
       "4  0.033822  0.933603  0.032574  "
      ]
     },
     "execution_count": 182,
     "metadata": {},
     "output_type": "execute_result"
    }
   ],
   "source": [
    "#save the data\n",
    "for i in range(num_topics):\n",
    "    data[i] = topics[i,:]\n",
    "    \n",
    "data.to_csv(\"data/lda_quick_test.tsv\",sep=\"\\t\")\n",
    "data.head()"
   ]
  },
  {
   "cell_type": "code",
   "execution_count": 183,
   "metadata": {},
   "outputs": [
    {
     "data": {
      "text/html": [
       "<div>\n",
       "<style scoped>\n",
       "    .dataframe tbody tr th:only-of-type {\n",
       "        vertical-align: middle;\n",
       "    }\n",
       "\n",
       "    .dataframe tbody tr th {\n",
       "        vertical-align: top;\n",
       "    }\n",
       "\n",
       "    .dataframe thead th {\n",
       "        text-align: right;\n",
       "    }\n",
       "</style>\n",
       "<table border=\"1\" class=\"dataframe\">\n",
       "  <thead>\n",
       "    <tr style=\"text-align: right;\">\n",
       "      <th></th>\n",
       "      <th>generation</th>\n",
       "      <th>0</th>\n",
       "      <th>1</th>\n",
       "      <th>2</th>\n",
       "    </tr>\n",
       "    <tr>\n",
       "      <th>condition</th>\n",
       "      <th></th>\n",
       "      <th></th>\n",
       "      <th></th>\n",
       "      <th></th>\n",
       "    </tr>\n",
       "  </thead>\n",
       "  <tbody>\n",
       "    <tr>\n",
       "      <td>chain</td>\n",
       "      <td>1.872340</td>\n",
       "      <td>0.283555</td>\n",
       "      <td>0.440313</td>\n",
       "      <td>0.275763</td>\n",
       "    </tr>\n",
       "    <tr>\n",
       "      <td>network</td>\n",
       "      <td>1.972973</td>\n",
       "      <td>0.142015</td>\n",
       "      <td>0.269246</td>\n",
       "      <td>0.588271</td>\n",
       "    </tr>\n",
       "  </tbody>\n",
       "</table>\n",
       "</div>"
      ],
      "text/plain": [
       "           generation         0         1         2\n",
       "condition                                          \n",
       "chain        1.872340  0.283555  0.440313  0.275763\n",
       "network      1.972973  0.142015  0.269246  0.588271"
      ]
     },
     "execution_count": 183,
     "metadata": {},
     "output_type": "execute_result"
    }
   ],
   "source": [
    "data.groupby(\"condition\").mean()"
   ]
  },
  {
   "cell_type": "code",
   "execution_count": 184,
   "metadata": {},
   "outputs": [
    {
     "data": {
      "text/html": [
       "<div>\n",
       "<style scoped>\n",
       "    .dataframe tbody tr th:only-of-type {\n",
       "        vertical-align: middle;\n",
       "    }\n",
       "\n",
       "    .dataframe tbody tr th {\n",
       "        vertical-align: top;\n",
       "    }\n",
       "\n",
       "    .dataframe thead th {\n",
       "        text-align: right;\n",
       "    }\n",
       "</style>\n",
       "<table border=\"1\" class=\"dataframe\">\n",
       "  <thead>\n",
       "    <tr style=\"text-align: right;\">\n",
       "      <th></th>\n",
       "      <th>generation</th>\n",
       "      <th>0</th>\n",
       "      <th>1</th>\n",
       "      <th>2</th>\n",
       "    </tr>\n",
       "    <tr>\n",
       "      <th>condition</th>\n",
       "      <th></th>\n",
       "      <th></th>\n",
       "      <th></th>\n",
       "      <th></th>\n",
       "    </tr>\n",
       "  </thead>\n",
       "  <tbody>\n",
       "    <tr>\n",
       "      <td>chain</td>\n",
       "      <td>1.377096</td>\n",
       "      <td>0.354534</td>\n",
       "      <td>0.386173</td>\n",
       "      <td>0.333615</td>\n",
       "    </tr>\n",
       "    <tr>\n",
       "      <td>network</td>\n",
       "      <td>1.413952</td>\n",
       "      <td>0.227173</td>\n",
       "      <td>0.297278</td>\n",
       "      <td>0.337540</td>\n",
       "    </tr>\n",
       "  </tbody>\n",
       "</table>\n",
       "</div>"
      ],
      "text/plain": [
       "           generation         0         1         2\n",
       "condition                                          \n",
       "chain        1.377096  0.354534  0.386173  0.333615\n",
       "network      1.413952  0.227173  0.297278  0.337540"
      ]
     },
     "execution_count": 184,
     "metadata": {},
     "output_type": "execute_result"
    }
   ],
   "source": [
    "data.groupby(\"condition\").std()"
   ]
  },
  {
   "cell_type": "code",
   "execution_count": 185,
   "metadata": {},
   "outputs": [
    {
     "data": {
      "text/html": [
       "<div>\n",
       "<style scoped>\n",
       "    .dataframe tbody tr th:only-of-type {\n",
       "        vertical-align: middle;\n",
       "    }\n",
       "\n",
       "    .dataframe tbody tr th {\n",
       "        vertical-align: top;\n",
       "    }\n",
       "\n",
       "    .dataframe thead th {\n",
       "        text-align: right;\n",
       "    }\n",
       "</style>\n",
       "<table border=\"1\" class=\"dataframe\">\n",
       "  <thead>\n",
       "    <tr style=\"text-align: right;\">\n",
       "      <th></th>\n",
       "      <th>0</th>\n",
       "      <th>1</th>\n",
       "      <th>2</th>\n",
       "    </tr>\n",
       "    <tr>\n",
       "      <th>generation</th>\n",
       "      <th></th>\n",
       "      <th></th>\n",
       "      <th></th>\n",
       "    </tr>\n",
       "  </thead>\n",
       "  <tbody>\n",
       "    <tr>\n",
       "      <td>0</td>\n",
       "      <td>0.107524</td>\n",
       "      <td>0.642495</td>\n",
       "      <td>0.247902</td>\n",
       "    </tr>\n",
       "    <tr>\n",
       "      <td>1</td>\n",
       "      <td>0.142999</td>\n",
       "      <td>0.331886</td>\n",
       "      <td>0.525115</td>\n",
       "    </tr>\n",
       "    <tr>\n",
       "      <td>2</td>\n",
       "      <td>0.218678</td>\n",
       "      <td>0.304552</td>\n",
       "      <td>0.476770</td>\n",
       "    </tr>\n",
       "    <tr>\n",
       "      <td>3</td>\n",
       "      <td>0.295754</td>\n",
       "      <td>0.225272</td>\n",
       "      <td>0.478974</td>\n",
       "    </tr>\n",
       "    <tr>\n",
       "      <td>4</td>\n",
       "      <td>0.224397</td>\n",
       "      <td>0.143514</td>\n",
       "      <td>0.632089</td>\n",
       "    </tr>\n",
       "  </tbody>\n",
       "</table>\n",
       "</div>"
      ],
      "text/plain": [
       "                   0         1         2\n",
       "generation                              \n",
       "0           0.107524  0.642495  0.247902\n",
       "1           0.142999  0.331886  0.525115\n",
       "2           0.218678  0.304552  0.476770\n",
       "3           0.295754  0.225272  0.478974\n",
       "4           0.224397  0.143514  0.632089"
      ]
     },
     "execution_count": 185,
     "metadata": {},
     "output_type": "execute_result"
    }
   ],
   "source": [
    "data.groupby([\"generation\"]).mean()"
   ]
  },
  {
   "cell_type": "code",
   "execution_count": 186,
   "metadata": {},
   "outputs": [
    {
     "data": {
      "text/html": [
       "<div>\n",
       "<style scoped>\n",
       "    .dataframe tbody tr th:only-of-type {\n",
       "        vertical-align: middle;\n",
       "    }\n",
       "\n",
       "    .dataframe tbody tr th {\n",
       "        vertical-align: top;\n",
       "    }\n",
       "\n",
       "    .dataframe thead th {\n",
       "        text-align: right;\n",
       "    }\n",
       "</style>\n",
       "<table border=\"1\" class=\"dataframe\">\n",
       "  <thead>\n",
       "    <tr style=\"text-align: right;\">\n",
       "      <th></th>\n",
       "      <th></th>\n",
       "      <th>0</th>\n",
       "      <th>1</th>\n",
       "      <th>2</th>\n",
       "    </tr>\n",
       "    <tr>\n",
       "      <th>condition</th>\n",
       "      <th>generation</th>\n",
       "      <th></th>\n",
       "      <th></th>\n",
       "      <th></th>\n",
       "    </tr>\n",
       "  </thead>\n",
       "  <tbody>\n",
       "    <tr>\n",
       "      <td rowspan=\"5\" valign=\"top\">chain</td>\n",
       "      <td>0</td>\n",
       "      <td>0.144554</td>\n",
       "      <td>0.781544</td>\n",
       "      <td>0.072165</td>\n",
       "    </tr>\n",
       "    <tr>\n",
       "      <td>1</td>\n",
       "      <td>0.291436</td>\n",
       "      <td>0.443560</td>\n",
       "      <td>0.265004</td>\n",
       "    </tr>\n",
       "    <tr>\n",
       "      <td>2</td>\n",
       "      <td>0.247567</td>\n",
       "      <td>0.419737</td>\n",
       "      <td>0.332697</td>\n",
       "    </tr>\n",
       "    <tr>\n",
       "      <td>3</td>\n",
       "      <td>0.390013</td>\n",
       "      <td>0.260152</td>\n",
       "      <td>0.349836</td>\n",
       "    </tr>\n",
       "    <tr>\n",
       "      <td>4</td>\n",
       "      <td>0.370199</td>\n",
       "      <td>0.234969</td>\n",
       "      <td>0.394832</td>\n",
       "    </tr>\n",
       "    <tr>\n",
       "      <td rowspan=\"5\" valign=\"top\">network</td>\n",
       "      <td>0</td>\n",
       "      <td>0.082837</td>\n",
       "      <td>0.549796</td>\n",
       "      <td>0.365060</td>\n",
       "    </tr>\n",
       "    <tr>\n",
       "      <td>1</td>\n",
       "      <td>0.044041</td>\n",
       "      <td>0.257437</td>\n",
       "      <td>0.698522</td>\n",
       "    </tr>\n",
       "    <tr>\n",
       "      <td>2</td>\n",
       "      <td>0.199419</td>\n",
       "      <td>0.227762</td>\n",
       "      <td>0.572819</td>\n",
       "    </tr>\n",
       "    <tr>\n",
       "      <td>3</td>\n",
       "      <td>0.232915</td>\n",
       "      <td>0.202020</td>\n",
       "      <td>0.565066</td>\n",
       "    </tr>\n",
       "    <tr>\n",
       "      <td>4</td>\n",
       "      <td>0.151496</td>\n",
       "      <td>0.097786</td>\n",
       "      <td>0.750718</td>\n",
       "    </tr>\n",
       "  </tbody>\n",
       "</table>\n",
       "</div>"
      ],
      "text/plain": [
       "                             0         1         2\n",
       "condition generation                              \n",
       "chain     0           0.144554  0.781544  0.072165\n",
       "          1           0.291436  0.443560  0.265004\n",
       "          2           0.247567  0.419737  0.332697\n",
       "          3           0.390013  0.260152  0.349836\n",
       "          4           0.370199  0.234969  0.394832\n",
       "network   0           0.082837  0.549796  0.365060\n",
       "          1           0.044041  0.257437  0.698522\n",
       "          2           0.199419  0.227762  0.572819\n",
       "          3           0.232915  0.202020  0.565066\n",
       "          4           0.151496  0.097786  0.750718"
      ]
     },
     "execution_count": 186,
     "metadata": {},
     "output_type": "execute_result"
    }
   ],
   "source": [
    "data.groupby([\"condition\",\"generation\"]).mean()"
   ]
  },
  {
   "cell_type": "code",
   "execution_count": null,
   "metadata": {},
   "outputs": [],
   "source": []
  },
  {
   "cell_type": "code",
   "execution_count": null,
   "metadata": {},
   "outputs": [],
   "source": []
  },
  {
   "cell_type": "code",
   "execution_count": null,
   "metadata": {},
   "outputs": [],
   "source": []
  }
 ],
 "metadata": {
  "kernelspec": {
   "display_name": "Python 3",
   "language": "python",
   "name": "python3"
  },
  "language_info": {
   "codemirror_mode": {
    "name": "ipython",
    "version": 3
   },
   "file_extension": ".py",
   "mimetype": "text/x-python",
   "name": "python",
   "nbconvert_exporter": "python",
   "pygments_lexer": "ipython3",
   "version": "3.7.4"
  }
 },
 "nbformat": 4,
 "nbformat_minor": 2
}
