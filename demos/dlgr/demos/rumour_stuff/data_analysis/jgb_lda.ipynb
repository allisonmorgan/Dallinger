{
 "cells": [
  {
   "cell_type": "code",
   "execution_count": 1,
   "metadata": {},
   "outputs": [
    {
     "name": "stdout",
     "output_type": "stream",
     "text": [
      "Requirement already satisfied: lda in /opt/anaconda3/lib/python3.7/site-packages (1.1.0)\n",
      "Requirement already satisfied: pbr<4,>=0.6 in /opt/anaconda3/lib/python3.7/site-packages (from lda) (3.1.1)\n",
      "Requirement already satisfied: numpy<2.0,>=1.13.0 in /opt/anaconda3/lib/python3.7/site-packages (from lda) (1.17.2)\n",
      "Collecting package metadata (current_repodata.json): done\n",
      "Solving environment: done\n",
      "\n",
      "# All requested packages already installed.\n",
      "\n"
     ]
    }
   ],
   "source": [
    "!pip install lda\n",
    "!conda install gensim --yes\n",
    "\n",
    "#using the tutorial from https://towardsdatascience.com/topic-modeling-and-latent-dirichlet-allocation-in-python-9bf156893c24"
   ]
  },
  {
   "cell_type": "code",
   "execution_count": 85,
   "metadata": {},
   "outputs": [],
   "source": [
    "import gensim\n",
    "from gensim.utils import simple_preprocess\n",
    "from gensim.parsing.preprocessing import STOPWORDS\n",
    "from nltk.stem import WordNetLemmatizer, SnowballStemmer\n",
    "from nltk.stem.porter import *\n",
    "import numpy as np\n",
    "import nltk\n",
    "#nltk.download('wordnet')\n",
    "\n",
    "np.random.seed(10)\n",
    "\n",
    "import lda\n",
    "import pandas as pd"
   ]
  },
  {
   "cell_type": "code",
   "execution_count": 86,
   "metadata": {},
   "outputs": [],
   "source": [
    "## pre-processing \n",
    "stemmer = SnowballStemmer(\"english\")\n",
    "def lemmatize_stemming(text):\n",
    "    return stemmer.stem(WordNetLemmatizer().lemmatize(text, pos='v'))\n",
    "\n",
    "def preprocess(text):\n",
    "    result = []\n",
    "    for token in gensim.utils.simple_preprocess(text):\n",
    "        if token not in gensim.parsing.preprocessing.STOPWORDS and len(token) > 3:\n",
    "            result.append(lemmatize_stemming(token))\n",
    "    return result"
   ]
  },
  {
   "cell_type": "code",
   "execution_count": 87,
   "metadata": {},
   "outputs": [
    {
     "data": {
      "text/html": [
       "<div>\n",
       "<style scoped>\n",
       "    .dataframe tbody tr th:only-of-type {\n",
       "        vertical-align: middle;\n",
       "    }\n",
       "\n",
       "    .dataframe tbody tr th {\n",
       "        vertical-align: top;\n",
       "    }\n",
       "\n",
       "    .dataframe thead th {\n",
       "        text-align: right;\n",
       "    }\n",
       "</style>\n",
       "<table border=\"1\" class=\"dataframe\">\n",
       "  <thead>\n",
       "    <tr style=\"text-align: right;\">\n",
       "      <th></th>\n",
       "      <th>generation</th>\n",
       "      <th>response</th>\n",
       "      <th>condition</th>\n",
       "    </tr>\n",
       "  </thead>\n",
       "  <tbody>\n",
       "    <tr>\n",
       "      <td>0</td>\n",
       "      <td>0</td>\n",
       "      <td>Most people in the past didn't die from heart ...</td>\n",
       "      <td>chain</td>\n",
       "    </tr>\n",
       "    <tr>\n",
       "      <td>1</td>\n",
       "      <td>0</td>\n",
       "      <td>Early on many people did not die of heart dise...</td>\n",
       "      <td>chain</td>\n",
       "    </tr>\n",
       "    <tr>\n",
       "      <td>2</td>\n",
       "      <td>0</td>\n",
       "      <td>In the old days, people didn't die of cancer o...</td>\n",
       "      <td>chain</td>\n",
       "    </tr>\n",
       "    <tr>\n",
       "      <td>3</td>\n",
       "      <td>0</td>\n",
       "      <td>In the past people didn't die of the diseases ...</td>\n",
       "      <td>chain</td>\n",
       "    </tr>\n",
       "    <tr>\n",
       "      <td>4</td>\n",
       "      <td>0</td>\n",
       "      <td>While antibiotics have been used to fight bact...</td>\n",
       "      <td>chain</td>\n",
       "    </tr>\n",
       "  </tbody>\n",
       "</table>\n",
       "</div>"
      ],
      "text/plain": [
       "   generation                                           response condition\n",
       "0           0  Most people in the past didn't die from heart ...     chain\n",
       "1           0  Early on many people did not die of heart dise...     chain\n",
       "2           0  In the old days, people didn't die of cancer o...     chain\n",
       "3           0  In the past people didn't die of the diseases ...     chain\n",
       "4           0  While antibiotics have been used to fight bact...     chain"
      ]
     },
     "execution_count": 87,
     "metadata": {},
     "output_type": "execute_result"
    }
   ],
   "source": [
    "##reading data\n",
    "chain = pd.read_csv('data/pilot1x10_sept_27/info_cleaned.csv')[[\"generation\",\"response\"]]\n",
    "chain[\"condition\"] = \"chain\"\n",
    "network = pd.read_csv('data/pilot3x5x5_sept_30/info_cleaned.csv')[[\"generation\",\"response\"]]\n",
    "network[\"condition\"] = \"network\"\n",
    "\n",
    "data = pd.concat([chain,network])\n",
    "data.head()"
   ]
  },
  {
   "cell_type": "code",
   "execution_count": 88,
   "metadata": {},
   "outputs": [
    {
     "data": {
      "text/plain": [
       "0    [peopl, past, heart, diseas, live, long, devel...\n",
       "1    [earli, peopl, heart, diseas, stroke, die, inf...\n",
       "2    [day, peopl, cancer, heart, diseas, modern, il...\n",
       "3    [past, peopl, diseas, common, today, live, lon...\n",
       "4    [antibiot, fight, bacteri, infect, year, effec...\n",
       "5    [peopl, live, long, experi, heart, problem, pe...\n",
       "6    [peopl, past, cancer, live, long, antibiot, pe...\n",
       "7    [decad, peopl, die, reason, cancer, heart, dis...\n",
       "8    [histori, peopl, cancer, hear, diseas, lifesty...\n",
       "9    [recent, histori, human, death, weren, caus, c...\n",
       "Name: response, dtype: object"
      ]
     },
     "execution_count": 88,
     "metadata": {},
     "output_type": "execute_result"
    }
   ],
   "source": [
    "##\n",
    "processed_docs = data['response'].map(preprocess)\n",
    "processed_docs[:10]"
   ]
  },
  {
   "cell_type": "code",
   "execution_count": 89,
   "metadata": {},
   "outputs": [
    {
     "name": "stdout",
     "output_type": "stream",
     "text": [
      "0 alexand\n",
      "1 antibiot\n",
      "2 caus\n",
      "3 citi\n",
      "4 claim\n",
      "5 come\n",
      "6 develop\n",
      "7 diseas\n",
      "8 fleme\n",
      "9 golden\n",
      "10 heart\n"
     ]
    }
   ],
   "source": [
    "#Create dictionary of words\n",
    "dictionary = gensim.corpora.Dictionary(processed_docs)\n",
    "count = 0\n",
    "for k, v in dictionary.iteritems():\n",
    "    print(k, v)\n",
    "    count += 1\n",
    "    if count > 10:\n",
    "        break"
   ]
  },
  {
   "cell_type": "code",
   "execution_count": 90,
   "metadata": {},
   "outputs": [
    {
     "data": {
      "text/plain": [
       "584"
      ]
     },
     "execution_count": 90,
     "metadata": {},
     "output_type": "execute_result"
    }
   ],
   "source": [
    "len(dictionary)"
   ]
  },
  {
   "cell_type": "code",
   "execution_count": 91,
   "metadata": {},
   "outputs": [],
   "source": [
    "#Delete extreme words\n",
    "dictionary.filter_extremes(no_below=5, no_above=0.5, keep_n=500)"
   ]
  },
  {
   "cell_type": "code",
   "execution_count": 92,
   "metadata": {},
   "outputs": [
    {
     "name": "stdout",
     "output_type": "stream",
     "text": [
      "Word 3 (\"come\") appears 1 time.\n",
      "Word 4 (\"develop\") appears 1 time.\n",
      "Word 5 (\"diseas\") appears 2 time.\n",
      "Word 7 (\"heart\") appears 1 time.\n",
      "Word 8 (\"live\") appears 1 time.\n",
      "Word 9 (\"long\") appears 1 time.\n",
      "Word 12 (\"penicillin\") appears 3 time.\n",
      "Word 15 (\"save\") appears 1 time.\n",
      "Word 16 (\"superbug\") appears 3 time.\n",
      "Word 33 (\"stronger\") appears 1 time.\n",
      "Word 35 (\"accid\") appears 1 time.\n",
      "Word 36 (\"cancer\") appears 1 time.\n",
      "Word 38 (\"cure\") appears 1 time.\n",
      "Word 39 (\"day\") appears 1 time.\n",
      "Word 49 (\"time\") appears 1 time.\n",
      "Word 50 (\"chang\") appears 1 time.\n",
      "Word 52 (\"death\") appears 1 time.\n",
      "Word 55 (\"injuri\") appears 1 time.\n",
      "Word 58 (\"today\") appears 1 time.\n",
      "Word 59 (\"treat\") appears 1 time.\n",
      "Word 61 (\"like\") appears 1 time.\n",
      "Word 67 (\"alli\") appears 1 time.\n",
      "Word 81 (\"make\") appears 1 time.\n",
      "Word 86 (\"work\") appears 1 time.\n",
      "Word 87 (\"abl\") appears 1 time.\n",
      "Word 88 (\"estim\") appears 1 time.\n",
      "Word 89 (\"introduc\") appears 1 time.\n"
     ]
    }
   ],
   "source": [
    "#Create the corpus\n",
    "bow_corpus = [dictionary.doc2bow(doc) for doc in processed_docs]\n",
    "bow_doc_4310 = bow_corpus[10]\n",
    "for i in range(len(bow_doc_4310)):\n",
    "    print(\"Word {} (\\\"{}\\\") appears {} time.\".format(bow_doc_4310[i][0], \n",
    "                                               dictionary[bow_doc_4310[i][0]], \n",
    "bow_doc_4310[i][1]))"
   ]
  },
  {
   "cell_type": "code",
   "execution_count": 93,
   "metadata": {},
   "outputs": [
    {
     "name": "stdout",
     "output_type": "stream",
     "text": [
      "[(0, 0.2038942972252099),\n",
      " (1, 0.18194116380617711),\n",
      " (2, 0.2699678674937903),\n",
      " (3, 0.2590218480054993),\n",
      " (4, 0.36388232761235423),\n",
      " (5, 0.10992934325564296),\n",
      " (6, 0.21019265565416922),\n",
      " (7, 0.14488581282424157),\n",
      " (8, 0.30828479458055397),\n",
      " (9, 0.18701002745496514),\n",
      " (10, 0.11499820690443105),\n",
      " (11, 0.17710814837761873),\n",
      " (12, 0.14147924218060778),\n",
      " (13, 0.28220447620470335),\n",
      " (14, 0.33103366855603344),\n",
      " (15, 0.16806844102344565),\n",
      " (16, 0.1923389440465296),\n",
      " (17, 0.23176453691546034),\n",
      " (18, 0.2699678674937903)]\n"
     ]
    }
   ],
   "source": [
    "# TF-IDF\n",
    "from gensim import corpora, models\n",
    "\n",
    "tfidf = models.TfidfModel(bow_corpus)\n",
    "corpus_tfidf = tfidf[bow_corpus]\n",
    "from pprint import pprint\n",
    "\n",
    "for doc in corpus_tfidf:\n",
    "    pprint(doc)\n",
    "    break"
   ]
  },
  {
   "cell_type": "code",
   "execution_count": 94,
   "metadata": {},
   "outputs": [],
   "source": [
    "# #Bag of words\n",
    "# lda_model = gensim.models.LdaMulticore(bow_corpus, num_topics=3, id2word=dictionary, passes=2, workers=6)\n",
    "\n",
    "# for idx, topic in lda_model.print_topics(-1):\n",
    "#     print('Topic: {} \\nWords: {}'.format(idx, topic))"
   ]
  },
  {
   "cell_type": "code",
   "execution_count": 105,
   "metadata": {},
   "outputs": [],
   "source": [
    "num_topics = 3\n",
    "data = pd.concat([chain,network])"
   ]
  },
  {
   "cell_type": "code",
   "execution_count": 106,
   "metadata": {},
   "outputs": [
    {
     "name": "stdout",
     "output_type": "stream",
     "text": [
      "Topic: 0 Word: 0.024*\"cancer\" + 0.021*\"live\" + 0.020*\"penicillin\" + 0.019*\"diseas\" + 0.019*\"year\" + 0.019*\"die\" + 0.017*\"develop\" + 0.017*\"abl\" + 0.017*\"longer\" + 0.016*\"start\"\n",
      "Topic: 1 Word: 0.022*\"reduc\" + 0.022*\"death\" + 0.021*\"superbug\" + 0.018*\"million\" + 0.018*\"need\" + 0.017*\"super\" + 0.017*\"creat\" + 0.017*\"caus\" + 0.016*\"immun\" + 0.016*\"medicin\"\n",
      "Topic: 2 Word: 0.026*\"increas\" + 0.022*\"effect\" + 0.019*\"fight\" + 0.019*\"overus\" + 0.019*\"problem\" + 0.018*\"potenti\" + 0.018*\"bodi\" + 0.018*\"save\" + 0.017*\"diseas\" + 0.017*\"caus\"\n"
     ]
    }
   ],
   "source": [
    "#Fit model: tF-idf\n",
    "lda_model_tfidf = gensim.models.LdaMulticore(corpus_tfidf, num_topics=num_topics, id2word=dictionary, passes=2, workers=4)\n",
    "\n",
    "for idx, topic in lda_model_tfidf.print_topics(-1):\n",
    "    print('Topic: {} Word: {}'.format(idx, topic))"
   ]
  },
  {
   "cell_type": "code",
   "execution_count": 107,
   "metadata": {},
   "outputs": [
    {
     "name": "stdout",
     "output_type": "stream",
     "text": [
      "\n",
      "Score: 0.7537537217140198\t \n",
      "Topic: 0.024*\"cancer\" + 0.021*\"live\" + 0.020*\"penicillin\" + 0.019*\"diseas\" + 0.019*\"year\" + 0.019*\"die\" + 0.017*\"develop\" + 0.017*\"abl\" + 0.017*\"longer\" + 0.016*\"start\"\n",
      "\n",
      "Score: 0.23504993319511414\t \n",
      "Topic: 0.022*\"reduc\" + 0.022*\"death\" + 0.021*\"superbug\" + 0.018*\"million\" + 0.018*\"need\" + 0.017*\"super\" + 0.017*\"creat\" + 0.017*\"caus\" + 0.016*\"immun\" + 0.016*\"medicin\"\n",
      "\n",
      "Score: 0.011196356266736984\t \n",
      "Topic: 0.026*\"increas\" + 0.022*\"effect\" + 0.019*\"fight\" + 0.019*\"overus\" + 0.019*\"problem\" + 0.018*\"potenti\" + 0.018*\"bodi\" + 0.018*\"save\" + 0.017*\"diseas\" + 0.017*\"caus\"\n"
     ]
    }
   ],
   "source": [
    "#Check one of the stories\n",
    "for index, score in sorted(lda_model_tfidf[bow_corpus[10]], key=lambda tup: -1*tup[1]):\n",
    "    print(\"\\nScore: {}\\t \\nTopic: {}\".format(score, lda_model_tfidf.print_topic(index, 10)))"
   ]
  },
  {
   "cell_type": "code",
   "execution_count": 108,
   "metadata": {},
   "outputs": [
    {
     "data": {
      "text/plain": [
       "[(0, 0.2607338), (1, 0.54721516), (2, 0.19205101)]"
      ]
     },
     "execution_count": 108,
     "metadata": {},
     "output_type": "execute_result"
    }
   ],
   "source": [
    "lda_model_tfidf[bow_corpus[1]]"
   ]
  },
  {
   "cell_type": "code",
   "execution_count": 109,
   "metadata": {},
   "outputs": [],
   "source": [
    "#Create the probability of being in each topic\n",
    "topics = np.zeros((num_topics,len(data)))\n",
    "for j,response in enumerate(bow_corpus):\n",
    "    values = dict(lda_model_tfidf[response])\n",
    "    for i in range(num_topics):\n",
    "        if values.get(i):\n",
    "            topics[i,j] =values[i]\n",
    "        else:\n",
    "            topics[i,j] = 0"
   ]
  },
  {
   "cell_type": "code",
   "execution_count": 110,
   "metadata": {},
   "outputs": [
    {
     "data": {
      "text/html": [
       "<div>\n",
       "<style scoped>\n",
       "    .dataframe tbody tr th:only-of-type {\n",
       "        vertical-align: middle;\n",
       "    }\n",
       "\n",
       "    .dataframe tbody tr th {\n",
       "        vertical-align: top;\n",
       "    }\n",
       "\n",
       "    .dataframe thead th {\n",
       "        text-align: right;\n",
       "    }\n",
       "</style>\n",
       "<table border=\"1\" class=\"dataframe\">\n",
       "  <thead>\n",
       "    <tr style=\"text-align: right;\">\n",
       "      <th></th>\n",
       "      <th>generation</th>\n",
       "      <th>response</th>\n",
       "      <th>condition</th>\n",
       "      <th>0</th>\n",
       "      <th>1</th>\n",
       "      <th>2</th>\n",
       "    </tr>\n",
       "  </thead>\n",
       "  <tbody>\n",
       "    <tr>\n",
       "      <td>0</td>\n",
       "      <td>0</td>\n",
       "      <td>Most people in the past didn't die from heart ...</td>\n",
       "      <td>chain</td>\n",
       "      <td>0.697985</td>\n",
       "      <td>0.285064</td>\n",
       "      <td>0.016951</td>\n",
       "    </tr>\n",
       "    <tr>\n",
       "      <td>1</td>\n",
       "      <td>0</td>\n",
       "      <td>Early on many people did not die of heart dise...</td>\n",
       "      <td>chain</td>\n",
       "      <td>0.260204</td>\n",
       "      <td>0.547311</td>\n",
       "      <td>0.192485</td>\n",
       "    </tr>\n",
       "    <tr>\n",
       "      <td>2</td>\n",
       "      <td>0</td>\n",
       "      <td>In the old days, people didn't die of cancer o...</td>\n",
       "      <td>chain</td>\n",
       "      <td>0.971953</td>\n",
       "      <td>0.013823</td>\n",
       "      <td>0.014225</td>\n",
       "    </tr>\n",
       "    <tr>\n",
       "      <td>3</td>\n",
       "      <td>0</td>\n",
       "      <td>In the past people didn't die of the diseases ...</td>\n",
       "      <td>chain</td>\n",
       "      <td>0.970262</td>\n",
       "      <td>0.014979</td>\n",
       "      <td>0.014759</td>\n",
       "    </tr>\n",
       "    <tr>\n",
       "      <td>4</td>\n",
       "      <td>0</td>\n",
       "      <td>While antibiotics have been used to fight bact...</td>\n",
       "      <td>chain</td>\n",
       "      <td>0.035714</td>\n",
       "      <td>0.580411</td>\n",
       "      <td>0.383875</td>\n",
       "    </tr>\n",
       "  </tbody>\n",
       "</table>\n",
       "</div>"
      ],
      "text/plain": [
       "   generation                                           response condition  \\\n",
       "0           0  Most people in the past didn't die from heart ...     chain   \n",
       "1           0  Early on many people did not die of heart dise...     chain   \n",
       "2           0  In the old days, people didn't die of cancer o...     chain   \n",
       "3           0  In the past people didn't die of the diseases ...     chain   \n",
       "4           0  While antibiotics have been used to fight bact...     chain   \n",
       "\n",
       "          0         1         2  \n",
       "0  0.697985  0.285064  0.016951  \n",
       "1  0.260204  0.547311  0.192485  \n",
       "2  0.971953  0.013823  0.014225  \n",
       "3  0.970262  0.014979  0.014759  \n",
       "4  0.035714  0.580411  0.383875  "
      ]
     },
     "execution_count": 110,
     "metadata": {},
     "output_type": "execute_result"
    }
   ],
   "source": [
    "#save the data\n",
    "for i in range(num_topics):\n",
    "    data[i] = topics[i,:]\n",
    "    \n",
    "data.to_csv(\"data/lda_quick_test.tsv\",sep=\"\\t\")\n",
    "data.head()"
   ]
  },
  {
   "cell_type": "code",
   "execution_count": 111,
   "metadata": {},
   "outputs": [
    {
     "data": {
      "text/html": [
       "<div>\n",
       "<style scoped>\n",
       "    .dataframe tbody tr th:only-of-type {\n",
       "        vertical-align: middle;\n",
       "    }\n",
       "\n",
       "    .dataframe tbody tr th {\n",
       "        vertical-align: top;\n",
       "    }\n",
       "\n",
       "    .dataframe thead th {\n",
       "        text-align: right;\n",
       "    }\n",
       "</style>\n",
       "<table border=\"1\" class=\"dataframe\">\n",
       "  <thead>\n",
       "    <tr style=\"text-align: right;\">\n",
       "      <th></th>\n",
       "      <th>generation</th>\n",
       "      <th>0</th>\n",
       "      <th>1</th>\n",
       "      <th>2</th>\n",
       "    </tr>\n",
       "    <tr>\n",
       "      <th>condition</th>\n",
       "      <th></th>\n",
       "      <th></th>\n",
       "      <th></th>\n",
       "      <th></th>\n",
       "    </tr>\n",
       "  </thead>\n",
       "  <tbody>\n",
       "    <tr>\n",
       "      <td>chain</td>\n",
       "      <td>1.872340</td>\n",
       "      <td>0.664736</td>\n",
       "      <td>0.169326</td>\n",
       "      <td>0.165551</td>\n",
       "    </tr>\n",
       "    <tr>\n",
       "      <td>network</td>\n",
       "      <td>1.972973</td>\n",
       "      <td>0.369947</td>\n",
       "      <td>0.359539</td>\n",
       "      <td>0.270205</td>\n",
       "    </tr>\n",
       "  </tbody>\n",
       "</table>\n",
       "</div>"
      ],
      "text/plain": [
       "           generation         0         1         2\n",
       "condition                                          \n",
       "chain        1.872340  0.664736  0.169326  0.165551\n",
       "network      1.972973  0.369947  0.359539  0.270205"
      ]
     },
     "execution_count": 111,
     "metadata": {},
     "output_type": "execute_result"
    }
   ],
   "source": [
    "data.groupby(\"condition\").mean()"
   ]
  },
  {
   "cell_type": "code",
   "execution_count": 112,
   "metadata": {},
   "outputs": [
    {
     "data": {
      "text/html": [
       "<div>\n",
       "<style scoped>\n",
       "    .dataframe tbody tr th:only-of-type {\n",
       "        vertical-align: middle;\n",
       "    }\n",
       "\n",
       "    .dataframe tbody tr th {\n",
       "        vertical-align: top;\n",
       "    }\n",
       "\n",
       "    .dataframe thead th {\n",
       "        text-align: right;\n",
       "    }\n",
       "</style>\n",
       "<table border=\"1\" class=\"dataframe\">\n",
       "  <thead>\n",
       "    <tr style=\"text-align: right;\">\n",
       "      <th></th>\n",
       "      <th>generation</th>\n",
       "      <th>0</th>\n",
       "      <th>1</th>\n",
       "      <th>2</th>\n",
       "    </tr>\n",
       "    <tr>\n",
       "      <th>condition</th>\n",
       "      <th></th>\n",
       "      <th></th>\n",
       "      <th></th>\n",
       "      <th></th>\n",
       "    </tr>\n",
       "  </thead>\n",
       "  <tbody>\n",
       "    <tr>\n",
       "      <td>chain</td>\n",
       "      <td>1.377096</td>\n",
       "      <td>0.364872</td>\n",
       "      <td>0.263441</td>\n",
       "      <td>0.282320</td>\n",
       "    </tr>\n",
       "    <tr>\n",
       "      <td>network</td>\n",
       "      <td>1.413952</td>\n",
       "      <td>0.348749</td>\n",
       "      <td>0.352285</td>\n",
       "      <td>0.341888</td>\n",
       "    </tr>\n",
       "  </tbody>\n",
       "</table>\n",
       "</div>"
      ],
      "text/plain": [
       "           generation         0         1         2\n",
       "condition                                          \n",
       "chain        1.377096  0.364872  0.263441  0.282320\n",
       "network      1.413952  0.348749  0.352285  0.341888"
      ]
     },
     "execution_count": 112,
     "metadata": {},
     "output_type": "execute_result"
    }
   ],
   "source": [
    "data.groupby(\"condition\").std()"
   ]
  },
  {
   "cell_type": "code",
   "execution_count": 115,
   "metadata": {},
   "outputs": [
    {
     "data": {
      "text/html": [
       "<div>\n",
       "<style scoped>\n",
       "    .dataframe tbody tr th:only-of-type {\n",
       "        vertical-align: middle;\n",
       "    }\n",
       "\n",
       "    .dataframe tbody tr th {\n",
       "        vertical-align: top;\n",
       "    }\n",
       "\n",
       "    .dataframe thead th {\n",
       "        text-align: right;\n",
       "    }\n",
       "</style>\n",
       "<table border=\"1\" class=\"dataframe\">\n",
       "  <thead>\n",
       "    <tr style=\"text-align: right;\">\n",
       "      <th></th>\n",
       "      <th>0</th>\n",
       "      <th>1</th>\n",
       "      <th>2</th>\n",
       "    </tr>\n",
       "    <tr>\n",
       "      <th>generation</th>\n",
       "      <th></th>\n",
       "      <th></th>\n",
       "      <th></th>\n",
       "    </tr>\n",
       "  </thead>\n",
       "  <tbody>\n",
       "    <tr>\n",
       "      <td>0</td>\n",
       "      <td>0.599970</td>\n",
       "      <td>0.244425</td>\n",
       "      <td>0.153961</td>\n",
       "    </tr>\n",
       "    <tr>\n",
       "      <td>1</td>\n",
       "      <td>0.535240</td>\n",
       "      <td>0.274639</td>\n",
       "      <td>0.190122</td>\n",
       "    </tr>\n",
       "    <tr>\n",
       "      <td>2</td>\n",
       "      <td>0.468372</td>\n",
       "      <td>0.301709</td>\n",
       "      <td>0.229918</td>\n",
       "    </tr>\n",
       "    <tr>\n",
       "      <td>3</td>\n",
       "      <td>0.382903</td>\n",
       "      <td>0.340348</td>\n",
       "      <td>0.276749</td>\n",
       "    </tr>\n",
       "    <tr>\n",
       "      <td>4</td>\n",
       "      <td>0.426503</td>\n",
       "      <td>0.263627</td>\n",
       "      <td>0.309871</td>\n",
       "    </tr>\n",
       "  </tbody>\n",
       "</table>\n",
       "</div>"
      ],
      "text/plain": [
       "                   0         1         2\n",
       "generation                              \n",
       "0           0.599970  0.244425  0.153961\n",
       "1           0.535240  0.274639  0.190122\n",
       "2           0.468372  0.301709  0.229918\n",
       "3           0.382903  0.340348  0.276749\n",
       "4           0.426503  0.263627  0.309871"
      ]
     },
     "execution_count": 115,
     "metadata": {},
     "output_type": "execute_result"
    }
   ],
   "source": [
    "data.groupby([\"generation\"]).mean()"
   ]
  },
  {
   "cell_type": "code",
   "execution_count": 114,
   "metadata": {},
   "outputs": [
    {
     "data": {
      "text/html": [
       "<div>\n",
       "<style scoped>\n",
       "    .dataframe tbody tr th:only-of-type {\n",
       "        vertical-align: middle;\n",
       "    }\n",
       "\n",
       "    .dataframe tbody tr th {\n",
       "        vertical-align: top;\n",
       "    }\n",
       "\n",
       "    .dataframe thead th {\n",
       "        text-align: right;\n",
       "    }\n",
       "</style>\n",
       "<table border=\"1\" class=\"dataframe\">\n",
       "  <thead>\n",
       "    <tr style=\"text-align: right;\">\n",
       "      <th></th>\n",
       "      <th></th>\n",
       "      <th>0</th>\n",
       "      <th>1</th>\n",
       "      <th>2</th>\n",
       "    </tr>\n",
       "    <tr>\n",
       "      <th>condition</th>\n",
       "      <th>generation</th>\n",
       "      <th></th>\n",
       "      <th></th>\n",
       "      <th></th>\n",
       "    </tr>\n",
       "  </thead>\n",
       "  <tbody>\n",
       "    <tr>\n",
       "      <td rowspan=\"5\" valign=\"top\">chain</td>\n",
       "      <td>0</td>\n",
       "      <td>0.702012</td>\n",
       "      <td>0.228318</td>\n",
       "      <td>0.067847</td>\n",
       "    </tr>\n",
       "    <tr>\n",
       "      <td>1</td>\n",
       "      <td>0.770305</td>\n",
       "      <td>0.098619</td>\n",
       "      <td>0.131076</td>\n",
       "    </tr>\n",
       "    <tr>\n",
       "      <td>2</td>\n",
       "      <td>0.709022</td>\n",
       "      <td>0.165325</td>\n",
       "      <td>0.125653</td>\n",
       "    </tr>\n",
       "    <tr>\n",
       "      <td>3</td>\n",
       "      <td>0.497695</td>\n",
       "      <td>0.176232</td>\n",
       "      <td>0.326073</td>\n",
       "    </tr>\n",
       "    <tr>\n",
       "      <td>4</td>\n",
       "      <td>0.636034</td>\n",
       "      <td>0.181910</td>\n",
       "      <td>0.182056</td>\n",
       "    </tr>\n",
       "    <tr>\n",
       "      <td rowspan=\"5\" valign=\"top\">network</td>\n",
       "      <td>0</td>\n",
       "      <td>0.531941</td>\n",
       "      <td>0.255164</td>\n",
       "      <td>0.211370</td>\n",
       "    </tr>\n",
       "    <tr>\n",
       "      <td>1</td>\n",
       "      <td>0.378529</td>\n",
       "      <td>0.391986</td>\n",
       "      <td>0.229485</td>\n",
       "    </tr>\n",
       "    <tr>\n",
       "      <td>2</td>\n",
       "      <td>0.307939</td>\n",
       "      <td>0.392632</td>\n",
       "      <td>0.299429</td>\n",
       "    </tr>\n",
       "    <tr>\n",
       "      <td>3</td>\n",
       "      <td>0.306376</td>\n",
       "      <td>0.449758</td>\n",
       "      <td>0.243866</td>\n",
       "    </tr>\n",
       "    <tr>\n",
       "      <td>4</td>\n",
       "      <td>0.321737</td>\n",
       "      <td>0.304485</td>\n",
       "      <td>0.373778</td>\n",
       "    </tr>\n",
       "  </tbody>\n",
       "</table>\n",
       "</div>"
      ],
      "text/plain": [
       "                             0         1         2\n",
       "condition generation                              \n",
       "chain     0           0.702012  0.228318  0.067847\n",
       "          1           0.770305  0.098619  0.131076\n",
       "          2           0.709022  0.165325  0.125653\n",
       "          3           0.497695  0.176232  0.326073\n",
       "          4           0.636034  0.181910  0.182056\n",
       "network   0           0.531941  0.255164  0.211370\n",
       "          1           0.378529  0.391986  0.229485\n",
       "          2           0.307939  0.392632  0.299429\n",
       "          3           0.306376  0.449758  0.243866\n",
       "          4           0.321737  0.304485  0.373778"
      ]
     },
     "execution_count": 114,
     "metadata": {},
     "output_type": "execute_result"
    }
   ],
   "source": [
    "data.groupby([\"condition\",\"generation\"]).mean()"
   ]
  },
  {
   "cell_type": "code",
   "execution_count": null,
   "metadata": {},
   "outputs": [],
   "source": []
  },
  {
   "cell_type": "code",
   "execution_count": null,
   "metadata": {},
   "outputs": [],
   "source": []
  },
  {
   "cell_type": "code",
   "execution_count": null,
   "metadata": {},
   "outputs": [],
   "source": []
  }
 ],
 "metadata": {
  "kernelspec": {
   "display_name": "Python 3",
   "language": "python",
   "name": "python3"
  },
  "language_info": {
   "codemirror_mode": {
    "name": "ipython",
    "version": 3
   },
   "file_extension": ".py",
   "mimetype": "text/x-python",
   "name": "python",
   "nbconvert_exporter": "python",
   "pygments_lexer": "ipython3",
   "version": "3.7.4"
  }
 },
 "nbformat": 4,
 "nbformat_minor": 2
}
