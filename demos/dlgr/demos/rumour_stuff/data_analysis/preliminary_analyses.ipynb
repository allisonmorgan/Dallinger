{
 "cells": [
  {
   "cell_type": "code",
   "execution_count": 1,
   "metadata": {},
   "outputs": [],
   "source": [
    "import pandas as pd\n",
    "import numpy as np\n",
    "import matplotlib.pyplot as plt\n",
    "\n",
    "from scipy.stats import ks_2samp, wilcoxon, ttest_ind, ranksums, sem\n",
    "%matplotlib inline"
   ]
  },
  {
   "cell_type": "code",
   "execution_count": 2,
   "metadata": {},
   "outputs": [],
   "source": [
    "LABEL_SIZE = 14; TITLE_SIZE = 16; LEGEND_SIZE = 12\n",
    "\n",
    "def finalize(ax): \n",
    "    ax.tick_params(direction='out')\n",
    "    ax.get_xaxis().tick_bottom()\n",
    "    ax.get_yaxis().tick_left()\n",
    "    ax.spines[\"right\"].set_visible(False)\n",
    "    ax.spines[\"top\"].set_visible(False)\n",
    "    ax.yaxis.label.set_size(LABEL_SIZE)\n",
    "    ax.xaxis.label.set_size(LABEL_SIZE)\n",
    "    ax.tick_params(axis='both', which='major', labelsize=LABEL_SIZE, pad=7)"
   ]
  },
  {
   "cell_type": "markdown",
   "metadata": {},
   "source": [
    "## Difference in recall between reading passage one or three times"
   ]
  },
  {
   "cell_type": "code",
   "execution_count": 3,
   "metadata": {},
   "outputs": [],
   "source": [
    "read_once = pd.read_csv('data/pilot_1x40_oct_14_control/info_cleaned.csv')\n",
    "read_thrice = pd.read_csv('data/pilot_3x40_oct_14_control/info_cleaned.csv')"
   ]
  },
  {
   "cell_type": "code",
   "execution_count": 4,
   "metadata": {},
   "outputs": [],
   "source": [
    "read_once['number_of_words'] = read_once.response.str.strip().apply(len)\n",
    "read_thrice['number_of_words'] = read_thrice.response.str.strip().apply(len)"
   ]
  },
  {
   "cell_type": "code",
   "execution_count": 5,
   "metadata": {},
   "outputs": [],
   "source": [
    "read_once['number_of_uniq_words'] = read_once.response.str.split(' ').apply(set).apply(len)\n",
    "read_thrice['number_of_uniq_words'] = read_thrice.response.str.split(' ').apply(set).apply(len)"
   ]
  },
  {
   "cell_type": "code",
   "execution_count": 26,
   "metadata": {},
   "outputs": [
    {
     "data": {
      "image/png": "[encoded data removed]",
      "text/plain": [
       "<Figure size 432x288 with 1 Axes>"
      ]
     },
     "metadata": {
      "needs_background": "light"
     },
     "output_type": "display_data"
    }
   ],
   "source": [
    "fig, ax = plt.subplots(1, 1, figsize=(6, 4))\n",
    "\n",
    "read_once['number_of_words'].hist(label='Read once', color='r', alpha=0.2, grid=False, density=True, ax=ax)\n",
    "read_thrice['number_of_words'].hist(label='Read thrice', color='r', alpha=0.5, grid=False, density=True, ax=ax)\n",
    "\n",
    "plt.ylabel('Percentage of responses', size=LABEL_SIZE)\n",
    "plt.xlabel('Number of words', size=LABEL_SIZE)\n",
    "plt.title('Distribution of responses\\nwith a particular number of words', size=TITLE_SIZE)\n",
    "\n",
    "plt.legend(frameon=False)\n",
    "finalize(ax)\n",
    "plt.tight_layout()\n",
    "plt.savefig('diffs_reading_times.pdf', dpi=1000)"
   ]
  },
  {
   "cell_type": "code",
   "execution_count": 7,
   "metadata": {},
   "outputs": [
    {
     "data": {
      "text/plain": [
       "count      38.000000\n",
       "mean      788.447368\n",
       "std       365.871244\n",
       "min       260.000000\n",
       "25%       529.500000\n",
       "50%       757.500000\n",
       "75%       919.250000\n",
       "max      2065.000000\n",
       "Name: number_of_words, dtype: float64"
      ]
     },
     "execution_count": 7,
     "metadata": {},
     "output_type": "execute_result"
    }
   ],
   "source": [
    "read_once['number_of_words'].describe()"
   ]
  },
  {
   "cell_type": "code",
   "execution_count": 8,
   "metadata": {},
   "outputs": [
    {
     "data": {
      "text/plain": [
       "count      39.000000\n",
       "mean      829.589744\n",
       "std       393.846799\n",
       "min       276.000000\n",
       "25%       523.000000\n",
       "50%       819.000000\n",
       "75%      1032.500000\n",
       "max      1652.000000\n",
       "Name: number_of_words, dtype: float64"
      ]
     },
     "execution_count": 8,
     "metadata": {},
     "output_type": "execute_result"
    }
   ],
   "source": [
    "read_thrice['number_of_words'].describe()"
   ]
  },
  {
   "cell_type": "code",
   "execution_count": 9,
   "metadata": {},
   "outputs": [
    {
     "data": {
      "text/plain": [
       "Ks_2sampResult(statistic=0.14844804318488525, pvalue=0.7559154857910084)"
      ]
     },
     "execution_count": 9,
     "metadata": {},
     "output_type": "execute_result"
    }
   ],
   "source": [
    "ks_2samp(read_once['number_of_words'], read_thrice['number_of_words'])"
   ]
  },
  {
   "cell_type": "code",
   "execution_count": 10,
   "metadata": {},
   "outputs": [
    {
     "data": {
      "text/plain": [
       "Ttest_indResult(statistic=-0.47461184118449934, pvalue=0.6364427272337461)"
      ]
     },
     "execution_count": 10,
     "metadata": {},
     "output_type": "execute_result"
    }
   ],
   "source": [
    "ttest_ind(read_once['number_of_words'], read_thrice['number_of_words'])"
   ]
  },
  {
   "cell_type": "code",
   "execution_count": 11,
   "metadata": {},
   "outputs": [
    {
     "data": {
      "text/plain": [
       "RanksumsResult(statistic=-0.4584919697532844, pvalue=0.6465990304445279)"
      ]
     },
     "execution_count": 11,
     "metadata": {},
     "output_type": "execute_result"
    }
   ],
   "source": [
    "ranksums(read_once['number_of_words'], read_thrice['number_of_words'])"
   ]
  },
  {
   "cell_type": "markdown",
   "metadata": {},
   "source": [
    "## Chain versus network analyzed by number of words"
   ]
  },
  {
   "cell_type": "code",
   "execution_count": 12,
   "metadata": {},
   "outputs": [],
   "source": [
    "chain = pd.read_csv('data/pilot1x10_sept_27/info_cleaned.csv')\n",
    "network = pd.read_csv('data/pilot3x5x5_sept_30/info_cleaned.csv')"
   ]
  },
  {
   "cell_type": "code",
   "execution_count": 13,
   "metadata": {},
   "outputs": [],
   "source": [
    "chain['number_of_words'] = chain.response.str.strip().apply(len).astype(float)\n",
    "network['number_of_words'] = network.response.str.strip().apply(len).astype(float)"
   ]
  },
  {
   "cell_type": "code",
   "execution_count": 14,
   "metadata": {},
   "outputs": [],
   "source": [
    "chain['number_of_uniq_words'] = chain.response.str.split(' ').apply(set).apply(len)\n",
    "network['number_of_uniq_words'] = network.response.str.split(' ').apply(set).apply(len)"
   ]
  },
  {
   "cell_type": "code",
   "execution_count": 15,
   "metadata": {},
   "outputs": [],
   "source": [
    "grouped_chain = chain.sort_values('generation').groupby(['replication'])\n",
    "chain_response_lengths = list(grouped_chain['number_of_words'].apply(list))"
   ]
  },
  {
   "cell_type": "code",
   "execution_count": 16,
   "metadata": {},
   "outputs": [],
   "source": [
    "grouped_network = network.groupby(['replication', 'generation'])\n",
    "network_response_lengths = []; replication_counter = 0; replication_lengths = []\n",
    "for i, row in grouped_network:\n",
    "    if i[0] > replication_counter:\n",
    "        network_response_lengths.append(replication_lengths)\n",
    "        replication_lengths = []; replication_counter += 1\n",
    "    \n",
    "    replication_lengths.append(list(row['number_of_words']))"
   ]
  },
  {
   "cell_type": "code",
   "execution_count": 17,
   "metadata": {},
   "outputs": [],
   "source": [
    "flattened_network_response_length = [None]*5\n",
    "for i in range(0, 5):\n",
    "    for single_network in network_response_lengths:\n",
    "        if flattened_network_response_length[i] is None:\n",
    "            flattened_network_response_length[i] = []\n",
    "        flattened_network_response_length[i].extend(single_network[i])"
   ]
  },
  {
   "cell_type": "code",
   "execution_count": 18,
   "metadata": {},
   "outputs": [],
   "source": [
    "network_df = pd.DataFrame(flattened_network_response_length)\n",
    "chain_df = pd.DataFrame(chain_response_lengths)"
   ]
  },
  {
   "cell_type": "code",
   "execution_count": 40,
   "metadata": {},
   "outputs": [
    {
     "data": {
      "image/png": "[encoded data removed]",
      "text/plain": [
       "<Figure size 432x288 with 1 Axes>"
      ]
     },
     "metadata": {
      "needs_background": "light"
     },
     "output_type": "display_data"
    }
   ],
   "source": [
    "fig, ax = plt.subplots(1, 1, figsize=(6, 4))\n",
    "\n",
    "## Plot the chain results\n",
    "# for single_chain in chain_response_lengths:\n",
    "#     plt.scatter(range(0, len(single_chain)), single_chain, color='black', alpha=0.15)\n",
    "\n",
    "mean_length = np.array(chain_df.apply(np.nanmean, axis=0))\n",
    "sem_length = np.array(chain_df.apply(np.nanstd, axis=0))/np.sqrt(chain_df.shape[0]*chain_df.shape[1])\n",
    "\n",
    "plt.plot(range(0, 5), mean_length, color='black', alpha=1.0, marker='o', label='Chain (average)')\n",
    "plt.fill_between(range(0, 5), mean_length-2*sem_length, mean_length+2*sem_length, color='black', alpha=0.25)\n",
    "\n",
    "## Plot the network results\n",
    "# for single_network in network_response_lengths:\n",
    "#     for i in range(0, len(single_network)):\n",
    "#         plt.scatter([i]*len(single_network[i]), single_network[i], color='red', alpha=0.15)\n",
    "\n",
    "mean_length = network_df.apply(np.nanmean, axis=1)\n",
    "sem_length = network_df.apply(np.nanstd, axis=1)/np.sqrt(network_df.shape[0]*network_df.shape[1])\n",
    "\n",
    "plt.plot(range(0, 5), mean_length, color='red', alpha=1.0, marker='o', label='Network (average)')\n",
    "plt.fill_between(range(0, 5), mean_length-2*sem_length, mean_length+2*sem_length, color='red', alpha=0.25)\n",
    "\n",
    "## Finish up with styling\n",
    "plt.ylabel('Number of words', size=LABEL_SIZE)\n",
    "plt.xlabel('Network length', size=LABEL_SIZE)\n",
    "plt.title('Number of words over experiment time', size=TITLE_SIZE)\n",
    "plt.ylim(150, 850)\n",
    "plt.legend(frameon=False)\n",
    "\n",
    "finalize(ax)\n",
    "plt.tight_layout()\n",
    "plt.savefig('network_vs_chain.pdf', dpi=1000)"
   ]
  },
  {
   "cell_type": "code",
   "execution_count": null,
   "metadata": {},
   "outputs": [],
   "source": []
  }
 ],
 "metadata": {
  "kernelspec": {
   "display_name": "Python 3",
   "language": "python",
   "name": "python3"
  },
  "language_info": {
   "codemirror_mode": {
    "name": "ipython",
    "version": 3
   },
   "file_extension": ".py",
   "mimetype": "text/x-python",
   "name": "python",
   "nbconvert_exporter": "python",
   "pygments_lexer": "ipython3",
   "version": "3.7.3"
  }
 },
 "nbformat": 4,
 "nbformat_minor": 2
}
