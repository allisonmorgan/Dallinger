{
 "cells": [
  {
   "cell_type": "code",
   "execution_count": 1,
   "metadata": {},
   "outputs": [],
   "source": [
    "import pandas as pd\n",
    "import numpy as np\n",
    "import matplotlib.pyplot as plt\n",
    "\n",
    "from scipy.stats import ks_2samp, wilcoxon, ttest_ind, ranksums, sem\n",
    "%matplotlib inline"
   ]
  },
  {
   "cell_type": "code",
   "execution_count": 2,
   "metadata": {},
   "outputs": [],
   "source": [
    "LABEL_SIZE = 14; TITLE_SIZE = 16; LEGEND_SIZE = 12\n",
    "\n",
    "def finalize(ax): \n",
    "    ax.tick_params(direction='out')\n",
    "    ax.get_xaxis().tick_bottom()\n",
    "    ax.get_yaxis().tick_left()\n",
    "    ax.spines[\"right\"].set_visible(False)\n",
    "    ax.spines[\"top\"].set_visible(False)\n",
    "    ax.yaxis.label.set_size(LABEL_SIZE)\n",
    "    ax.xaxis.label.set_size(LABEL_SIZE)\n",
    "    ax.tick_params(axis='both', which='major', labelsize=LABEL_SIZE, pad=7)"
   ]
  },
  {
   "cell_type": "markdown",
   "metadata": {},
   "source": [
    "## Difference in recall between reading passage one or three times"
   ]
  },
  {
   "cell_type": "code",
   "execution_count": 3,
   "metadata": {},
   "outputs": [],
   "source": [
    "read_once = pd.read_csv('data/pilot_1x40_oct_14_control/info_cleaned.csv')\n",
    "read_thrice = pd.read_csv('data/pilot_3x40_oct_14_control/info_cleaned.csv')"
   ]
  },
  {
   "cell_type": "code",
   "execution_count": 4,
   "metadata": {},
   "outputs": [],
   "source": [
    "read_once['number_of_words'] = read_once.response.str.split(' ').apply(len)\n",
    "read_thrice['number_of_words'] = read_thrice.response.str.split(' ').apply(len)"
   ]
  },
  {
   "cell_type": "code",
   "execution_count": 5,
   "metadata": {},
   "outputs": [],
   "source": [
    "read_once['number_of_uniq_words'] = read_once.response.str.split(' ').apply(set).apply(len)\n",
    "read_thrice['number_of_uniq_words'] = read_thrice.response.str.split(' ').apply(set).apply(len)"
   ]
  },
  {
   "cell_type": "code",
   "execution_count": 6,
   "metadata": {},
   "outputs": [
    {
     "data": {
      "image/png": "[encoded data removed]",
      "text/plain": [
       "<Figure size 432x288 with 1 Axes>"
      ]
     },
     "metadata": {
      "needs_background": "light"
     },
     "output_type": "display_data"
    }
   ],
   "source": [
    "fig, ax = plt.subplots(1, 1, figsize=(6, 4))\n",
    "\n",
    "read_once['number_of_words'].hist(label='Read once', color='r', alpha=0.2, grid=False, density=True, ax=ax)\n",
    "read_thrice['number_of_words'].hist(label='Read thrice', color='r', alpha=0.5, grid=False, density=True, ax=ax)\n",
    "\n",
    "plt.ylabel('Percentage of responses', size=LABEL_SIZE)\n",
    "plt.xlabel('Number of words', size=LABEL_SIZE)\n",
    "plt.title('Distribution of responses\\nwith a particular number of words', size=TITLE_SIZE)\n",
    "\n",
    "plt.legend(frameon=False)\n",
    "finalize(ax)\n",
    "plt.tight_layout()\n",
    "plt.savefig('diffs_reading_times.pdf', dpi=1000)"
   ]
  },
  {
   "cell_type": "code",
   "execution_count": 7,
   "metadata": {},
   "outputs": [
    {
     "data": {
      "text/plain": [
       "count     38.000000\n",
       "mean     136.131579\n",
       "std       64.140122\n",
       "min       52.000000\n",
       "25%       90.500000\n",
       "50%      127.000000\n",
       "75%      158.750000\n",
       "max      358.000000\n",
       "Name: number_of_words, dtype: float64"
      ]
     },
     "execution_count": 7,
     "metadata": {},
     "output_type": "execute_result"
    }
   ],
   "source": [
    "read_once['number_of_words'].describe()"
   ]
  },
  {
   "cell_type": "code",
   "execution_count": 8,
   "metadata": {},
   "outputs": [
    {
     "data": {
      "text/plain": [
       "count     39.000000\n",
       "mean     139.461538\n",
       "std       64.895806\n",
       "min       46.000000\n",
       "25%       86.500000\n",
       "50%      134.000000\n",
       "75%      177.000000\n",
       "max      273.000000\n",
       "Name: number_of_words, dtype: float64"
      ]
     },
     "execution_count": 8,
     "metadata": {},
     "output_type": "execute_result"
    }
   ],
   "source": [
    "read_thrice['number_of_words'].describe()"
   ]
  },
  {
   "cell_type": "code",
   "execution_count": 9,
   "metadata": {},
   "outputs": [
    {
     "data": {
      "text/plain": [
       "Ks_2sampResult(statistic=0.14574898785425106, pvalue=0.7754755216281364)"
      ]
     },
     "execution_count": 9,
     "metadata": {},
     "output_type": "execute_result"
    }
   ],
   "source": [
    "ks_2samp(read_once['number_of_words'], read_thrice['number_of_words'])"
   ]
  },
  {
   "cell_type": "code",
   "execution_count": 10,
   "metadata": {},
   "outputs": [
    {
     "data": {
      "text/plain": [
       "Ttest_indResult(statistic=-0.22641004237217544, pvalue=0.8214984464874829)"
      ]
     },
     "execution_count": 10,
     "metadata": {},
     "output_type": "execute_result"
    }
   ],
   "source": [
    "ttest_ind(read_once['number_of_words'], read_thrice['number_of_words'])"
   ]
  },
  {
   "cell_type": "code",
   "execution_count": 11,
   "metadata": {},
   "outputs": [
    {
     "data": {
      "text/plain": [
       "RanksumsResult(statistic=-0.2852838922909325, pvalue=0.775426652421743)"
      ]
     },
     "execution_count": 11,
     "metadata": {},
     "output_type": "execute_result"
    }
   ],
   "source": [
    "ranksums(read_once['number_of_words'], read_thrice['number_of_words'])"
   ]
  },
  {
   "cell_type": "markdown",
   "metadata": {},
   "source": [
    "## Chain versus network analyzed by number of words"
   ]
  },
  {
   "cell_type": "code",
   "execution_count": 12,
   "metadata": {},
   "outputs": [],
   "source": [
    "chain = pd.read_csv('data/pilot1x10_sept_27/info_cleaned.csv')\n",
    "network = pd.read_csv('data/pilot3x5x5_sept_30/info_cleaned.csv')"
   ]
  },
  {
   "cell_type": "code",
   "execution_count": 13,
   "metadata": {},
   "outputs": [],
   "source": [
    "chain['number_of_words'] = chain.response.str.split(' ').apply(len).astype(float)\n",
    "network['number_of_words'] = network.response.str.split(' ').apply(len).astype(float)"
   ]
  },
  {
   "cell_type": "code",
   "execution_count": 14,
   "metadata": {},
   "outputs": [
    {
     "name": "stdout",
     "output_type": "stream",
     "text": [
      "0 105.93333333333334\n",
      "1 78.93333333333334\n",
      "2 63.266666666666666\n",
      "3 45.93333333333333\n",
      "4 46.57142857142857\n"
     ]
    }
   ],
   "source": [
    "for gen in range(0, 5):\n",
    "    print(gen, network[network.generation == gen].number_of_words.mean())"
   ]
  },
  {
   "cell_type": "code",
   "execution_count": 15,
   "metadata": {},
   "outputs": [
    {
     "name": "stdout",
     "output_type": "stream",
     "text": [
      "0 118.6\n",
      "1 69.5\n",
      "2 57.0\n",
      "3 38.9\n",
      "4 33.142857142857146\n"
     ]
    }
   ],
   "source": [
    "for gen in range(0, 5):\n",
    "    print(gen, chain[chain.generation == gen].number_of_words.mean())"
   ]
  },
  {
   "cell_type": "code",
   "execution_count": 16,
   "metadata": {},
   "outputs": [],
   "source": [
    "chain['number_of_uniq_words'] = chain.response.str.split(' ').apply(set).apply(len)\n",
    "network['number_of_uniq_words'] = network.response.str.split(' ').apply(set).apply(len)"
   ]
  },
  {
   "cell_type": "code",
   "execution_count": 17,
   "metadata": {},
   "outputs": [],
   "source": [
    "grouped_chain = chain.sort_values('generation').groupby(['replication'])\n",
    "chain_response_lengths = list(grouped_chain['number_of_words'].apply(list))"
   ]
  },
  {
   "cell_type": "code",
   "execution_count": 18,
   "metadata": {},
   "outputs": [],
   "source": [
    "grouped_network = network.groupby(['replication', 'generation'])\n",
    "network_response_lengths = []; replication_counter = 0; replication_lengths = []\n",
    "for i, row in grouped_network:\n",
    "    if i[0] > replication_counter:\n",
    "        network_response_lengths.append(replication_lengths)\n",
    "        replication_lengths = []; replication_counter += 1\n",
    "    \n",
    "    replication_lengths.append(list(row['number_of_words']))\n",
    "network_response_lengths.append(replication_lengths)"
   ]
  },
  {
   "cell_type": "code",
   "execution_count": 19,
   "metadata": {},
   "outputs": [],
   "source": [
    "flattened_network_response_length = [None]*5\n",
    "for i in range(0, 5):\n",
    "    for single_network in network_response_lengths:\n",
    "        if flattened_network_response_length[i] is None:\n",
    "            flattened_network_response_length[i] = []\n",
    "        flattened_network_response_length[i].extend(single_network[i])"
   ]
  },
  {
   "cell_type": "code",
   "execution_count": 20,
   "metadata": {},
   "outputs": [],
   "source": [
    "network_df = pd.DataFrame(flattened_network_response_length)\n",
    "chain_df = pd.DataFrame(chain_response_lengths)"
   ]
  },
  {
   "cell_type": "code",
   "execution_count": 21,
   "metadata": {},
   "outputs": [
    {
     "data": {
      "image/png": "[encoded data removed]",
      "text/plain": [
       "<Figure size 432x288 with 1 Axes>"
      ]
     },
     "metadata": {
      "needs_background": "light"
     },
     "output_type": "display_data"
    }
   ],
   "source": [
    "fig, ax = plt.subplots(1, 1, figsize=(6, 4))\n",
    "\n",
    "## Plot the chain results\n",
    "# for single_chain in chain_response_lengths:\n",
    "#     plt.scatter(range(0, len(single_chain)), single_chain, color='black', alpha=0.15)\n",
    "\n",
    "mean_length = np.array(chain_df.apply(np.nanmean, axis=0))\n",
    "sem_length = np.array(chain_df.apply(np.nanstd, axis=0))/np.sqrt(chain_df.shape[0]*chain_df.shape[1])\n",
    "\n",
    "plt.plot(range(0, 5), mean_length, color='black', alpha=1.0, marker='o', label='Chain (average)')\n",
    "plt.fill_between(range(0, 5), mean_length-2*sem_length, mean_length+2*sem_length, color='black', alpha=0.25)\n",
    "\n",
    "## Plot the network results\n",
    "# for single_network in network_response_lengths:\n",
    "#     for i in range(0, len(single_network)):\n",
    "#         plt.scatter([i]*len(single_network[i]), single_network[i], color='red', alpha=0.15)\n",
    "\n",
    "mean_length = network_df.apply(np.nanmean, axis=1)\n",
    "sem_length = network_df.apply(np.nanstd, axis=1)/np.sqrt(network_df.shape[0]*network_df.shape[1])\n",
    "\n",
    "plt.plot(range(0, 5), mean_length, color='red', alpha=1.0, marker='o', label='Network (average)')\n",
    "plt.fill_between(range(0, 5), mean_length-2*sem_length, mean_length+2*sem_length, color='red', alpha=0.25)\n",
    "\n",
    "## Finish up with styling\n",
    "plt.ylabel('Number of words', size=LABEL_SIZE)\n",
    "plt.xlabel('Network length', size=LABEL_SIZE)\n",
    "plt.title('Number of words over experiment time', size=TITLE_SIZE)\n",
    "# plt.ylim(0, 125)\n",
    "plt.legend(frameon=False)\n",
    "\n",
    "finalize(ax)\n",
    "plt.tight_layout()\n",
    "plt.savefig('network_vs_chain.pdf', dpi=1000)"
   ]
  },
  {
   "cell_type": "markdown",
   "metadata": {},
   "source": [
    "## Automatic SVO Parsing"
   ]
  },
  {
   "cell_type": "code",
   "execution_count": 22,
   "metadata": {},
   "outputs": [],
   "source": [
    "from svo_parsing.subject_extraction import clean_document, extract_subject, tag_sentences, get_svo"
   ]
  },
  {
   "cell_type": "code",
   "execution_count": 23,
   "metadata": {},
   "outputs": [],
   "source": [
    "all_chain_responses = list(grouped_chain['response'].apply(list))"
   ]
  },
  {
   "cell_type": "code",
   "execution_count": 24,
   "metadata": {},
   "outputs": [],
   "source": [
    "# Try and compute the following in parallel\n",
    "from multiprocessing import cpu_count\n",
    "from multiprocessing.pool import ThreadPool as Pool\n",
    "\n",
    "def kill_pool(err):\n",
    "    print(err)\n",
    "    pool.terminate()"
   ]
  },
  {
   "cell_type": "code",
   "execution_count": 25,
   "metadata": {},
   "outputs": [],
   "source": [
    "def get_propositions(response):\n",
    "    cleaned_response = clean_document(response)\n",
    "    subjects = extract_subject(cleaned_response)\n",
    "        \n",
    "    propositions = []\n",
    "    for subject in subjects:\n",
    "        tagged_sents = tag_sentences(subject, cleaned_response)\n",
    "        for sentence in tagged_sents:\n",
    "            svo = get_svo(sentence, subject)\n",
    "            if svo != {}:\n",
    "                propositions.append('-'.join([svo['subject'], svo['action'], svo['object']]))\n",
    "    \n",
    "    return propositions"
   ]
  },
  {
   "cell_type": "code",
   "execution_count": 26,
   "metadata": {},
   "outputs": [],
   "source": [
    "pool = Pool(processes = cpu_count()-2)\n",
    "\n",
    "chain_propositions = [[]]*len(all_chain_responses); results = []; ids = []\n",
    "for rep, single_chain_responses in enumerate(all_chain_responses): \n",
    "    for i, response in enumerate(single_chain_responses):\n",
    "        result = pool.apply_async(get_propositions, [response], error_callback=kill_pool)\n",
    "        results.append(result)\n",
    "        ids.append((rep, i))\n",
    "\n",
    "for i, result in enumerate(results):\n",
    "    (rep, i) = ids[i]\n",
    "    propositions = result.get(timeout=None) \n",
    "    chain_propositions[rep].append(len(propositions))\n",
    "\n",
    "pool.close()\n",
    "pool.terminate()"
   ]
  },
  {
   "cell_type": "code",
   "execution_count": 27,
   "metadata": {},
   "outputs": [],
   "source": [
    "all_network_responses = []; replication_counter = 0; single_network_responses = []\n",
    "for i, row in grouped_network:\n",
    "    if i[0] > replication_counter:\n",
    "        all_network_responses.append(single_network_responses)\n",
    "        single_network_responses = []; replication_counter += 1\n",
    "    \n",
    "    single_network_responses.append(list(row['response']))\n",
    "all_network_responses.append(single_network_responses)"
   ]
  },
  {
   "cell_type": "code",
   "execution_count": 30,
   "metadata": {},
   "outputs": [
    {
     "name": "stdout",
     "output_type": "stream",
     "text": [
      "(0, 0, 0)\n",
      "(0, 0, 1)\n",
      "(0, 0, 2)\n",
      "(0, 1, 0)\n",
      "(0, 1, 1)\n",
      "(0, 1, 2)\n",
      "(0, 2, 0)\n",
      "(0, 2, 1)\n",
      "(0, 2, 2)\n",
      "(0, 3, 0)\n",
      "(0, 3, 1)\n",
      "(0, 3, 2)\n",
      "(0, 4, 0)\n",
      "(0, 4, 1)\n",
      "(0, 4, 2)\n",
      "(1, 0, 0)\n",
      "(1, 0, 1)\n",
      "(1, 0, 2)\n",
      "(1, 1, 0)\n",
      "(1, 1, 1)\n",
      "(1, 1, 2)\n",
      "(1, 2, 0)\n",
      "(1, 2, 1)\n",
      "(1, 2, 2)\n",
      "(1, 3, 0)\n",
      "(1, 3, 1)\n",
      "(1, 3, 2)\n",
      "(1, 4, 0)\n",
      "(1, 4, 1)\n",
      "(2, 0, 0)\n",
      "(2, 0, 1)\n",
      "(2, 0, 2)\n",
      "(2, 1, 0)\n",
      "(2, 1, 1)\n",
      "(2, 1, 2)\n",
      "(2, 2, 0)\n",
      "(2, 2, 1)\n",
      "(2, 2, 2)\n",
      "(2, 3, 0)\n",
      "(2, 3, 1)\n",
      "(2, 3, 2)\n",
      "(2, 4, 0)\n",
      "(2, 4, 1)\n",
      "(2, 4, 2)\n",
      "(3, 0, 0)\n",
      "(3, 0, 1)\n",
      "(3, 0, 2)\n",
      "(3, 1, 0)\n",
      "(3, 1, 1)\n",
      "(3, 1, 2)\n",
      "(3, 2, 0)\n",
      "(3, 2, 1)\n",
      "(3, 2, 2)\n",
      "(3, 3, 0)\n",
      "(3, 3, 1)\n",
      "(3, 3, 2)\n",
      "(3, 4, 0)\n",
      "(3, 4, 1)\n",
      "(3, 4, 2)\n",
      "(4, 0, 0)\n",
      "(4, 0, 1)\n",
      "(4, 0, 2)\n",
      "(4, 1, 0)\n",
      "(4, 1, 1)\n",
      "(4, 1, 2)\n",
      "(4, 2, 0)\n",
      "(4, 2, 1)\n",
      "(4, 2, 2)\n",
      "(4, 3, 0)\n",
      "(4, 3, 1)\n",
      "(4, 3, 2)\n",
      "(4, 4, 0)\n",
      "(4, 4, 1)\n",
      "(4, 4, 2)\n"
     ]
    }
   ],
   "source": [
    "pool = Pool(processes = cpu_count()-2)\n",
    "\n",
    "network_propositions = [[[]]]*len(all_network_responses); results = []; ids = []\n",
    "for rep, single_network_responses in enumerate(all_network_responses): \n",
    "    for j, level in enumerate(single_network_responses):\n",
    "        for i, response in enumerate(level):\n",
    "            result = pool.apply_async(get_propositions, [response], error_callback=kill_pool)\n",
    "            results.append(result)\n",
    "            ids.append((rep, j, i))\n",
    "\n",
    "for i, result in enumerate(results):\n",
    "    (rep, j, i) = ids[i]\n",
    "    print((rep, j, i))\n",
    "    propositions = result.get(timeout=None)\n",
    "    if len(network_propositions[rep]) == j:\n",
    "        network_propositions[rep].append([])\n",
    "    network_propositions[rep][j].append(propositions)\n",
    "\n",
    "pool.close()\n",
    "pool.terminate()"
   ]
  },
  {
   "cell_type": "code",
   "execution_count": 46,
   "metadata": {},
   "outputs": [
    {
     "data": {
      "text/plain": [
       "(5, 15, 45)"
      ]
     },
     "execution_count": 46,
     "metadata": {},
     "output_type": "execute_result"
    }
   ],
   "source": [
    "len(network_propositions[0]), len(network_propositions[0][0]), len(network_propositions[0][0][0])"
   ]
  },
  {
   "cell_type": "code",
   "execution_count": 43,
   "metadata": {},
   "outputs": [],
   "source": [
    "flattened_network_propositions = [None]*5\n",
    "for i in range(0, 5):\n",
    "    for single_network in network_propositions:\n",
    "        if flattened_network_propositions[i] is None:\n",
    "            flattened_network_propositions[i] = []\n",
    "        flattened_network_propositions[i].extend(single_network[i])"
   ]
  },
  {
   "cell_type": "code",
   "execution_count": 45,
   "metadata": {},
   "outputs": [
    {
     "data": {
      "text/plain": [
       "5"
      ]
     },
     "execution_count": 45,
     "metadata": {},
     "output_type": "execute_result"
    }
   ],
   "source": [
    "len(flattened_network_propositions)"
   ]
  },
  {
   "cell_type": "code",
   "execution_count": 32,
   "metadata": {},
   "outputs": [],
   "source": [
    "network_df = pd.DataFrame(flattened_network_propositions)\n",
    "chain_df = pd.DataFrame(chain_propositions)"
   ]
  },
  {
   "cell_type": "code",
   "execution_count": 33,
   "metadata": {},
   "outputs": [
    {
     "ename": "ValueError",
     "evalue": "x and y must have same first dimension, but have shapes (5,) and (47,)",
     "output_type": "error",
     "traceback": [
      "\u001b[0;31m---------------------------------------------------------------------------\u001b[0m",
      "\u001b[0;31mValueError\u001b[0m                                Traceback (most recent call last)",
      "\u001b[0;32m<ipython-input-33-21180e2ef77a>\u001b[0m in \u001b[0;36m<module>\u001b[0;34m\u001b[0m\n\u001b[1;32m      4\u001b[0m \u001b[0msem_length\u001b[0m \u001b[0;34m=\u001b[0m \u001b[0mnp\u001b[0m\u001b[0;34m.\u001b[0m\u001b[0marray\u001b[0m\u001b[0;34m(\u001b[0m\u001b[0mchain_df\u001b[0m\u001b[0;34m.\u001b[0m\u001b[0mapply\u001b[0m\u001b[0;34m(\u001b[0m\u001b[0mnp\u001b[0m\u001b[0;34m.\u001b[0m\u001b[0mnanstd\u001b[0m\u001b[0;34m,\u001b[0m \u001b[0maxis\u001b[0m\u001b[0;34m=\u001b[0m\u001b[0;36m0\u001b[0m\u001b[0;34m)\u001b[0m\u001b[0;34m)\u001b[0m\u001b[0;34m/\u001b[0m\u001b[0mnp\u001b[0m\u001b[0;34m.\u001b[0m\u001b[0msqrt\u001b[0m\u001b[0;34m(\u001b[0m\u001b[0mchain_df\u001b[0m\u001b[0;34m.\u001b[0m\u001b[0mshape\u001b[0m\u001b[0;34m[\u001b[0m\u001b[0;36m0\u001b[0m\u001b[0;34m]\u001b[0m\u001b[0;34m*\u001b[0m\u001b[0mchain_df\u001b[0m\u001b[0;34m.\u001b[0m\u001b[0mshape\u001b[0m\u001b[0;34m[\u001b[0m\u001b[0;36m1\u001b[0m\u001b[0;34m]\u001b[0m\u001b[0;34m)\u001b[0m\u001b[0;34m\u001b[0m\u001b[0;34m\u001b[0m\u001b[0m\n\u001b[1;32m      5\u001b[0m \u001b[0;34m\u001b[0m\u001b[0m\n\u001b[0;32m----> 6\u001b[0;31m \u001b[0mplt\u001b[0m\u001b[0;34m.\u001b[0m\u001b[0mplot\u001b[0m\u001b[0;34m(\u001b[0m\u001b[0mrange\u001b[0m\u001b[0;34m(\u001b[0m\u001b[0;36m0\u001b[0m\u001b[0;34m,\u001b[0m \u001b[0;36m5\u001b[0m\u001b[0;34m)\u001b[0m\u001b[0;34m,\u001b[0m \u001b[0mmean_length\u001b[0m\u001b[0;34m,\u001b[0m \u001b[0mcolor\u001b[0m\u001b[0;34m=\u001b[0m\u001b[0;34m'black'\u001b[0m\u001b[0;34m,\u001b[0m \u001b[0malpha\u001b[0m\u001b[0;34m=\u001b[0m\u001b[0;36m1.0\u001b[0m\u001b[0;34m,\u001b[0m \u001b[0mmarker\u001b[0m\u001b[0;34m=\u001b[0m\u001b[0;34m'o'\u001b[0m\u001b[0;34m,\u001b[0m \u001b[0mlabel\u001b[0m\u001b[0;34m=\u001b[0m\u001b[0;34m'Chain (average)'\u001b[0m\u001b[0;34m)\u001b[0m\u001b[0;34m\u001b[0m\u001b[0;34m\u001b[0m\u001b[0m\n\u001b[0m\u001b[1;32m      7\u001b[0m \u001b[0mplt\u001b[0m\u001b[0;34m.\u001b[0m\u001b[0mfill_between\u001b[0m\u001b[0;34m(\u001b[0m\u001b[0mrange\u001b[0m\u001b[0;34m(\u001b[0m\u001b[0;36m0\u001b[0m\u001b[0;34m,\u001b[0m \u001b[0;36m5\u001b[0m\u001b[0;34m)\u001b[0m\u001b[0;34m,\u001b[0m \u001b[0mmean_length\u001b[0m\u001b[0;34m-\u001b[0m\u001b[0;36m2\u001b[0m\u001b[0;34m*\u001b[0m\u001b[0msem_length\u001b[0m\u001b[0;34m,\u001b[0m \u001b[0mmean_length\u001b[0m\u001b[0;34m+\u001b[0m\u001b[0;36m2\u001b[0m\u001b[0;34m*\u001b[0m\u001b[0msem_length\u001b[0m\u001b[0;34m,\u001b[0m \u001b[0mcolor\u001b[0m\u001b[0;34m=\u001b[0m\u001b[0;34m'black'\u001b[0m\u001b[0;34m,\u001b[0m \u001b[0malpha\u001b[0m\u001b[0;34m=\u001b[0m\u001b[0;36m0.25\u001b[0m\u001b[0;34m)\u001b[0m\u001b[0;34m\u001b[0m\u001b[0;34m\u001b[0m\u001b[0m\n\u001b[1;32m      8\u001b[0m \u001b[0;34m\u001b[0m\u001b[0m\n",
      "\u001b[0;32m/usr/local/lib/python3.7/site-packages/matplotlib/pyplot.py\u001b[0m in \u001b[0;36mplot\u001b[0;34m(scalex, scaley, data, *args, **kwargs)\u001b[0m\n\u001b[1;32m   2809\u001b[0m     return gca().plot(\n\u001b[1;32m   2810\u001b[0m         *args, scalex=scalex, scaley=scaley, **({\"data\": data} if data\n\u001b[0;32m-> 2811\u001b[0;31m         is not None else {}), **kwargs)\n\u001b[0m\u001b[1;32m   2812\u001b[0m \u001b[0;34m\u001b[0m\u001b[0m\n\u001b[1;32m   2813\u001b[0m \u001b[0;34m\u001b[0m\u001b[0m\n",
      "\u001b[0;32m/usr/local/lib/python3.7/site-packages/matplotlib/__init__.py\u001b[0m in \u001b[0;36minner\u001b[0;34m(ax, data, *args, **kwargs)\u001b[0m\n\u001b[1;32m   1808\u001b[0m                         \u001b[0;34m\"the Matplotlib list!)\"\u001b[0m \u001b[0;34m%\u001b[0m \u001b[0;34m(\u001b[0m\u001b[0mlabel_namer\u001b[0m\u001b[0;34m,\u001b[0m \u001b[0mfunc\u001b[0m\u001b[0;34m.\u001b[0m\u001b[0m__name__\u001b[0m\u001b[0;34m)\u001b[0m\u001b[0;34m,\u001b[0m\u001b[0;34m\u001b[0m\u001b[0;34m\u001b[0m\u001b[0m\n\u001b[1;32m   1809\u001b[0m                         RuntimeWarning, stacklevel=2)\n\u001b[0;32m-> 1810\u001b[0;31m             \u001b[0;32mreturn\u001b[0m \u001b[0mfunc\u001b[0m\u001b[0;34m(\u001b[0m\u001b[0max\u001b[0m\u001b[0;34m,\u001b[0m \u001b[0;34m*\u001b[0m\u001b[0margs\u001b[0m\u001b[0;34m,\u001b[0m \u001b[0;34m**\u001b[0m\u001b[0mkwargs\u001b[0m\u001b[0;34m)\u001b[0m\u001b[0;34m\u001b[0m\u001b[0;34m\u001b[0m\u001b[0m\n\u001b[0m\u001b[1;32m   1811\u001b[0m \u001b[0;34m\u001b[0m\u001b[0m\n\u001b[1;32m   1812\u001b[0m         inner.__doc__ = _add_data_doc(inner.__doc__,\n",
      "\u001b[0;32m/usr/local/lib/python3.7/site-packages/matplotlib/axes/_axes.py\u001b[0m in \u001b[0;36mplot\u001b[0;34m(self, scalex, scaley, *args, **kwargs)\u001b[0m\n\u001b[1;32m   1609\u001b[0m         \u001b[0mkwargs\u001b[0m \u001b[0;34m=\u001b[0m \u001b[0mcbook\u001b[0m\u001b[0;34m.\u001b[0m\u001b[0mnormalize_kwargs\u001b[0m\u001b[0;34m(\u001b[0m\u001b[0mkwargs\u001b[0m\u001b[0;34m,\u001b[0m \u001b[0mmlines\u001b[0m\u001b[0;34m.\u001b[0m\u001b[0mLine2D\u001b[0m\u001b[0;34m.\u001b[0m\u001b[0m_alias_map\u001b[0m\u001b[0;34m)\u001b[0m\u001b[0;34m\u001b[0m\u001b[0;34m\u001b[0m\u001b[0m\n\u001b[1;32m   1610\u001b[0m \u001b[0;34m\u001b[0m\u001b[0m\n\u001b[0;32m-> 1611\u001b[0;31m         \u001b[0;32mfor\u001b[0m \u001b[0mline\u001b[0m \u001b[0;32min\u001b[0m \u001b[0mself\u001b[0m\u001b[0;34m.\u001b[0m\u001b[0m_get_lines\u001b[0m\u001b[0;34m(\u001b[0m\u001b[0;34m*\u001b[0m\u001b[0margs\u001b[0m\u001b[0;34m,\u001b[0m \u001b[0;34m**\u001b[0m\u001b[0mkwargs\u001b[0m\u001b[0;34m)\u001b[0m\u001b[0;34m:\u001b[0m\u001b[0;34m\u001b[0m\u001b[0;34m\u001b[0m\u001b[0m\n\u001b[0m\u001b[1;32m   1612\u001b[0m             \u001b[0mself\u001b[0m\u001b[0;34m.\u001b[0m\u001b[0madd_line\u001b[0m\u001b[0;34m(\u001b[0m\u001b[0mline\u001b[0m\u001b[0;34m)\u001b[0m\u001b[0;34m\u001b[0m\u001b[0;34m\u001b[0m\u001b[0m\n\u001b[1;32m   1613\u001b[0m             \u001b[0mlines\u001b[0m\u001b[0;34m.\u001b[0m\u001b[0mappend\u001b[0m\u001b[0;34m(\u001b[0m\u001b[0mline\u001b[0m\u001b[0;34m)\u001b[0m\u001b[0;34m\u001b[0m\u001b[0;34m\u001b[0m\u001b[0m\n",
      "\u001b[0;32m/usr/local/lib/python3.7/site-packages/matplotlib/axes/_base.py\u001b[0m in \u001b[0;36m_grab_next_args\u001b[0;34m(self, *args, **kwargs)\u001b[0m\n\u001b[1;32m    391\u001b[0m                 \u001b[0mthis\u001b[0m \u001b[0;34m+=\u001b[0m \u001b[0margs\u001b[0m\u001b[0;34m[\u001b[0m\u001b[0;36m0\u001b[0m\u001b[0;34m]\u001b[0m\u001b[0;34m,\u001b[0m\u001b[0;34m\u001b[0m\u001b[0;34m\u001b[0m\u001b[0m\n\u001b[1;32m    392\u001b[0m                 \u001b[0margs\u001b[0m \u001b[0;34m=\u001b[0m \u001b[0margs\u001b[0m\u001b[0;34m[\u001b[0m\u001b[0;36m1\u001b[0m\u001b[0;34m:\u001b[0m\u001b[0;34m]\u001b[0m\u001b[0;34m\u001b[0m\u001b[0;34m\u001b[0m\u001b[0m\n\u001b[0;32m--> 393\u001b[0;31m             \u001b[0;32myield\u001b[0m \u001b[0;32mfrom\u001b[0m \u001b[0mself\u001b[0m\u001b[0;34m.\u001b[0m\u001b[0m_plot_args\u001b[0m\u001b[0;34m(\u001b[0m\u001b[0mthis\u001b[0m\u001b[0;34m,\u001b[0m \u001b[0mkwargs\u001b[0m\u001b[0;34m)\u001b[0m\u001b[0;34m\u001b[0m\u001b[0;34m\u001b[0m\u001b[0m\n\u001b[0m\u001b[1;32m    394\u001b[0m \u001b[0;34m\u001b[0m\u001b[0m\n\u001b[1;32m    395\u001b[0m \u001b[0;34m\u001b[0m\u001b[0m\n",
      "\u001b[0;32m/usr/local/lib/python3.7/site-packages/matplotlib/axes/_base.py\u001b[0m in \u001b[0;36m_plot_args\u001b[0;34m(self, tup, kwargs)\u001b[0m\n\u001b[1;32m    368\u001b[0m             \u001b[0mx\u001b[0m\u001b[0;34m,\u001b[0m \u001b[0my\u001b[0m \u001b[0;34m=\u001b[0m \u001b[0mindex_of\u001b[0m\u001b[0;34m(\u001b[0m\u001b[0mtup\u001b[0m\u001b[0;34m[\u001b[0m\u001b[0;34m-\u001b[0m\u001b[0;36m1\u001b[0m\u001b[0;34m]\u001b[0m\u001b[0;34m)\u001b[0m\u001b[0;34m\u001b[0m\u001b[0;34m\u001b[0m\u001b[0m\n\u001b[1;32m    369\u001b[0m \u001b[0;34m\u001b[0m\u001b[0m\n\u001b[0;32m--> 370\u001b[0;31m         \u001b[0mx\u001b[0m\u001b[0;34m,\u001b[0m \u001b[0my\u001b[0m \u001b[0;34m=\u001b[0m \u001b[0mself\u001b[0m\u001b[0;34m.\u001b[0m\u001b[0m_xy_from_xy\u001b[0m\u001b[0;34m(\u001b[0m\u001b[0mx\u001b[0m\u001b[0;34m,\u001b[0m \u001b[0my\u001b[0m\u001b[0;34m)\u001b[0m\u001b[0;34m\u001b[0m\u001b[0;34m\u001b[0m\u001b[0m\n\u001b[0m\u001b[1;32m    371\u001b[0m \u001b[0;34m\u001b[0m\u001b[0m\n\u001b[1;32m    372\u001b[0m         \u001b[0;32mif\u001b[0m \u001b[0mself\u001b[0m\u001b[0;34m.\u001b[0m\u001b[0mcommand\u001b[0m \u001b[0;34m==\u001b[0m \u001b[0;34m'plot'\u001b[0m\u001b[0;34m:\u001b[0m\u001b[0;34m\u001b[0m\u001b[0;34m\u001b[0m\u001b[0m\n",
      "\u001b[0;32m/usr/local/lib/python3.7/site-packages/matplotlib/axes/_base.py\u001b[0m in \u001b[0;36m_xy_from_xy\u001b[0;34m(self, x, y)\u001b[0m\n\u001b[1;32m    229\u001b[0m         \u001b[0;32mif\u001b[0m \u001b[0mx\u001b[0m\u001b[0;34m.\u001b[0m\u001b[0mshape\u001b[0m\u001b[0;34m[\u001b[0m\u001b[0;36m0\u001b[0m\u001b[0;34m]\u001b[0m \u001b[0;34m!=\u001b[0m \u001b[0my\u001b[0m\u001b[0;34m.\u001b[0m\u001b[0mshape\u001b[0m\u001b[0;34m[\u001b[0m\u001b[0;36m0\u001b[0m\u001b[0;34m]\u001b[0m\u001b[0;34m:\u001b[0m\u001b[0;34m\u001b[0m\u001b[0;34m\u001b[0m\u001b[0m\n\u001b[1;32m    230\u001b[0m             raise ValueError(\"x and y must have same first dimension, but \"\n\u001b[0;32m--> 231\u001b[0;31m                              \"have shapes {} and {}\".format(x.shape, y.shape))\n\u001b[0m\u001b[1;32m    232\u001b[0m         \u001b[0;32mif\u001b[0m \u001b[0mx\u001b[0m\u001b[0;34m.\u001b[0m\u001b[0mndim\u001b[0m \u001b[0;34m>\u001b[0m \u001b[0;36m2\u001b[0m \u001b[0;32mor\u001b[0m \u001b[0my\u001b[0m\u001b[0;34m.\u001b[0m\u001b[0mndim\u001b[0m \u001b[0;34m>\u001b[0m \u001b[0;36m2\u001b[0m\u001b[0;34m:\u001b[0m\u001b[0;34m\u001b[0m\u001b[0;34m\u001b[0m\u001b[0m\n\u001b[1;32m    233\u001b[0m             raise ValueError(\"x and y can be no greater than 2-D, but have \"\n",
      "\u001b[0;31mValueError\u001b[0m: x and y must have same first dimension, but have shapes (5,) and (47,)"
     ]
    },
    {
     "data": {
      "image/png": "[encoded data removed]",
      "text/plain": [
       "<Figure size 432x288 with 1 Axes>"
      ]
     },
     "metadata": {
      "needs_background": "light"
     },
     "output_type": "display_data"
    }
   ],
   "source": [
    "fig, ax = plt.subplots(1, 1, figsize=(6, 4))\n",
    "\n",
    "mean_length = np.array(chain_df.apply(np.nanmean, axis=0))\n",
    "sem_length = np.array(chain_df.apply(np.nanstd, axis=0))/np.sqrt(chain_df.shape[0]*chain_df.shape[1])\n",
    "\n",
    "plt.plot(range(0, 5), mean_length, color='black', alpha=1.0, marker='o', label='Chain (average)')\n",
    "plt.fill_between(range(0, 5), mean_length-2*sem_length, mean_length+2*sem_length, color='black', alpha=0.25)\n",
    "\n",
    "mean_length = network_df.apply(np.nanmean, axis=1)\n",
    "sem_length = network_df.apply(np.nanstd, axis=1)/np.sqrt(network_df.shape[0]*network_df.shape[1])\n",
    "\n",
    "plt.plot(range(0, 5), mean_length, color='red', alpha=1.0, marker='o', label='Network (average)')\n",
    "plt.fill_between(range(0, 5), mean_length-2*sem_length, mean_length+2*sem_length, color='red', alpha=0.25)\n",
    "\n",
    "## Finish up with styling\n",
    "plt.ylabel('Number of propositions', size=LABEL_SIZE)\n",
    "plt.xlabel('Network length', size=LABEL_SIZE)\n",
    "plt.title('Number of propositions over experiment time', size=TITLE_SIZE)\n",
    "plt.ylim(0, 25)\n",
    "plt.legend(frameon=False)\n",
    "\n",
    "finalize(ax)\n",
    "plt.tight_layout()\n",
    "plt.savefig('network_vs_chain_svo.pdf', dpi=1000)"
   ]
  },
  {
   "cell_type": "code",
   "execution_count": null,
   "metadata": {},
   "outputs": [],
   "source": []
  }
 ],
 "metadata": {
  "kernelspec": {
   "display_name": "Python 3",
   "language": "python",
   "name": "python3"
  },
  "language_info": {
   "codemirror_mode": {
    "name": "ipython",
    "version": 3
   },
   "file_extension": ".py",
   "mimetype": "text/x-python",
   "name": "python",
   "nbconvert_exporter": "python",
   "pygments_lexer": "ipython3",
   "version": "3.7.3"
  }
 },
 "nbformat": 4,
 "nbformat_minor": 2
}
