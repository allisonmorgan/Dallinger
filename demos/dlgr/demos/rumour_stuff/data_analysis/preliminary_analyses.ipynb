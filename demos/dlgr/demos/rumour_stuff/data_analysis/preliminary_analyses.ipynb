{
 "cells": [
  {
   "cell_type": "code",
   "execution_count": 1,
   "metadata": {},
   "outputs": [],
   "source": [
    "import pandas as pd\n",
    "import matplotlib.pyplot as plt\n",
    "%matplotlib inline"
   ]
  },
  {
   "cell_type": "code",
   "execution_count": 2,
   "metadata": {},
   "outputs": [],
   "source": [
    "read_once = pd.read_csv('data/pilot_1x40_oct_14_control/info_cleaned.csv')\n",
    "read_thrice = pd.read_csv('data/pilot_3x40_oct_14_control/info_cleaned.csv')"
   ]
  },
  {
   "cell_type": "code",
   "execution_count": 3,
   "metadata": {},
   "outputs": [],
   "source": [
    "read_once['number_of_words'] = read_once.response.str.strip().apply(len)\n",
    "read_thrice['number_of_words'] = read_thrice.response.str.strip().apply(len)"
   ]
  },
  {
   "cell_type": "code",
   "execution_count": 4,
   "metadata": {},
   "outputs": [
    {
     "data": {
      "image/png": "[encoded data removed]",
      "text/plain": [
       "<Figure size 432x288 with 1 Axes>"
      ]
     },
     "metadata": {
      "needs_background": "light"
     },
     "output_type": "display_data"
    }
   ],
   "source": [
    "read_once['number_of_words'].hist(label='read_once', color='r', alpha=0.2, grid=False, density=True)\n",
    "read_thrice['number_of_words'].hist(label='read_thrice', color='r', alpha=0.5, grid=False, density=True)\n",
    "\n",
    "plt.ylabel('Percentage of responses')\n",
    "plt.xlabel('Number of words')\n",
    "plt.title('Distribution of responses with a particular number of words')\n",
    "\n",
    "plt.legend()\n",
    "plt.tight_layout()"
   ]
  },
  {
   "cell_type": "code",
   "execution_count": 5,
   "metadata": {},
   "outputs": [
    {
     "data": {
      "text/plain": [
       "count      38.000000\n",
       "mean      788.447368\n",
       "std       365.871244\n",
       "min       260.000000\n",
       "25%       529.500000\n",
       "50%       757.500000\n",
       "75%       919.250000\n",
       "max      2065.000000\n",
       "Name: number_of_words, dtype: float64"
      ]
     },
     "execution_count": 5,
     "metadata": {},
     "output_type": "execute_result"
    }
   ],
   "source": [
    "read_once['number_of_words'].describe()"
   ]
  },
  {
   "cell_type": "code",
   "execution_count": 6,
   "metadata": {},
   "outputs": [
    {
     "data": {
      "text/plain": [
       "count      39.000000\n",
       "mean      829.589744\n",
       "std       393.846799\n",
       "min       276.000000\n",
       "25%       523.000000\n",
       "50%       819.000000\n",
       "75%      1032.500000\n",
       "max      1652.000000\n",
       "Name: number_of_words, dtype: float64"
      ]
     },
     "execution_count": 6,
     "metadata": {},
     "output_type": "execute_result"
    }
   ],
   "source": [
    "read_thrice['number_of_words'].describe()"
   ]
  },
  {
   "cell_type": "code",
   "execution_count": 7,
   "metadata": {},
   "outputs": [],
   "source": [
    "from scipy.stats import ks_2samp, wilcoxon, ttest_ind"
   ]
  },
  {
   "cell_type": "code",
   "execution_count": 8,
   "metadata": {},
   "outputs": [
    {
     "data": {
      "text/plain": [
       "Ks_2sampResult(statistic=0.14844804318488525, pvalue=0.7559154857910084)"
      ]
     },
     "execution_count": 8,
     "metadata": {},
     "output_type": "execute_result"
    }
   ],
   "source": [
    "ks_2samp(read_once['number_of_words'], read_thrice['number_of_words'])"
   ]
  },
  {
   "cell_type": "code",
   "execution_count": 9,
   "metadata": {},
   "outputs": [
    {
     "data": {
      "text/plain": [
       "Ttest_indResult(statistic=-0.47461184118449934, pvalue=0.6364427272337461)"
      ]
     },
     "execution_count": 9,
     "metadata": {},
     "output_type": "execute_result"
    }
   ],
   "source": [
    "ttest_ind(read_once['number_of_words'], read_thrice['number_of_words'])"
   ]
  },
  {
   "cell_type": "code",
   "execution_count": null,
   "metadata": {},
   "outputs": [],
   "source": []
  }
 ],
 "metadata": {
  "kernelspec": {
   "display_name": "Python 3",
   "language": "python",
   "name": "python3"
  },
  "language_info": {
   "codemirror_mode": {
    "name": "ipython",
    "version": 3
   },
   "file_extension": ".py",
   "mimetype": "text/x-python",
   "name": "python",
   "nbconvert_exporter": "python",
   "pygments_lexer": "ipython3",
   "version": "3.7.3"
  }
 },
 "nbformat": 4,
 "nbformat_minor": 2
}
