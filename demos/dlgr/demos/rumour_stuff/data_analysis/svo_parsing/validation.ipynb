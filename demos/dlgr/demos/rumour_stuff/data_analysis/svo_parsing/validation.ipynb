{
 "cells": [
  {
   "cell_type": "code",
   "execution_count": 1,
   "metadata": {},
   "outputs": [],
   "source": [
    "from subject_extraction import clean_document, extract_subject, tag_sentences, get_svo"
   ]
  },
  {
   "cell_type": "code",
   "execution_count": 2,
   "metadata": {},
   "outputs": [],
   "source": [
    "with open('original_stimuli.txt', 'r') as file:\n",
    "    response = file.read()"
   ]
  },
  {
   "cell_type": "code",
   "execution_count": 3,
   "metadata": {},
   "outputs": [],
   "source": [
    "cleaned_response = clean_document(response)\n",
    "subjects = extract_subject(cleaned_response)"
   ]
  },
  {
   "cell_type": "code",
   "execution_count": 4,
   "metadata": {},
   "outputs": [
    {
     "data": {
      "text/plain": [
       "\"Through history most people didn't die of cancer or heart disease the lifestyle diseases that are common in the Western world today. This is mostly because people didn't live long enough to develop them. They died of injuries -- being gored by an ox shot on a battlefield crushed in one of the new factories of the Industrial Revolution -- and most of the time from infection which followed those injuries. That changed when antibiotics were discovered. In 1928 Alexander Fleming discovered penicillin a drug still used today to fight bacterial infections. Suddenly infections that had been a death sentence became remedied within days. During World War II this drug treated pneumonia and sepsis and has been estimated to have saved between 12-15 of Allied Forces lives. We have been living inside the golden epoch of the miracle drugs and now we are coming to an end of it. People are dying of infections again because of a phenomenon called antibiotic resistance or popularly referred to as superbugs . Bacteria compete against each other for resources for food by manufacturing lethal compounds that they direct against each other. When we first made antibiotics we took those compounds into the lab and made our own versions of them and bacteria responded to our attack the way they always had. For 70 years we played a game of leapfrog -- our drug and their resistance and then another drug and then resistance again -- and now the game is ending. Bacteria develop resistance so quickly that pharmaceutical companies have decided making antibiotics is not in their best interest so there are infections moving across the world for which out of the more than 100 antibiotics available on the market two drugs might work with side effects or one drug or none. It would be natural to hope that these infections are extraordinary cases but in fact in the United States and Europe 50 thousand people a year die of infections which no drugs can help. A project chartered by the British government known as the Review on Antimicrobial Resistance estimates that the worldwide toll right now is 700 thousand deaths a year. Also if we can't get this under control by 2050 the worldwide toll will be 10 million deaths a year more than the current population of New York City . The scale of antibiotic resistance seems overwhelming but if you've ever bought a fluorescent light bulb because you were concerned about climate change you already know what it feels like to take a tiny step to address an overwhelming problem. We could take those kinds of steps for antibiotic use too. We could forgo giving an antibiotic for our kids ear infection if we're not sure it's the right one. And we could promise each other to never again to buy chicken or shrimp or fruit raised with routine antibiotic use. If we did those things we could slow down the arrival of the post-antibiotic world.\""
      ]
     },
     "execution_count": 4,
     "metadata": {},
     "output_type": "execute_result"
    }
   ],
   "source": [
    "cleaned_response"
   ]
  },
  {
   "cell_type": "code",
   "execution_count": 5,
   "metadata": {},
   "outputs": [],
   "source": [
    "propositions = []\n",
    "for subject in set(subjects):\n",
    "    tagged_sents = tag_sentences(subject, cleaned_response)\n",
    "    for sentence in tagged_sents:\n",
    "        svo = get_svo(sentence, subject)\n",
    "        if svo != {}:\n",
    "            propositions.append(svo)"
   ]
  },
  {
   "cell_type": "code",
   "execution_count": 6,
   "metadata": {},
   "outputs": [
    {
     "data": {
      "text/plain": [
       "77"
      ]
     },
     "execution_count": 6,
     "metadata": {},
     "output_type": "execute_result"
    }
   ],
   "source": [
    "len(propositions)"
   ]
  },
  {
   "cell_type": "code",
   "execution_count": 7,
   "metadata": {},
   "outputs": [
    {
     "name": "stdout",
     "output_type": "stream",
     "text": [
      "{'subject': 'market', 'action': 'work', 'object': 'side', 'phrase': [('market', 'NN'), ('two', 'CD'), ('drugs', 'NNS'), ('might', 'MD'), ('work', 'VB'), ('with', 'IN'), ('side', 'NN')]}\n",
      "{'subject': 'death', 'action': 'remedied', 'object': 'days', 'phrase': [('death', 'NN'), ('sentence', 'NN'), ('became', 'VBD'), ('remedied', 'VBN'), ('within', 'IN'), ('days', 'NNS')]}\n",
      "{'subject': 'ii', 'action': 'treated', 'object': 'pneumonia', 'phrase': [('II', 'NNP'), ('this', 'DT'), ('drug', 'NN'), ('treated', 'VBN'), ('pneumonia', 'NN')]}\n",
      "{'subject': 'states', 'action': 'die', 'object': 'infections', 'phrase': [('States', 'NNS-TL'), ('and', 'CC'), ('Europe', 'NNP'), ('50', 'CD'), ('thousand', 'CD'), ('people', 'NNS'), ('a', 'DT'), ('year', 'NN'), ('die', 'VB'), ('of', 'IN'), ('infections', 'NNS')]}\n",
      "{'subject': 'promise', 'action': 'buy', 'object': 'chicken', 'phrase': [('promise', 'VB'), ('each', 'DT'), ('other', 'AP'), ('to', 'TO'), ('never', 'RB'), ('again', 'RB'), ('to', 'TO'), ('buy', 'VB'), ('chicken', 'NN')]}\n",
      "{'subject': 'chicken', 'action': 'raised', 'object': 'routine', 'phrase': [('chicken', 'NN'), ('or', 'CC'), ('shrimp', 'NN'), ('or', 'CC'), ('fruit', 'NN'), ('raised', 'VBN'), ('with', 'IN'), ('routine', 'NN')]}\n",
      "{'subject': 'epoch', 'action': 'coming', 'object': 'end', 'phrase': [('epoch', 'NN'), ('of', 'IN'), ('the', 'AT'), ('miracle', 'NN'), ('drugs', 'NNS'), ('and', 'CC'), ('now', 'RB'), ('we', 'PPSS'), ('are', 'BER'), ('coming', 'VBG'), ('to', 'TO'), ('an', 'DT'), ('end', 'NN')]}\n",
      "{'subject': 'thousand', 'action': 'die', 'object': 'infections', 'phrase': [('thousand', 'CD'), ('people', 'NNS'), ('a', 'DT'), ('year', 'NN'), ('die', 'VB'), ('of', 'IN'), ('infections', 'NNS')]}\n",
      "{'subject': 'year', 'action': 'die', 'object': 'infections', 'phrase': [('year', 'NN'), ('die', 'VB'), ('of', 'IN'), ('infections', 'NNS')]}\n",
      "{'subject': 'compounds', 'action': 'made', 'object': 'versions', 'phrase': [('compounds', 'NNS'), ('into', 'IN'), ('the', 'AT'), ('lab', 'NN'), ('and', 'CC'), ('made', 'VBD'), ('our', 'PP$'), ('own', 'JJ'), ('versions', 'NNS')]}\n",
      "{'subject': 'ear', 'action': \"'s\", 'object': 'right', 'phrase': [('ear', 'NN'), ('infection', 'NN'), ('if', 'CS'), ('we', 'PPSS'), (\"'re\", 'VBP'), ('not', 'RB'), ('sure', 'JJ'), ('it', 'PRP'), (\"'s\", 'VBZ'), ('the', 'DT'), ('right', 'NN')]}\n",
      "{'subject': 'bulb', 'action': 'concerned', 'object': 'climate', 'phrase': [('bulb', 'NN'), ('because', 'IN'), ('you', 'PPO'), ('were', 'BED'), ('concerned', 'VBN'), ('about', 'IN'), ('climate', 'NN')]}\n",
      "{'subject': 'things', 'action': 'slow', 'object': 'arrival', 'phrase': [('things', 'NNS'), ('we', 'PPSS'), ('could', 'MD'), ('slow', 'VB'), ('down', 'RP'), ('the', 'AT'), ('arrival', 'NN')]}\n",
      "{'subject': 'ox', 'action': 'crushed', 'object': 'factories', 'phrase': [('ox', 'NN'), ('shot', 'NN'), ('on', 'IN'), ('a', 'AT'), ('battlefield', 'NN'), ('crushed', 'VBD'), ('in', 'IN'), ('one', 'CD'), ('of', 'IN'), ('the', 'AT'), ('new', 'JJ'), ('factories', 'NNS')]}\n",
      "{'subject': 'phenomenon', 'action': 'called', 'object': 'antibiotic', 'phrase': [('phenomenon', 'NN'), ('called', 'VBN'), ('antibiotic', 'NN')]}\n",
      "{'subject': 'lab', 'action': 'made', 'object': 'versions', 'phrase': [('lab', 'NN'), ('and', 'CC'), ('made', 'VBD'), ('our', 'PP$'), ('own', 'JJ'), ('versions', 'NNS')]}\n",
      "{'subject': 'alexander', 'action': 'discovered', 'object': 'penicillin', 'phrase': [('Alexander', 'NP'), ('Fleming', 'NP'), ('discovered', 'VBD'), ('penicillin', 'NN')]}\n",
      "{'subject': 'kids', 'action': \"'s\", 'object': 'right', 'phrase': [('kids', 'NNS'), ('ear', 'NN'), ('infection', 'NN'), ('if', 'CS'), ('we', 'PPSS'), (\"'re\", 'VBP'), ('not', 'RB'), ('sure', 'JJ'), ('it', 'PRP'), (\"'s\", 'VBZ'), ('the', 'DT'), ('right', 'NN')]}\n",
      "{'subject': 'pneumonia', 'action': 'saved', 'object': '12-15', 'phrase': [('pneumonia', 'NN'), ('and', 'CC'), ('sepsis', 'NN'), ('and', 'CC'), ('has', 'HVZ'), ('been', 'BEN'), ('estimated', 'VBN'), ('to', 'IN'), ('have', 'HV-NC'), ('saved', 'VBN'), ('between', 'IN'), ('12-15', 'NN')]}\n",
      "{'subject': 'government', 'action': 'known', 'object': 'Antimicrobial', 'phrase': [('government', 'NN'), ('known', 'VBN'), ('as', 'CS'), ('the', 'AT'), ('Review', 'NN-TL'), ('on', 'IN-TL'), ('Antimicrobial', 'NN')]}\n",
      "{'subject': 'sentence', 'action': 'remedied', 'object': 'days', 'phrase': [('sentence', 'NN'), ('became', 'VBD'), ('remedied', 'VBN'), ('within', 'IN'), ('days', 'NNS')]}\n",
      "{'subject': 'climate', 'action': 'take', 'object': 'step', 'phrase': [('climate', 'NN'), ('change', 'NN'), ('you', 'PRP'), ('already', 'RB'), ('know', 'VBP'), ('what', 'WP'), ('it', 'PRP'), ('feels', 'VBZ'), ('like', 'IN'), ('to', 'TO'), ('take', 'VB'), ('a', 'AT'), ('tiny', 'JJ'), ('step', 'NN')]}\n",
      "{'subject': 'living', 'action': 'coming', 'object': 'end', 'phrase': [('living', 'VBG'), ('inside', 'IN'), ('the', 'AT'), ('golden', 'JJ'), ('epoch', 'NN'), ('of', 'IN'), ('the', 'AT'), ('miracle', 'NN'), ('drugs', 'NNS'), ('and', 'CC'), ('now', 'RB'), ('we', 'PPSS'), ('are', 'BER'), ('coming', 'VBG'), ('to', 'TO'), ('an', 'DT'), ('end', 'NN')]}\n",
      "{'subject': 'fact', 'action': 'die', 'object': 'infections', 'phrase': [('fact', 'NN'), ('in', 'IN'), ('the', 'AT'), ('United', 'VBN-TL'), ('States', 'NNS-TL'), ('and', 'CC'), ('Europe', 'NNP'), ('50', 'CD'), ('thousand', 'CD'), ('people', 'NNS'), ('a', 'DT'), ('year', 'NN'), ('die', 'VB'), ('of', 'IN'), ('infections', 'NNS')]}\n",
      "{'subject': 'companies', 'action': 'making', 'object': 'antibiotics', 'phrase': [('companies', 'NNS'), ('have', 'HV'), ('decided', 'VBN'), ('making', 'VBG'), ('antibiotics', 'NNS')]}\n",
      "{'subject': 'feels', 'action': 'take', 'object': 'step', 'phrase': [('feels', 'VBZ'), ('like', 'IN'), ('to', 'TO'), ('take', 'VB'), ('a', 'AT'), ('tiny', 'JJ'), ('step', 'NN')]}\n",
      "{'subject': 'sure', 'action': \"'s\", 'object': 'right', 'phrase': [('sure', 'JJ'), ('it', 'PRP'), (\"'s\", 'VBZ'), ('the', 'DT'), ('right', 'NN')]}\n",
      "{'subject': 'resistance', 'action': 'referred', 'object': 'superbugs', 'phrase': [('resistance', 'NN'), ('or', 'CC'), ('popularly', 'RB'), ('referred', 'VBN'), ('to', 'TO'), ('as', 'IN'), ('superbugs', 'NN')]}\n",
      "{'subject': 'resistance', 'action': 'making', 'object': 'antibiotics', 'phrase': [('resistance', 'NN'), ('so', 'QL'), ('quickly', 'RB'), ('that', 'CS'), ('pharmaceutical', 'JJ'), ('companies', 'NNS'), ('have', 'HV'), ('decided', 'VBN'), ('making', 'VBG'), ('antibiotics', 'NNS')]}\n",
      "{'subject': 'resistance', 'action': 'bought', 'object': 'light', 'phrase': [('resistance', 'NN'), ('seems', 'VBZ'), ('overwhelming', 'JJ'), ('but', 'CC'), ('if', 'CS'), ('you', 'PPSS'), (\"'ve\", 'VBP'), ('ever', 'RB'), ('bought', 'VBD'), ('a', 'AT'), ('fluorescent', 'JJ'), ('light', 'NN')]}\n",
      "{'subject': 'drugs', 'action': 'coming', 'object': 'end', 'phrase': [('drugs', 'NNS'), ('and', 'CC'), ('now', 'RB'), ('we', 'PPSS'), ('are', 'BER'), ('coming', 'VBG'), ('to', 'TO'), ('an', 'DT'), ('end', 'NN')]}\n",
      "{'subject': 'drugs', 'action': 'work', 'object': 'side', 'phrase': [('drugs', 'NNS'), ('might', 'MD'), ('work', 'VB'), ('with', 'IN'), ('side', 'NN')]}\n",
      "{'subject': 'bacteria', 'action': 'compete', 'object': 'resources', 'phrase': [('Bacteria', 'NN'), ('compete', 'VB'), ('against', 'IN'), ('each', 'DT'), ('other', 'AP'), ('for', 'IN'), ('resources', 'NNS')]}\n",
      "{'subject': 'bacteria', 'action': 'responded', 'object': 'attack', 'phrase': [('bacteria', 'NNS'), ('responded', 'VBD'), ('to', 'TO'), ('our', 'PRP$'), ('attack', 'NN')]}\n",
      "{'subject': 'bacteria', 'action': 'develop', 'object': 'resistance', 'phrase': [('Bacteria', 'NN'), ('develop', 'VB'), ('resistance', 'NN')]}\n",
      "{'subject': 'scale', 'action': 'bought', 'object': 'light', 'phrase': [('scale', 'NN'), ('of', 'IN'), ('antibiotic', 'NN'), ('resistance', 'NN'), ('seems', 'VBZ'), ('overwhelming', 'JJ'), ('but', 'CC'), ('if', 'CS'), ('you', 'PPSS'), (\"'ve\", 'VBP'), ('ever', 'RB'), ('bought', 'VBD'), ('a', 'AT'), ('fluorescent', 'JJ'), ('light', 'NN')]}\n",
      "{'subject': 'miracle', 'action': 'coming', 'object': 'end', 'phrase': [('miracle', 'NN'), ('drugs', 'NNS'), ('and', 'CC'), ('now', 'RB'), ('we', 'PPSS'), ('are', 'BER'), ('coming', 'VBG'), ('to', 'TO'), ('an', 'DT'), ('end', 'NN')]}\n",
      "{'subject': 'antibiotics', 'action': 'took', 'object': 'compounds', 'phrase': [('antibiotics', 'NNS'), ('we', 'PPSS'), ('took', 'VBD'), ('those', 'DTS'), ('compounds', 'NNS')]}\n",
      "{'subject': 'antibiotics', 'action': 'moving', 'object': 'world', 'phrase': [('antibiotics', 'NNS'), ('is', 'BEZ'), ('not', '*'), ('in', 'IN'), ('their', 'PP$'), ('best', 'JJT'), ('interest', 'NN'), ('so', 'CS'), ('there', 'EX'), ('are', 'BER'), ('infections', 'NNS'), ('moving', 'VBG'), ('across', 'IN'), ('the', 'AT'), ('world', 'NN')]}\n",
      "{'subject': 'time', 'action': 'followed', 'object': 'injuries', 'phrase': [('time', 'NN'), ('from', 'IN'), ('infection', 'NN'), ('which', 'WDT'), ('followed', 'VBD'), ('those', 'DTS'), ('injuries', 'NNS')]}\n",
      "{'subject': 'europe', 'action': 'die', 'object': 'infections', 'phrase': [('Europe', 'NNP'), ('50', 'CD'), ('thousand', 'CD'), ('people', 'NNS'), ('a', 'DT'), ('year', 'NN'), ('die', 'VB'), ('of', 'IN'), ('infections', 'NNS')]}\n",
      "{'subject': 'world', 'action': 'treated', 'object': 'pneumonia', 'phrase': [('World', 'NN-TL'), ('War', 'NN-TL'), ('II', 'NNP'), ('this', 'DT'), ('drug', 'NN'), ('treated', 'VBN'), ('pneumonia', 'NN')]}\n",
      "{'subject': 'world', 'action': 'work', 'object': 'side', 'phrase': [('world', 'NN'), ('for', 'IN'), ('which', 'WDT'), ('out', 'RP'), ('of', 'IN'), ('the', 'AT'), ('more', 'QL'), ('than', 'CS'), ('100', 'CD'), ('antibiotics', 'NNS'), ('available', 'JJ'), ('on', 'IN'), ('the', 'AT'), ('market', 'NN'), ('two', 'CD'), ('drugs', 'NNS'), ('might', 'MD'), ('work', 'VB'), ('with', 'IN'), ('side', 'NN')]}\n",
      "{'subject': 'project', 'action': 'chartered', 'object': 'government', 'phrase': [('project', 'NN'), ('chartered', 'VBN'), ('by', 'IN'), ('the', 'AT'), ('British', 'JJ'), ('government', 'NN')]}\n",
      "{'subject': 'infection', 'action': 'followed', 'object': 'injuries', 'phrase': [('infection', 'NN'), ('which', 'WDT'), ('followed', 'VBD'), ('those', 'DTS'), ('injuries', 'NNS')]}\n",
      "{'subject': 'infection', 'action': \"'s\", 'object': 'right', 'phrase': [('infection', 'NN'), ('if', 'CS'), ('we', 'PPSS'), (\"'re\", 'VBP'), ('not', 'RB'), ('sure', 'JJ'), ('it', 'PRP'), (\"'s\", 'VBZ'), ('the', 'DT'), ('right', 'NN')]}\n",
      "{'subject': 'versions', 'action': 'responded', 'object': 'attack', 'phrase': [('versions', 'NNS'), ('of', 'IN'), ('them', 'PPO'), ('and', 'CC'), ('bacteria', 'NNS'), ('responded', 'VBD'), ('to', 'TO'), ('our', 'PRP$'), ('attack', 'NN')]}\n",
      "{'subject': 'drug', 'action': 'used', 'object': 'fight', 'phrase': [('drug', 'NN'), ('still', 'RB'), ('used', 'VBN'), ('today', 'NR'), ('to', 'IN'), ('fight', 'NN')]}\n",
      "{'subject': 'drug', 'action': 'treated', 'object': 'pneumonia', 'phrase': [('drug', 'NN'), ('treated', 'VBN'), ('pneumonia', 'NN')]}\n",
      "{'subject': 'cases', 'action': 'die', 'object': 'infections', 'phrase': [('cases', 'NNS'), ('but', 'CC'), ('in', 'IN'), ('fact', 'NN'), ('in', 'IN'), ('the', 'AT'), ('United', 'VBN-TL'), ('States', 'NNS-TL'), ('and', 'CC'), ('Europe', 'NNP'), ('50', 'CD'), ('thousand', 'CD'), ('people', 'NNS'), ('a', 'DT'), ('year', 'NN'), ('die', 'VB'), ('of', 'IN'), ('infections', 'NNS')]}\n",
      "{'subject': 'interest', 'action': 'moving', 'object': 'world', 'phrase': [('interest', 'NN'), ('so', 'CS'), ('there', 'EX'), ('are', 'BER'), ('infections', 'NNS'), ('moving', 'VBG'), ('across', 'IN'), ('the', 'AT'), ('world', 'NN')]}\n",
      "{'subject': 'step', 'action': 'address', 'object': 'problem', 'phrase': [('step', 'NN'), ('to', 'TO'), ('address', 'VB'), ('an', 'AT'), ('overwhelming', 'JJ'), ('problem', 'NN')]}\n",
      "{'subject': 'bought', 'action': 'concerned', 'object': 'climate', 'phrase': [('bought', 'VBD'), ('a', 'AT'), ('fluorescent', 'JJ'), ('light', 'NN'), ('bulb', 'NN'), ('because', 'IN'), ('you', 'PPO'), ('were', 'BED'), ('concerned', 'VBN'), ('about', 'IN'), ('climate', 'NN')]}\n",
      "{'subject': 'shrimp', 'action': 'raised', 'object': 'routine', 'phrase': [('shrimp', 'NN'), ('or', 'CC'), ('fruit', 'NN'), ('raised', 'VBN'), ('with', 'IN'), ('routine', 'NN')]}\n",
      "{'subject': 'shot', 'action': 'crushed', 'object': 'factories', 'phrase': [('shot', 'NN'), ('on', 'IN'), ('a', 'AT'), ('battlefield', 'NN'), ('crushed', 'VBD'), ('in', 'IN'), ('one', 'CD'), ('of', 'IN'), ('the', 'AT'), ('new', 'JJ'), ('factories', 'NNS')]}\n",
      "{'subject': 'factories', 'action': 'followed', 'object': 'injuries', 'phrase': [('factories', 'NNS'), ('of', 'IN'), ('the', 'AT'), ('Industrial', 'JJ-TL'), ('Revolution', 'NN-TL'), ('--', '--'), ('and', 'CC'), ('most', 'QL'), ('of', 'IN'), ('the', 'AT'), ('time', 'NN'), ('from', 'IN'), ('infection', 'NN'), ('which', 'WDT'), ('followed', 'VBD'), ('those', 'DTS'), ('injuries', 'NNS')]}\n",
      "{'subject': 'hope', 'action': 'die', 'object': 'infections', 'phrase': [('hope', 'VB'), ('that', 'CS'), ('these', 'DTS'), ('infections', 'NNS'), ('are', 'BER'), ('extraordinary', 'JJ'), ('cases', 'NNS'), ('but', 'CC'), ('in', 'IN'), ('fact', 'NN'), ('in', 'IN'), ('the', 'AT'), ('United', 'VBN-TL'), ('States', 'NNS-TL'), ('and', 'CC'), ('Europe', 'NNP'), ('50', 'CD'), ('thousand', 'CD'), ('people', 'NNS'), ('a', 'DT'), ('year', 'NN'), ('die', 'VB'), ('of', 'IN'), ('infections', 'NNS')]}\n",
      "{'subject': 'penicillin', 'action': 'used', 'object': 'fight', 'phrase': [('penicillin', 'NN'), ('a', 'AT'), ('drug', 'NN'), ('still', 'RB'), ('used', 'VBN'), ('today', 'NR'), ('to', 'IN'), ('fight', 'NN')]}\n",
      "{'subject': 'fruit', 'action': 'raised', 'object': 'routine', 'phrase': [('fruit', 'NN'), ('raised', 'VBN'), ('with', 'IN'), ('routine', 'NN')]}\n",
      "{'subject': 'revolution', 'action': 'followed', 'object': 'injuries', 'phrase': [('Revolution', 'NN-TL'), ('--', '--'), ('and', 'CC'), ('most', 'QL'), ('of', 'IN'), ('the', 'AT'), ('time', 'NN'), ('from', 'IN'), ('infection', 'NN'), ('which', 'WDT'), ('followed', 'VBD'), ('those', 'DTS'), ('injuries', 'NNS')]}\n",
      "{'subject': 'infections', 'action': 'remedied', 'object': 'days', 'phrase': [('infections', 'NNS'), ('that', 'WPS'), ('had', 'HVD'), ('been', 'BEN'), ('a', 'AT'), ('death', 'NN'), ('sentence', 'NN'), ('became', 'VBD'), ('remedied', 'VBN'), ('within', 'IN'), ('days', 'NNS')]}\n",
      "{'subject': 'infections', 'action': 'called', 'object': 'antibiotic', 'phrase': [('infections', 'NNS'), ('again', 'RB'), ('because', 'CS'), ('of', 'IN'), ('a', 'AT'), ('phenomenon', 'NN'), ('called', 'VBN'), ('antibiotic', 'NN')]}\n",
      "{'subject': 'infections', 'action': 'moving', 'object': 'world', 'phrase': [('infections', 'NNS'), ('moving', 'VBG'), ('across', 'IN'), ('the', 'AT'), ('world', 'NN')]}\n",
      "{'subject': 'infections', 'action': 'die', 'object': 'infections', 'phrase': [('infections', 'NNS'), ('are', 'BER'), ('extraordinary', 'JJ'), ('cases', 'NNS'), ('but', 'CC'), ('in', 'IN'), ('fact', 'NN'), ('in', 'IN'), ('the', 'AT'), ('United', 'VBN-TL'), ('States', 'NNS-TL'), ('and', 'CC'), ('Europe', 'NNP'), ('50', 'CD'), ('thousand', 'CD'), ('people', 'NNS'), ('a', 'DT'), ('year', 'NN'), ('die', 'VB'), ('of', 'IN'), ('infections', 'NNS')]}\n",
      "{'subject': 'injuries', 'action': 'gored', 'object': 'ox', 'phrase': [('injuries', 'NNS'), ('--', '--'), ('being', 'BEG'), ('gored', 'VBN'), ('by', 'IN'), ('an', 'AT'), ('ox', 'NN')]}\n",
      "{'subject': 'people', 'action': 'die', 'object': 'cancer', 'phrase': [('people', 'NNS'), ('did', 'DOD'), (\"n't\", 'RB'), ('die', 'VB'), ('of', 'IN'), ('cancer', 'NN')]}\n",
      "{'subject': 'people', 'action': 'dying', 'object': 'infections', 'phrase': [('People', 'NNS'), ('are', 'BER'), ('dying', 'VBG'), ('of', 'IN'), ('infections', 'NNS')]}\n",
      "{'subject': 'people', 'action': 'die', 'object': 'infections', 'phrase': [('people', 'NNS'), ('a', 'DT'), ('year', 'NN'), ('die', 'VB'), ('of', 'IN'), ('infections', 'NNS')]}\n",
      "{'subject': 'years', 'action': 'played', 'object': 'game', 'phrase': [('years', 'NNS'), ('we', 'PPSS'), ('played', 'VBD'), ('a', 'AT'), ('game', 'NN')]}\n",
      "{'subject': 'history', 'action': 'die', 'object': 'cancer', 'phrase': [('history', 'NN'), ('most', 'AP'), ('people', 'NNS'), ('did', 'DOD'), (\"n't\", 'RB'), ('die', 'VB'), ('of', 'IN'), ('cancer', 'NN')]}\n",
      "{'subject': 'forgo', 'action': 'giving', 'object': 'antibiotic', 'phrase': [('forgo', 'VB'), ('giving', 'VBG'), ('an', 'AT'), ('antibiotic', 'NN')]}\n",
      "{'subject': 'fluorescent', 'action': 'concerned', 'object': 'climate', 'phrase': [('fluorescent', 'JJ'), ('light', 'NN'), ('bulb', 'NN'), ('because', 'IN'), ('you', 'PPO'), ('were', 'BED'), ('concerned', 'VBN'), ('about', 'IN'), ('climate', 'NN')]}\n",
      "{'subject': 'change', 'action': 'take', 'object': 'step', 'phrase': [('change', 'NN'), ('you', 'PRP'), ('already', 'RB'), ('know', 'VBP'), ('what', 'WP'), ('it', 'PRP'), ('feels', 'VBZ'), ('like', 'IN'), ('to', 'TO'), ('take', 'VB'), ('a', 'AT'), ('tiny', 'JJ'), ('step', 'NN')]}\n",
      "{'subject': 'light', 'action': 'concerned', 'object': 'climate', 'phrase': [('light', 'NN'), ('bulb', 'NN'), ('because', 'IN'), ('you', 'PPO'), ('were', 'BED'), ('concerned', 'VBN'), ('about', 'IN'), ('climate', 'NN')]}\n",
      "{'subject': 'sepsis', 'action': 'saved', 'object': '12-15', 'phrase': [('sepsis', 'NN'), ('and', 'CC'), ('has', 'HVZ'), ('been', 'BEN'), ('estimated', 'VBN'), ('to', 'IN'), ('have', 'HV-NC'), ('saved', 'VBN'), ('between', 'IN'), ('12-15', 'NN')]}\n",
      "{'subject': 'battlefield', 'action': 'crushed', 'object': 'factories', 'phrase': [('battlefield', 'NN'), ('crushed', 'VBD'), ('in', 'IN'), ('one', 'CD'), ('of', 'IN'), ('the', 'AT'), ('new', 'JJ'), ('factories', 'NNS')]}\n",
      "{'subject': 'war', 'action': 'treated', 'object': 'pneumonia', 'phrase': [('War', 'NN-TL'), ('II', 'NNP'), ('this', 'DT'), ('drug', 'NN'), ('treated', 'VBN'), ('pneumonia', 'NN')]}\n"
     ]
    }
   ],
   "source": [
    "for each in propositions:\n",
    "    print(each)"
   ]
  },
  {
   "cell_type": "code",
   "execution_count": null,
   "metadata": {},
   "outputs": [],
   "source": []
  }
 ],
 "metadata": {
  "kernelspec": {
   "display_name": "Python 3",
   "language": "python",
   "name": "python3"
  },
  "language_info": {
   "codemirror_mode": {
    "name": "ipython",
    "version": 3
   },
   "file_extension": ".py",
   "mimetype": "text/x-python",
   "name": "python",
   "nbconvert_exporter": "python",
   "pygments_lexer": "ipython3",
   "version": "3.7.3"
  }
 },
 "nbformat": 4,
 "nbformat_minor": 2
}
