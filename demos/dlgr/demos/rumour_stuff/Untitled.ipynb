{
 "cells": [
  {
   "cell_type": "code",
   "execution_count": 1,
   "metadata": {},
   "outputs": [],
   "source": [
    "import pandas as pd\n",
    "import json\n",
    "import os\n",
    "\n",
    "# converts the info table to a csv where the column names are the dictionary keys in info.csv\n",
    "\n",
    "old_filename = 'pilot1_1by3.csv' # the filename of the uncleaned info.csv file\n",
    "new_filename = 'pilot1_1by3_cleaned.csv' # the cleaned pilot data filename\n",
    "\n",
    "os.chdir('/Users/mhardy/Documents/princeton_research/rumor_study/Dallinger/demos/dlgr/demos/rumour_stuff/data_analysis')\n",
    "\n",
    "first_loop=True\n",
    "data = pd.read_csv(old_filename)"
   ]
  },
  {
   "cell_type": "code",
   "execution_count": 3,
   "metadata": {},
   "outputs": [
    {
     "data": {
      "text/plain": [
       "'id'"
      ]
     },
     "execution_count": 3,
     "metadata": {},
     "output_type": "execute_result"
    }
   ],
   "source": [
    "data.columns[1]"
   ]
  },
  {
   "cell_type": "code",
   "execution_count": null,
   "metadata": {},
   "outputs": [],
   "source": []
  }
 ],
 "metadata": {
  "kernelspec": {
   "display_name": "Python 3",
   "language": "python",
   "name": "python3"
  },
  "language_info": {
   "codemirror_mode": {
    "name": "ipython",
    "version": 3
   },
   "file_extension": ".py",
   "mimetype": "text/x-python",
   "name": "python",
   "nbconvert_exporter": "python",
   "pygments_lexer": "ipython3",
   "version": "3.6.8"
  }
 },
 "nbformat": 4,
 "nbformat_minor": 2
}
